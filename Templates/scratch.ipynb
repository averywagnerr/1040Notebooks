{
 "cells": [
  {
   "attachments": {},
   "cell_type": "markdown",
   "metadata": {},
   "source": [
    "# ASTR 1040 Jupyter Notebook Homework Template\n",
    "\n",
    "This is a template file you can use to do your homeworks in. I recommend copying this each time you start a homework. The first cell (below) contains lots of helpful constants you may need to use throughout the semester. Make sure to run it each time before you start working! \n",
    "\n",
    "For reference, all of the `astropy` constants as well as examples can be found [here](https://docs.astropy.org/en/stable/constants/index.html). Likewise all of the units and their names / how to access them can be found [here](https://docs.astropy.org/en/stable/units/index.html). \n",
    "\n",
    "To create a variable with units you need to multiply by the corresponding unit class:\n",
    "\n",
    "```python\n",
    "d = 1 * units.au\n",
    "```\n",
    "\n",
    "You can then convert unitful quantities to other units by calling the `to` method and passing the desired end unit class: \n",
    "\n",
    "```python\n",
    "d_m = d.to(units.m)\n",
    "```\n",
    "\n",
    "If you have a ratio of quanities where all the units should cancel out, you can obtain the dimensionles number using the `dimesionless_unscaled` method. For example writing:\n",
    "```python\n",
    "d_m/d\n",
    "``` \n",
    "yields $1.4959787\\times 10^{11} \\rm{\\frac{m}{AU}}$, but doing:\n",
    "```python\n",
    "(d_m/d).to(units.dimensionless_unscaled)\n",
    "```\n",
    "returns `1.0` as expected."
   ]
  },
  {
   "cell_type": "code",
   "execution_count": 1,
   "metadata": {},
   "outputs": [],
   "source": [
    "#SETUP CELL (modify at your own peril)\n",
    "from astropy import units #access units by doing units.<unit> (i.e. units.au)\n",
    "from astropy import constants\n",
    "import numpy as np #common math functions (i.e. np.sin(x)) and better arrays (i.e. np.array([1,2,3])\n",
    "import matplotlib.pyplot as plt #plotting functions (i.e. plt.plot(x,y))\n",
    "G = constants.G # gravitational constant\n",
    "M_sun = constants.M_sun # mass of the sun\n",
    "R_sun = constants.R_sun # radius of the sun\n",
    "L_sun = constants.L_sun # luminosity of the sun\n",
    "M_earth = constants.M_earth # mass of the earth\n",
    "R_earth = constants.R_earth # radius of the earth\n",
    "M_jup = constants.M_jup # mass of jupiter\n",
    "R_jup = constants.R_jup # radius of jupiter\n",
    "sigma_sb = constants.sigma_sb # Stefan-Boltzmann constant\n",
    "c = constants.c # speed of light\n",
    "h = constants.h # Planck constant\n",
    "k_B = constants.k_B # Boltzmann constant\n",
    "m_e = constants.m_e # mass of electron\n",
    "m_p = constants.m_p # mass of proton \n",
    "m_n = constants.m_n # mass of neutron (basically just the mass of a proton but whatever)\n",
    "g0 = constants.g0 # standard gravity, 9.8 m/s^2\n",
    "e = constants.e # absolute value of electron/proton charge"
   ]
  },
  {
   "cell_type": "markdown",
   "metadata": {},
   "source": [
    "# MP 8\n",
    "\n",
    "(8). Aliens living on planet Blob have invented a really powerful cannon and use it to fire a projectile vertically upwards, a distance of 2750 km above the surface of the planet. The mass of planet Blob is 3.25×10^26kg and you may assume that it is spherical, with a radius of 7840 km. \n",
    "\n",
    "What is the initial speed of the projectile leaving the cannon? Assume that there is no atmosphere around planet Blob."
   ]
  },
  {
   "cell_type": "code",
   "execution_count": 20,
   "metadata": {},
   "outputs": [
    {
     "data": {
      "text/latex": [
       "$37907.04 \\; \\mathrm{\\frac{m}{s}}$"
      ],
      "text/plain": [
       "<Quantity 37907.04018622 m / s>"
      ]
     },
     "execution_count": 20,
     "metadata": {},
     "output_type": "execute_result"
    }
   ],
   "source": [
    "d = 2750 * units.km\n",
    "m_B = 3.25e26 * units.kg\n",
    "r_B = 7840 * units.km\n",
    "\n",
    "# Kf+Uf = Ki+Ui\n",
    "# -(G*m_B*m) / d  = 0.5*m*v**2 - G*m_B*m / r_B\n",
    "# 0.5*m*v**2 = (-G*m_B*m / d) + (G*m_B*m / r_B)\n",
    "# => ((1/2) * v**2) - ((G*M)/r_B) = -(G*M/d)\n",
    "# => \n",
    "\n",
    "# v = np.sqrt(2*((-G*m_B / (d+r_B)) + (G*m_B/ r_B))) \n",
    "# * dont forget: d+r_B for total distance from center\n",
    "\n",
    "gB = (G * m_B) / (r_B**2)\n",
    "U_f = -(G*m_B) / r_B \n",
    "v_i = np.sqrt(abs(2*((G*m_B / (r_B+d)) - (G*m_B/ r_B))))\n",
    "\n",
    "v_i.si\n"
   ]
  },
  {
   "cell_type": "code",
   "execution_count": null,
   "metadata": {},
   "outputs": [],
   "source": [
    "# ((1/2) * v_f**2) - ((G*M)/r) = -(G*M/R)\n",
    "# initial K has R=infinity, so approaches 0\n",
    "# ((1/2) * v_f**2) = -(G*M/R)\n",
    "# v_f = np.sqrt(abs(-2(G*M/R)))\n",
    "\n",
    "\n",
    "################################################################\n",
    "\n",
    "# ((1/2) * v_f**2) - ((G*M)/r) = -(G*M/R)\n",
    "# initial K has R=αR_m\n",
    "# ((1/2) * v_f**2) - ((G*M)/αR_m) = -(G*M/R)\n",
    "# ((1/2) * v_f**2) = ((G*M)/αR_m) - (G*M/R)\n",
    "\n",
    "# v_f = np.sqrt(abs(2((G*M)/αR_m) - (G*M/R))))\n",
    "\n",
    "\n",
    "\n"
   ]
  },
  {
   "cell_type": "code",
   "execution_count": 41,
   "metadata": {},
   "outputs": [
    {
     "data": {
      "text/latex": [
       "$0.00096911391 \\; \\mathrm{\\frac{J}{m}}$"
      ],
      "text/plain": [
       "<Quantity 0.00096911 J / m>"
      ]
     },
     "execution_count": 41,
     "metadata": {},
     "output_type": "execute_result"
    }
   ],
   "source": [
    "x1 = -490 * units.cm\n",
    "xc = 115 * units.cm\n",
    "x2 = 265 * units.cm\n",
    "m = 5900 * units.kg\n",
    "# d = abs(x1 + x2).to(units.m)\n",
    "d1 = abs(x1-xc)\n",
    "d2 = abs(x2-xc)\n",
    "\n",
    "F_g = lambda m1, m2, r: ((G * m1 * m2) / (r**2)).to(units.N)\n",
    "\n",
    "F_g1 = F_g(m,m,d1)\n",
    "F_g2 = F_g(m,m,d2)\n",
    "F_net = np.sqrt((F_g1**2) + (F_g2**2) - (2*F_g1*F_g2))\n",
    "# F_net = F_g1 + F_g2\n",
    "F_net.si # 0.001096\n",
    "# F_g1\n",
    "# F_g2"
   ]
  },
  {
   "cell_type": "code",
   "execution_count": 45,
   "metadata": {},
   "outputs": [
    {
     "data": {
      "text/latex": [
       "$1.0002276 \\; \\mathrm{}$"
      ],
      "text/plain": [
       "<Quantity 1.00022764>"
      ]
     },
     "execution_count": 45,
     "metadata": {},
     "output_type": "execute_result"
    }
   ],
   "source": [
    "r = 725 * units.m \n",
    "RE = 6370 * units.km\n",
    "ratio = ((RE + r)/RE)**2\n",
    "ratio"
   ]
  }
 ],
 "metadata": {
  "kernelspec": {
   "display_name": "Python 3 (ipykernel)",
   "language": "python",
   "name": "python3"
  },
  "language_info": {
   "codemirror_mode": {
    "name": "ipython",
    "version": 3
   },
   "file_extension": ".py",
   "mimetype": "text/x-python",
   "name": "python",
   "nbconvert_exporter": "python",
   "pygments_lexer": "ipython3",
   "version": "3.10.0"
  }
 },
 "nbformat": 4,
 "nbformat_minor": 4
}
