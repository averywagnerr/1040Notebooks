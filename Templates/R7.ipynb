{
 "cells": [
  {
   "attachments": {},
   "cell_type": "markdown",
   "metadata": {},
   "source": [
    "# ASTR 1040 Jupyter Notebook Homework Template\n",
    "\n",
    "This is a template file you can use to do your homeworks in. I recommend copying this each time you start a homework. The first cell (below) contains lots of helpful constants you may need to use throughout the semester. Make sure to run it each time before you start working! \n",
    "\n",
    "For reference, all of the `astropy` constants as well as examples can be found [here](https://docs.astropy.org/en/stable/constants/index.html). Likewise all of the units and their names / how to access them can be found [here](https://docs.astropy.org/en/stable/units/index.html). \n",
    "\n",
    "To create a variable with units you need to multiply by the corresponding unit class:\n",
    "\n",
    "```python\n",
    "d = 1 * units.au\n",
    "```\n",
    "\n",
    "You can then convert unitful quantities to other units by calling the `to` method and passing the desired end unit class: \n",
    "\n",
    "```python\n",
    "d_m = d.to(units.m)\n",
    "```\n",
    "\n",
    "If you have a ratio of quanities where all the units should cancel out, you can obtain the dimensionles number using the `dimesionless_unscaled` method. For example writing:\n",
    "```python\n",
    "d_m/d\n",
    "``` \n",
    "yields $1.4959787\\times 10^{11} \\rm{\\frac{m}{AU}}$, but doing:\n",
    "```python\n",
    "(d_m/d).to(units.dimensionless_unscaled)\n",
    "```\n",
    "returns `1.0` as expected."
   ]
  },
  {
   "cell_type": "code",
   "execution_count": 1,
   "metadata": {},
   "outputs": [],
   "source": [
    "#SETUP CELL (modify at your own peril)\n",
    "from astropy import units #access units by doing units.<unit> (i.e. units.au)\n",
    "from astropy import constants\n",
    "import numpy as np #common math functions (i.e. np.sin(x)) and better arrays (i.e. np.array([1,2,3])\n",
    "import matplotlib.pyplot as plt #plotting functions (i.e. plt.plot(x,y))\n",
    "G = constants.G # gravitational constant\n",
    "M_sun = constants.M_sun # mass of the sun\n",
    "R_sun = constants.R_sun # radius of the sun\n",
    "L_sun = constants.L_sun # luminosity of the sun\n",
    "M_earth = constants.M_earth # mass of the earth\n",
    "R_earth = constants.R_earth # radius of the earth\n",
    "M_jup = constants.M_jup # mass of jupiter\n",
    "R_jup = constants.R_jup # radius of jupiter\n",
    "sigma_sb = constants.sigma_sb # Stefan-Boltzmann constant\n",
    "c = constants.c # speed of light\n",
    "h = constants.h # Planck constant\n",
    "k_B = constants.k_B # Boltzmann constant\n",
    "m_e = constants.m_e # mass of electron\n",
    "m_p = constants.m_p # mass of proton \n",
    "m_n = constants.m_n # mass of neutron (basically just the mass of a proton but whatever)\n",
    "g0 = constants.g0 # standard gravity, 9.8 m/s^2\n",
    "e = constants.e # absolute value of electron/proton charge"
   ]
  },
  {
   "cell_type": "markdown",
   "metadata": {},
   "source": [
    "# SPECIAL VS GENERAL RELATIVITY\n",
    "\n",
    "- What is the Schwarzschild metric? $\\to$ different for stationary ($t_0 = t_{∞}\\sqrt{1-\\frac{2GM}{rc^2}}$) vs orbiting observer ($t_0 = t_{∞}\\sqrt{1-\\frac{3R_s}{2r}}, (r>R_s)$)\n",
    "\n",
    "1. GPS satellites orbit at an altitude of ~20,000 km\n",
    "\n",
    "    a. What is the velocity of a circular orbit for such a satellite?"
   ]
  },
  {
   "cell_type": "code",
   "execution_count": 3,
   "metadata": {},
   "outputs": [
    {
     "data": {
      "text/latex": [
       "$4464.3051 \\; \\mathrm{\\frac{m}{s}}$"
      ],
      "text/plain": [
       "<Quantity 4464.3050971 m / s>"
      ]
     },
     "execution_count": 3,
     "metadata": {},
     "output_type": "execute_result"
    }
   ],
   "source": [
    "r = 20000 * units.km\n",
    "v = np.sqrt((G * M_earth)/r)\n",
    "v.si"
   ]
  },
  {
   "cell_type": "markdown",
   "metadata": {},
   "source": [
    "b. Compare the magnitudes of the gravitational and special relativistic time dilation\n",
    "\n",
    "SR: ∆t'/∆t = γ\n",
    "GR: t_o / t_∞ (\"t_observer / t_infintitely_far_away_observer\")\n",
    "\n",
    "*We don't have an actual 'infinite distance', so we need to rewrite...*\n",
    "\n",
    "- (t_o / t_∞) / (t_s / t_∞) => t_o / t_s = $$\\frac{\\sqrt{1-R_s/R_o}}{\\sqrt{1-\\frac{3R_s}{2r}}}$$"
   ]
  },
  {
   "cell_type": "code",
   "execution_count": 13,
   "metadata": {},
   "outputs": [
    {
     "data": {
      "text/latex": [
       "$1 \\; \\mathrm{}$"
      ],
      "text/plain": [
       "<Quantity 1.>"
      ]
     },
     "execution_count": 13,
     "metadata": {},
     "output_type": "execute_result"
    }
   ],
   "source": [
    "# SR = ∆t'/∆t = γ\n",
    "# GR = t_o / t_∞ (\"t_observer / t_infintitely_far_away_observer\")\n",
    "R_s = 2*G*M_earth/c**2\n",
    "R_o = R_earth\n",
    "\n",
    "t_o = (np.sqrt(1-(R_s/R_o))).si\n",
    "t_s = (np.sqrt(1-(3/2)*(R_s/r))).si\n",
    "t_s/t_o\n",
    "\n",
    "# i did this wrong .. answer should be ~38 microseconds per day..."
   ]
  },
  {
   "cell_type": "markdown",
   "metadata": {},
   "source": [
    "# How to Make a Plot in Python\n",
    "\n",
    "**Making a function**\n",
    "\n",
    "```python\n",
    "def v(M,r): \n",
    "    return np.sqrt(G*M/r)\n",
    "```\n",
    "\n",
    "**Make a plot from a function** (using matplotlib)\n",
    "\n",
    "```python\n",
    "rList = np.linspace(1,100,100)*u.R_earth\n",
    "\n",
    "vList = [v(M,r) for r in rList]\n",
    "\n",
    "plt.plot([r.si.value for r in rList], [v.si.value for v in vList]) # can't input units, only values\n",
    "plt.show()\n",
    "```"
   ]
  },
  {
   "cell_type": "code",
   "execution_count": 18,
   "metadata": {},
   "outputs": [
    {
     "data": {
      "text/latex": [
       "$1.6303276 \\; \\mathrm{}$"
      ],
      "text/plain": [
       "<Quantity 1.63032761>"
      ]
     },
     "execution_count": 18,
     "metadata": {},
     "output_type": "execute_result"
    }
   ],
   "source": [
    "v_0 = lambda m, M, theta: ((m+M)/m)*np.sqrt(2*g0*(1-np.cos(theta))) # * sqrt(L)\n",
    "M = 10 *units.kg\n",
    "v1 = v_0(3*units.g,M,6.6*units.deg)\n",
    "v2 = v_0(8*units.g,M,10.8*units.deg)\n",
    "v1/v2"
   ]
  }
 ],
 "metadata": {
  "kernelspec": {
   "display_name": "Python 3 (ipykernel)",
   "language": "python",
   "name": "python3"
  }
 },
 "nbformat": 4,
 "nbformat_minor": 4
}
