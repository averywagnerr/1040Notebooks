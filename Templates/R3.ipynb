{
 "cells": [
  {
   "attachments": {},
   "cell_type": "markdown",
   "metadata": {},
   "source": [
    "# ASTR 1040 Jupyter Notebook Homework Template\n",
    "\n",
    "This is a template file you can use to do your homeworks in. I recommend copying this each time you start a homework. The first cell (below) contains lots of helpful constants you may need to use throughout the semester. Make sure to run it each time before you start working! \n",
    "\n",
    "For reference, all of the `astropy` constants as well as examples can be found [here](https://docs.astropy.org/en/stable/constants/index.html). Likewise all of the units and their names / how to access them can be found [here](https://docs.astropy.org/en/stable/units/index.html). \n",
    "\n",
    "To create a variable with units you need to multiply by the corresponding unit class:\n",
    "\n",
    "```python\n",
    "d = 1 * units.au\n",
    "```\n",
    "\n",
    "You can then convert unitful quantities to other units by calling the `to` method and passing the desired end unit class: \n",
    "\n",
    "```python\n",
    "d_m = d.to(units.m)\n",
    "```\n",
    "\n",
    "If you have a ratio of quanities where all the units should cancel out, you can obtain the dimensionles number using the `dimesionless_unscaled` method. For example writing:\n",
    "```python\n",
    "d_m/d\n",
    "``` \n",
    "yields $1.4959787\\times 10^{11} \\rm{\\frac{m}{AU}}$, but doing:\n",
    "```python\n",
    "(d_m/d).to(units.dimensionless_unscaled)\n",
    "```\n",
    "returns `1.0` as expected."
   ]
  },
  {
   "cell_type": "code",
   "execution_count": 2,
   "metadata": {},
   "outputs": [],
   "source": [
    "#SETUP CELL (modify at your own peril)\n",
    "from astropy import units #access units by doing units.<unit> (i.e. units.au)\n",
    "from astropy import constants\n",
    "import numpy as np #common math functions (i.e. np.sin(x)) and better arrays (i.e. np.array([1,2,3])\n",
    "import matplotlib.pyplot as plt #plotting functions (i.e. plt.plot(x,y))\n",
    "G = constants.G # gravitational constant\n",
    "M_sun = constants.M_sun # mass of the sun\n",
    "R_sun = constants.R_sun # radius of the sun\n",
    "L_sun = constants.L_sun # luminosity of the sun\n",
    "M_earth = constants.M_earth # mass of the earth\n",
    "R_earth = constants.R_earth # radius of the earth\n",
    "M_jup = constants.M_jup # mass of jupiter\n",
    "R_jup = constants.R_jup # radius of jupiter\n",
    "sigma_sb = constants.sigma_sb # Stefan-Boltzmann constant\n",
    "c = constants.c # speed of light\n",
    "h = constants.h # Planck constant\n",
    "k_B = constants.k_B # Boltzmann constant\n",
    "m_e = constants.m_e # mass of electron\n",
    "m_p = constants.m_p # mass of proton \n",
    "m_n = constants.m_n # mass of neutron (basically just the mass of a proton but whatever)\n",
    "g0 = constants.g0 # standard gravity, 9.8 m/s^2\n",
    "e = constants.e # absolute value of electron/proton charge"
   ]
  },
  {
   "cell_type": "markdown",
   "metadata": {},
   "source": [
    "# Practice Problem 1: Quantum Mechanical Uncertainty\n",
    "\n",
    "The Sun's core has temps of ~14 mil Kº with large fluctuations of ~1 mil Kº. Calculate the quantum uncertainty in position for a proton with the kinetic energy associated with such fluctuations.\n",
    "\n",
    "x = position\n",
    "p = momentum\n",
    "h = Planck's constant\n",
    "\n",
    "Uncertainty Equation: dx * dp ≥ h / 4pi\n",
    "\n",
    "**IMPORTANT EQUATION!**\n",
    "    E = 1/2 * m * v^2 = p^2 / 2*m\n",
    "    --> E/m = 3/2 * k * T\n",
    "\n",
    "* dx ≥ h / 4*pi * (1 / dp)"
   ]
  },
  {
   "cell_type": "code",
   "execution_count": null,
   "metadata": {},
   "outputs": [],
   "source": []
  },
  {
   "cell_type": "markdown",
   "metadata": {},
   "source": [
    "## Stellar Points\n",
    "\n",
    "1. In space, gravity is *not* the constant acceleration, but instead depends (in simple Newtonian land) the inverse of your distance form the center of the object squared. You only feel the gravity of stuff interior to you, so in a star, or bigggg objects, there is a *gradient* in the strength of gravity - i.e. it differs according to your distance form it.\n",
    "2. For things to be in *equilibrium* there can be no net forces\n",
    "\n",
    "## What's After Neutron Stars?\n",
    "Eventually, gravity wins out over the neutron star's internal pressure such that it collapses and forms a black hole.\n",
    "\n",
    "# Practice Problem 2: Squeezing yourself into a black hole\n",
    "\n",
    "Schwarzschild radius: R_s = 2 * G * M / c^2, where G is the gravitational constant and M is the mass of the black hole.\n",
    "\n",
    "Convert your approximate weight to kg and calculate how small you would have to get squished down to form a black hole.\n"
   ]
  },
  {
   "cell_type": "code",
   "execution_count": 3,
   "metadata": {},
   "outputs": [
    {
     "data": {
      "text/latex": [
       "$7.4261603 \\times 10^{-26} \\; \\mathrm{m}$"
      ],
      "text/plain": [
       "<Quantity 7.42616027e-26 m>"
      ]
     },
     "execution_count": 3,
     "metadata": {},
     "output_type": "execute_result"
    }
   ],
   "source": [
    "R_s = (2 * G * (50 * units.kg)) / (c**2)\n",
    "R_s"
   ]
  },
  {
   "cell_type": "code",
   "execution_count": 17,
   "metadata": {},
   "outputs": [
    {
     "data": {
      "text/latex": [
       "$4.8440211 \\; \\mathrm{\\frac{AU^{3}}{yr^{2}}}$"
      ],
      "text/plain": [
       "<Quantity 4.84402114 AU3 / yr2>"
      ]
     },
     "execution_count": 17,
     "metadata": {},
     "output_type": "execute_result"
    }
   ],
   "source": [
    "P = 0.5 * units.yr\n",
    "v = 80000 * (units.m / units.s)\n",
    "r = ((v*P)/(2*np.pi))\n",
    "a = r.to(units.AU)\n",
    "M = ((a**3)/(P**2)) / 2\n",
    "M\n"
   ]
  }
 ],
 "metadata": {
  "kernelspec": {
   "display_name": "Python 3 (ipykernel)",
   "language": "python",
   "name": "python3"
  },
  "language_info": {
   "codemirror_mode": {
    "name": "ipython",
    "version": 3
   },
   "file_extension": ".py",
   "mimetype": "text/x-python",
   "name": "python",
   "nbconvert_exporter": "python",
   "pygments_lexer": "ipython3",
   "version": "3.10.0"
  }
 },
 "nbformat": 4,
 "nbformat_minor": 4
}
