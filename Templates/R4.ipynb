{
 "cells": [
  {
   "attachments": {},
   "cell_type": "markdown",
   "metadata": {},
   "source": [
    "# ASTR 1040 Jupyter Notebook Homework Template\n",
    "\n",
    "This is a template file you can use to do your homeworks in. I recommend copying this each time you start a homework. The first cell (below) contains lots of helpful constants you may need to use throughout the semester. Make sure to run it each time before you start working! \n",
    "\n",
    "For reference, all of the `astropy` constants as well as examples can be found [here](https://docs.astropy.org/en/stable/constants/index.html). Likewise all of the units and their names / how to access them can be found [here](https://docs.astropy.org/en/stable/units/index.html). \n",
    "\n",
    "To create a variable with units you need to multiply by the corresponding unit class:\n",
    "\n",
    "```python\n",
    "d = 1 * units.au\n",
    "```\n",
    "\n",
    "You can then convert unitful quantities to other units by calling the `to` method and passing the desired end unit class: \n",
    "\n",
    "```python\n",
    "d_m = d.to(units.m)\n",
    "```\n",
    "\n",
    "If you have a ratio of quanities where all the units should cancel out, you can obtain the dimensionles number using the `dimesionless_unscaled` method. For example writing:\n",
    "```python\n",
    "d_m/d\n",
    "``` \n",
    "yields $1.4959787\\times 10^{11} \\rm{\\frac{m}{AU}}$, but doing:\n",
    "```python\n",
    "(d_m/d).to(units.dimensionless_unscaled)\n",
    "```\n",
    "returns `1.0` as expected."
   ]
  },
  {
   "cell_type": "code",
   "execution_count": 1,
   "metadata": {},
   "outputs": [],
   "source": [
    "#SETUP CELL (modify at your own peril)\n",
    "from astropy import units #access units by doing units.<unit> (i.e. units.au)\n",
    "from astropy import constants\n",
    "import numpy as np #common math functions (i.e. np.sin(x)) and better arrays (i.e. np.array([1,2,3])\n",
    "import matplotlib.pyplot as plt #plotting functions (i.e. plt.plot(x,y))\n",
    "G = constants.G # gravitational constant\n",
    "M_sun = constants.M_sun # mass of the sun\n",
    "R_sun = constants.R_sun # radius of the sun\n",
    "L_sun = constants.L_sun # luminosity of the sun\n",
    "M_earth = constants.M_earth # mass of the earth\n",
    "R_earth = constants.R_earth # radius of the earth\n",
    "M_jup = constants.M_jup # mass of jupiter\n",
    "R_jup = constants.R_jup # radius of jupiter\n",
    "sigma_sb = constants.sigma_sb # Stefan-Boltzmann constant\n",
    "c = constants.c # speed of light\n",
    "h = constants.h # Planck constant\n",
    "k_B = constants.k_B # Boltzmann constant\n",
    "m_e = constants.m_e # mass of electron\n",
    "m_p = constants.m_p # mass of proton \n",
    "m_n = constants.m_n # mass of neutron (basically just the mass of a proton but whatever)\n",
    "g0 = constants.g0 # standard gravity, 9.8 m/s^2\n",
    "e = constants.e # absolute value of electron/proton charge"
   ]
  },
  {
   "cell_type": "markdown",
   "metadata": {},
   "source": [
    "Why are red giant stars so luminous?: $L = A\\sigma T^4$\n",
    "\n",
    "# Practice Problem 1: Your Weight on a White Dwarf\n",
    "\n",
    "White Dwarf radius is roughly that of Earth and the mass of the Sun. Use Newton's law of gravitation to find your weight in Newtons, then convert to lbs. Then set up a ratio: how much more do you weigh comparatively to yourself on Earth? Safe to land? Use Newton's 2nd law or mass of Earth to do this ratio.\n"
   ]
  },
  {
   "cell_type": "code",
   "execution_count": 4,
   "metadata": {},
   "outputs": [
    {
     "data": {
      "text/latex": [
       "$27.984177 \\; \\mathrm{}$"
      ],
      "text/plain": [
       "<Quantity 27.9841774>"
      ]
     },
     "execution_count": 4,
     "metadata": {},
     "output_type": "execute_result"
    }
   ],
   "source": [
    "\n",
    "# F = G * M * m / r**2\n",
    "# m = F * r**2 / G * M\n",
    "m = 50*units.kg\n",
    "F = G * M_sun * m / R_sun**2\n",
    "F.to(units.N)\n",
    "F.to(units.imperial.lbf)\n",
    "F_earth = G*m*M_earth/R_earth**2\n",
    "F/F_earth"
   ]
  },
  {
   "cell_type": "markdown",
   "metadata": {},
   "source": [
    "# Practice Problem 2: Deriving the Parsec\n",
    "\n",
    "$\\alpha = 1$; use small angle approx. AND trig.\n"
   ]
  },
  {
   "cell_type": "code",
   "execution_count": 16,
   "metadata": {},
   "outputs": [
    {
     "data": {
      "text/latex": [
       "$3.2615638 \\; \\mathrm{lyr}$"
      ],
      "text/plain": [
       "<Quantity 3.26156378 lyr>"
      ]
     },
     "execution_count": 16,
     "metadata": {},
     "output_type": "execute_result"
    }
   ],
   "source": [
    "# 1: small angle\n",
    "\n",
    "# distance from center to edge is 1AU!\n",
    "# alpha is angle from the star, looking 'down'\n",
    "'''\n",
    " /*\\\n",
    "/_x_\\\n",
    "'''\n",
    "\n",
    "alpha = (1 * units.arcsec).to(units.radian)\n",
    "if alpha < (1*units.radian): \n",
    "    x = 1 * units.AU\n",
    "    # x / d = alpha => d = x / alpha\n",
    "    # arcsin(x/d) = alpha\n",
    "    d = x / alpha\n",
    "(d*units.rad).to(units.lyr)\n",
    "# d.to(units.AU)"
   ]
  },
  {
   "cell_type": "code",
   "execution_count": 15,
   "metadata": {},
   "outputs": [
    {
     "data": {
      "text/latex": [
       "$3.2615638 \\; \\mathrm{lyr}$"
      ],
      "text/plain": [
       "<Quantity 3.26156378 lyr>"
      ]
     },
     "execution_count": 15,
     "metadata": {},
     "output_type": "execute_result"
    }
   ],
   "source": [
    "# 2. Trigonometry\n",
    "\n",
    "alpha = (1 * units.arcsec).to(units.radian)\n",
    "\n",
    "x = 1 * units.AU\n",
    "d = x / np.sin(alpha)\n",
    "\n",
    "d.to(units.lyr)\n",
    "\n"
   ]
  }
 ],
 "metadata": {
  "kernelspec": {
   "display_name": "Python 3 (ipykernel)",
   "language": "python",
   "name": "python3"
  }
 },
 "nbformat": 4,
 "nbformat_minor": 4
}
