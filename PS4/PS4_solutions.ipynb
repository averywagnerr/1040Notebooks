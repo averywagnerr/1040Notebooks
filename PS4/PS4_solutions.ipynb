{
 "cells": [
  {
   "cell_type": "markdown",
   "metadata": {},
   "source": [
    "# ASTR 1040 Problem Set 4\n",
    "\n",
    "For reference, all of the `astropy` constants as well as examples can be found [here](https://docs.astropy.org/en/stable/constants/index.html). Likewise all of the units and their names / how to access them can be found [here](https://docs.astropy.org/en/stable/units/index.html). \n",
    "\n",
    "To create a variable with units you need to multiply by the corresponding unit class:\n",
    "\n",
    "```python\n",
    "d = 1 * units.au\n",
    "```\n",
    "\n",
    "You can then convert unitful quantities to other units by calling the `to` method and passing the desired end unit class: \n",
    "\n",
    "```python\n",
    "d_m = d.to(units.m)\n",
    "```\n",
    "\n",
    "If you have a ratio of quanities where all the units should cancel out, you can obtain the dimensionles number using the `dimesionless_unscaled` method. For example writing:\n",
    "```python\n",
    "d_m/d\n",
    "``` \n",
    "yields $1.4959787\\times 10^{11} \\rm{\\frac{m}{AU}}$, but doing:\n",
    "```python\n",
    "(d_m/d).to(units.dimensionless_unscaled)\n",
    "```\n",
    "returns `1.0` as expected.\n",
    "\n",
    "Sometimes you may get things in weird units that you think should cancel out. If that's the case, you can always convert the units (see above) or just tack on `.si` to the end of a quantity with units to get it in base SI units."
   ]
  },
  {
   "cell_type": "code",
   "execution_count": 1,
   "metadata": {},
   "outputs": [],
   "source": [
    "#SETUP CELL (modify at your own peril)\n",
    "from astropy import units #access units by doing units.<unit> (i.e. units.au)\n",
    "from astropy import constants\n",
    "import numpy as np #common math functions (i.e. np.sin(x)) and better arrays (i.e. np.array([1,2,3])\n",
    "import matplotlib.pyplot as plt #plotting functions (i.e. plt.plot(x,y))\n",
    "G = constants.G # gravitational constant\n",
    "M_sun = constants.M_sun # mass of the sun\n",
    "R_sun = constants.R_sun # radius of the sun\n",
    "L_sun = constants.L_sun # luminosity of the sun\n",
    "M_earth = constants.M_earth # mass of the earth\n",
    "R_earth = constants.R_earth # radius of the earth\n",
    "M_jup = constants.M_jup # mass of jupiter\n",
    "R_jup = constants.R_jup # radius of jupiter\n",
    "sigma_sb = constants.sigma_sb # Stefan-Boltzmann constant\n",
    "b_wien = constants.b_wien # Wien's displacement constant\n",
    "c = constants.c # speed of light\n",
    "h = constants.h # Planck constant\n",
    "k_B = constants.k_B # Boltzmann constant\n",
    "m_e = constants.m_e # mass of electron\n",
    "m_p = constants.m_p # mass of proton \n",
    "m_n = constants.m_n # mass of neutron (basically just the mass of a proton but whatever)\n",
    "g0 = constants.g0 # standard gravity, 9.8 m/s^2\n",
    "e = constants.e # absolute value of electron/proton charge"
   ]
  },
  {
   "cell_type": "markdown",
   "metadata": {},
   "source": [
    "## Q1 (20 points)\n",
    "\n",
    "### Escape velocity from a red giant\n",
    "\n",
    "a.) What is the escape velocity from a red giant with the mass of the sun and radius $100 R_\\odot$? How does\n",
    "that velocity compare with the escape velocity of the Sun? \n",
    "\n",
    "Use the code cell below to calculate and report your answer. \n",
    "\n",
    "***We don't really even need to code this up, as the escape velocity depends on the square root of the mass divided by the radius. In this problem only the radius is changing, so the answer will be the square root of the ratio of the radii, which is just 1/10. Nevertheless we can verify this in code:***"
   ]
  },
  {
   "cell_type": "code",
   "execution_count": 3,
   "metadata": {},
   "outputs": [
    {
     "data": {
      "text/latex": [
       "$0.1 \\; \\mathrm{}$"
      ],
      "text/plain": [
       "<Quantity 0.1>"
      ]
     },
     "execution_count": 3,
     "metadata": {},
     "output_type": "execute_result"
    }
   ],
   "source": [
    "vEscRG = np.sqrt(2*G*M_sun/(100*R_sun))\n",
    "vEscSun = np.sqrt(2*G*M_sun/(R_sun))\n",
    "ratio = vEscRG/vEscSun\n",
    "ratio #the red giant escape velocity is 10 times less as expected!"
   ]
  },
  {
   "cell_type": "markdown",
   "metadata": {},
   "source": [
    "b.) Describe how your results help account for\n",
    "the fact that red giants have strong stellar winds.\n",
    "\n",
    "Use the markdown cell below to provide your answer."
   ]
  },
  {
   "cell_type": "markdown",
   "metadata": {},
   "source": [
    "***It's 10x easier to escape from our theoretical red giant, so much more material will be driven out as winds. Thus, we would expect red giants to have strong stellar winds because their radii is much larger than during their main sequence lives***"
   ]
  },
  {
   "cell_type": "markdown",
   "metadata": {},
   "source": [
    "## Q2 (30 points)\n",
    "\n",
    "### The sizes of black holes\n",
    "\n",
    "Use the code cells below to calculate the Schwarszchild radius for each of the following:\n",
    "\n",
    "a.) a $10^8 M_\\odot$ black hole at the center of a galaxy (**report your answer in AU**)"
   ]
  },
  {
   "cell_type": "code",
   "execution_count": 13,
   "metadata": {},
   "outputs": [
    {
     "name": "stdout",
     "output_type": "stream",
     "text": [
      "a 1e8 solar mass black hole has a Schwarszchild radius of 2 AU\n"
     ]
    }
   ],
   "source": [
    "Rs = lambda M : 2*G*M/c**2 #define a function we can plug our M values into\n",
    "print(\"a 1e8 solar mass black hole has a Schwarszchild radius of {:.2g}\".format(Rs(1e8*M_sun).to(units.AU)))"
   ]
  },
  {
   "cell_type": "markdown",
   "metadata": {},
   "source": [
    "b.) A $5 M_\\odot$ black hole remaining after the supernova of a massive star (**report your answer in km**)"
   ]
  },
  {
   "cell_type": "code",
   "execution_count": 12,
   "metadata": {},
   "outputs": [
    {
     "name": "stdout",
     "output_type": "stream",
     "text": [
      "a 5 solar mass black hole has a Schwarszchild radius of 15 km\n"
     ]
    }
   ],
   "source": [
    "print(\"a 5 solar mass black hole has a Schwarszchild radius of {:.2g}\".format(Rs(5*M_sun).to(units.km)))"
   ]
  },
  {
   "cell_type": "markdown",
   "metadata": {},
   "source": [
    "c.) A mini black hole that would be formed if you were squeezed into your own event horizon (**report your answer in m**)"
   ]
  },
  {
   "cell_type": "code",
   "execution_count": 11,
   "metadata": {},
   "outputs": [
    {
     "name": "stdout",
     "output_type": "stream",
     "text": [
      "a 50kg black hole has a Schwarszchild radius of 7.4e-26 m\n"
     ]
    }
   ],
   "source": [
    "print(\"a 50kg black hole has a Schwarszchild radius of {:.2g}\".format(Rs(50*units.kg).to(units.m)))"
   ]
  },
  {
   "cell_type": "markdown",
   "metadata": {},
   "source": [
    "## Q3 (40 pts)\n",
    "\n",
    "### Neutron stars\n",
    "\n",
    "A larger star may collapse into a neutron star. A neutron star with mass $2 M_\\odot$ may have a radius as small as 12 km! Let's examine some of their properties:\n",
    "\n",
    "a.) What is the mass density of a neutron star? Use the code cell below to calculate and provide your answer in $\\rm{kg/m^3}$."
   ]
  },
  {
   "cell_type": "code",
   "execution_count": 15,
   "metadata": {},
   "outputs": [
    {
     "data": {
      "text/latex": [
       "$5.4941885 \\times 10^{26} \\; \\mathrm{\\frac{kg}{km^{3}}}$"
      ],
      "text/plain": [
       "<Quantity 5.49418854e+26 kg / km3>"
      ]
     },
     "execution_count": 15,
     "metadata": {},
     "output_type": "execute_result"
    }
   ],
   "source": [
    "M = 2*M_sun; r = 12*units.km; V = 4/3*np.pi*r**3\n",
    "ρ = M/V\n",
    "ρ"
   ]
  },
  {
   "cell_type": "markdown",
   "metadata": {},
   "source": [
    "b.) What is the gravitational acceleration at the surface of the neutron star? Use the code cell below to calculate and report your answer in terms of `g0` (the acceleration due to gravity on Earth)."
   ]
  },
  {
   "cell_type": "code",
   "execution_count": 18,
   "metadata": {},
   "outputs": [
    {
     "data": {
      "text/latex": [
       "$1.8795698 \\times 10^{11} \\; \\mathrm{}$"
      ],
      "text/plain": [
       "<Quantity 1.87956982e+11>"
      ]
     },
     "execution_count": 18,
     "metadata": {},
     "output_type": "execute_result"
    }
   ],
   "source": [
    "a = G*M/r**2\n",
    "(a/g0).si"
   ]
  },
  {
   "cell_type": "markdown",
   "metadata": {},
   "source": [
    "c.) Assuming that gravity was constant, if one were to drop a 1 kg object from a distance of 1 m above the surface, how fast would it be traveling when it hit the surface? \n",
    "\n",
    "*Hint:* potential energy in this problem can be expressed as $U = ma_gh$. \n",
    "\n",
    "Use the code cell below to calculate and report your answer in $\\rm{m/s}$."
   ]
  },
  {
   "cell_type": "code",
   "execution_count": 21,
   "metadata": {},
   "outputs": [
    {
     "data": {
      "text/latex": [
       "$1920014.8 \\; \\mathrm{\\frac{m}{s}}$"
      ],
      "text/plain": [
       "<Quantity 1920014.75688773 m / s>"
      ]
     },
     "execution_count": 21,
     "metadata": {},
     "output_type": "execute_result"
    }
   ],
   "source": [
    "ΔU = 1*units.kg*a*1*units.m\n",
    "v = np.sqrt(2/(1*units.kg)*ΔU)\n",
    "v.si"
   ]
  },
  {
   "cell_type": "markdown",
   "metadata": {},
   "source": [
    "d.) What if you dropped the same 1 kg object from very far away (assume infinite distance) &mdash; how fast would the object be traveling as it reached the surface of the neutron star? Do you think we need to apply relativity to this problem?\n",
    "\n",
    "***The key here is to take a limit, i.e. what is the change in potential energy from very far away to the surface?***\n",
    "\n",
    "$$\\Delta U = -\\frac{GMm}{r_\\infty} - \\left(-\\frac{GMm}{r_*}\\right) \\rightarrow {\\Delta U = 0 + \\frac{GMm}{r_*} = \\Delta K = \\frac{1}{2}m\\Delta v^2}$$\n",
    "\n",
    "***You can simplify this then to recover the escape velocity equation (because this is essentially the opposite problem!):***\n",
    "\n",
    "$$\\boxed{\\Delta v = \\sqrt{\\frac{2GM}{r}}}$$\n",
    "Use the code cell and/or markdown cells below to calculate and provide your answer in terms of the speed of light."
   ]
  },
  {
   "cell_type": "code",
   "execution_count": 26,
   "metadata": {},
   "outputs": [
    {
     "name": "stdout",
     "output_type": "stream",
     "text": [
      "the parcel will be travelling 0.702 % the speed of light (γ = 1.4)\n"
     ]
    }
   ],
   "source": [
    "Δv = np.sqrt(2*G*M/r)\n",
    "γ = 1/np.sqrt(1-(Δv/c)**2)\n",
    "print(\"the parcel will be travelling {:.3g} % the speed of light (γ = {:.3g})\".format((Δv/c).si,γ.si))"
   ]
  },
  {
   "cell_type": "markdown",
   "metadata": {},
   "source": [
    "***70% the speed of light is quite a lot (and we can see $\\gamma$ is significantly larger than 1) so relativistic effects will apply here.***"
   ]
  },
  {
   "cell_type": "markdown",
   "metadata": {},
   "source": [
    "## Q4 (5 pts)\n",
    "\n",
    "Why can't iron be fused to release energy? \n",
    "\n",
    "Use the markdown cell below to provide your answer."
   ]
  },
  {
   "cell_type": "markdown",
   "metadata": {},
   "source": [
    "***The number of neutrons required to hold atomic nuclei heavier than iron together means that there isn't a mass delta we can get energy from, thus fusing iron to heavier elements actually takes extra energy! This is shown in the famous nuclear reaction curve plot, where elements heavier than iron liberate energy when they are broken apart (through fission) and elements lighter than iron liberate energy through fusion.***"
   ]
  },
  {
   "cell_type": "markdown",
   "metadata": {},
   "source": [
    "## Q5 (5 pts)\n",
    "\n",
    "Why is there a mass limit on white dwarfs? \n",
    "\n",
    "Use the markdown cell below to provide your answer."
   ]
  },
  {
   "cell_type": "markdown",
   "metadata": {},
   "source": [
    "***The limit comes from the fact that, as you try to squish the electrons tighter and tighter together they are forced to higher and higher velocities, and eventually these velocities become relativistic. It turns out that relativistic gases do not create the same pressure profile as non-relativistic ones, and thus the degeneracy pressure created by the relativistic electrons is no longer enough to match the increase in gravitational pressure caused by adding mass. The limit where this happens turns out to be around 1.4 $M_\\odot$, thus this is the limit for a white dwarf. Above this limit the atoms collide and fusion reignites, ripping the star apart in a type 1a supernova.***"
   ]
  }
 ],
 "metadata": {
  "kernelspec": {
   "display_name": "Python 3 (ipykernel)",
   "language": "python",
   "name": "python3"
  },
  "language_info": {
   "codemirror_mode": {
    "name": "ipython",
    "version": 3
   },
   "file_extension": ".py",
   "mimetype": "text/x-python",
   "name": "python",
   "nbconvert_exporter": "python",
   "pygments_lexer": "ipython3",
   "version": "3.11.5"
  }
 },
 "nbformat": 4,
 "nbformat_minor": 2
}
