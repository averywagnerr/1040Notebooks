{
 "cells": [
  {
   "cell_type": "markdown",
   "metadata": {},
   "source": [
    "# ASTR 1040 Problem Set 4\n",
    "\n",
    "For reference, all of the `astropy` constants as well as examples can be found [here](https://docs.astropy.org/en/stable/constants/index.html). Likewise all of the units and their names / how to access them can be found [here](https://docs.astropy.org/en/stable/units/index.html). \n",
    "\n",
    "To create a variable with units you need to multiply by the corresponding unit class:\n",
    "\n",
    "```python\n",
    "d = 1 * units.au\n",
    "```\n",
    "\n",
    "You can then convert unitful quantities to other units by calling the `to` method and passing the desired end unit class: \n",
    "\n",
    "```python\n",
    "d_m = d.to(units.m)\n",
    "```\n",
    "\n",
    "If you have a ratio of quanities where all the units should cancel out, you can obtain the dimensionles number using the `dimesionless_unscaled` method. For example writing:\n",
    "```python\n",
    "d_m/d\n",
    "``` \n",
    "yields $1.4959787\\times 10^{11} \\rm{\\frac{m}{AU}}$, but doing:\n",
    "```python\n",
    "(d_m/d).to(units.dimensionless_unscaled)\n",
    "```\n",
    "returns `1.0` as expected.\n",
    "\n",
    "Sometimes you may get things in weird units that you think should cancel out. If that's the case, you can always convert the units (see above) or just tack on `.si` to the end of a quantity with units to get it in base SI units."
   ]
  },
  {
   "cell_type": "code",
   "execution_count": 1,
   "metadata": {},
   "outputs": [],
   "source": [
    "#SETUP CELL (modify at your own peril)\n",
    "from astropy import units #access units by doing units.<unit> (i.e. units.au)\n",
    "from astropy import constants\n",
    "import numpy as np #common math functions (i.e. np.sin(x)) and better arrays (i.e. np.array([1,2,3])\n",
    "import matplotlib.pyplot as plt #plotting functions (i.e. plt.plot(x,y))\n",
    "G = constants.G # gravitational constant\n",
    "M_sun = constants.M_sun # mass of the sun\n",
    "R_sun = constants.R_sun # radius of the sun\n",
    "L_sun = constants.L_sun # luminosity of the sun\n",
    "M_earth = constants.M_earth # mass of the earth\n",
    "R_earth = constants.R_earth # radius of the earth\n",
    "M_jup = constants.M_jup # mass of jupiter\n",
    "R_jup = constants.R_jup # radius of jupiter\n",
    "sigma_sb = constants.sigma_sb # Stefan-Boltzmann constant\n",
    "b_wien = constants.b_wien # Wien's displacement constant\n",
    "c = constants.c # speed of light\n",
    "h = constants.h # Planck constant\n",
    "k_B = constants.k_B # Boltzmann constant\n",
    "m_e = constants.m_e # mass of electron\n",
    "m_p = constants.m_p # mass of proton \n",
    "m_n = constants.m_n # mass of neutron (basically just the mass of a proton but whatever)\n",
    "g0 = constants.g0 # standard gravity, 9.8 m/s^2\n",
    "e = constants.e # absolute value of electron/proton charge"
   ]
  },
  {
   "cell_type": "markdown",
   "metadata": {},
   "source": [
    "## Q1 (20 points)\n",
    "\n",
    "### Escape velocity from a red giant\n",
    "\n",
    "a.) What is the escape velocity from a red giant with the mass of the sun and radius $100 R_\\odot$? How does\n",
    "that velocity compare with the escape velocity of the Sun? \n",
    "\n",
    "Use the code cell below to calculate and report your answer. "
   ]
  },
  {
   "cell_type": "markdown",
   "metadata": {},
   "source": [
    "**Escape Velocity**\n",
    " $$v_{esc} = \\sqrt{\\frac{2GM}{R}}$$"
   ]
  },
  {
   "cell_type": "code",
   "execution_count": 2,
   "metadata": {},
   "outputs": [
    {
     "name": "stdout",
     "output_type": "stream",
     "text": [
      "Since the escape velocity is proportional to √R, the red giant's v is 1 magnitude smaller than the sun's.\n",
      "Ratio: 0.09999999999999999\n",
      "v_er: 61767.470027520874 m / s\n",
      "v_es: 617674.7002752088 m / s\n"
     ]
    }
   ],
   "source": [
    "v_er = np.sqrt(2*G*M_sun/(100*R_sun))\n",
    "v_es = np.sqrt(2*G*M_sun/R_sun)\n",
    "ratio = v_er / v_es\n",
    "print(f\"Since the escape velocity is proportional to √R, the red giant's v is 1 magnitude smaller than the sun's.\\nRatio: {ratio}\\nv_er: {v_er}\\nv_es: {v_es}\")"
   ]
  },
  {
   "cell_type": "markdown",
   "metadata": {},
   "source": [
    "b.) Describe how your results help account for\n",
    "the fact that red giants have strong stellar winds.\n",
    "\n",
    "Use the markdown cell below to provide your answer."
   ]
  },
  {
   "cell_type": "markdown",
   "metadata": {},
   "source": [
    "My results support the fact that red giants have strong stellar winds since a lower escape velocity would allow for more gas / mass to escape the atmosphere of the star."
   ]
  },
  {
   "cell_type": "markdown",
   "metadata": {},
   "source": [
    "## Q2 (30 points)\n",
    "\n",
    "### The sizes of black holes\n",
    "\n",
    "Use the code cells below to calculate the Schwarszchild radius for each of the following:\n",
    "\n",
    "a.) a $10^8 M_\\odot$ black hole at the center of a galaxy (**report your answer in AU**)"
   ]
  },
  {
   "cell_type": "markdown",
   "metadata": {},
   "source": [
    "**Swarszchild Radius**: limit an object's radius can be before becoming a black hole.\n",
    "$$R_s = \\frac{2GM}{c^2}$$"
   ]
  },
  {
   "cell_type": "code",
   "execution_count": 3,
   "metadata": {},
   "outputs": [
    {
     "data": {
      "text/latex": [
       "$1.9741257 \\; \\mathrm{AU}$"
      ],
      "text/plain": [
       "<Quantity 1.97412574 AU>"
      ]
     },
     "execution_count": 3,
     "metadata": {},
     "output_type": "execute_result"
    }
   ],
   "source": [
    "M_1 = 1e8 * M_sun\n",
    "R_s1 = ((2*G*M_1) / (c**2)).to(units.AU)\n",
    "R_s1"
   ]
  },
  {
   "cell_type": "markdown",
   "metadata": {},
   "source": [
    "b.) A $5 M_\\odot$ black hole remaining after the supernova of a massive star (**report your answer in km**)"
   ]
  },
  {
   "cell_type": "code",
   "execution_count": 4,
   "metadata": {},
   "outputs": [
    {
     "data": {
      "text/latex": [
       "$14.76625 \\; \\mathrm{km}$"
      ],
      "text/plain": [
       "<Quantity 14.76625038 km>"
      ]
     },
     "execution_count": 4,
     "metadata": {},
     "output_type": "execute_result"
    }
   ],
   "source": [
    "M_2 = 5 * M_sun\n",
    "R_s2 = ((2*G*M_2) / (c**2)).to(units.km)\n",
    "R_s2"
   ]
  },
  {
   "cell_type": "markdown",
   "metadata": {},
   "source": [
    "c.) A mini black hole that would be formed if you were squeezed into your own event horizon (**report your answer in m**)"
   ]
  },
  {
   "cell_type": "code",
   "execution_count": 5,
   "metadata": {},
   "outputs": [
    {
     "data": {
      "text/latex": [
       "$7.4261603 \\times 10^{-26} \\; \\mathrm{m}$"
      ],
      "text/plain": [
       "<Quantity 7.42616027e-26 m>"
      ]
     },
     "execution_count": 5,
     "metadata": {},
     "output_type": "execute_result"
    }
   ],
   "source": [
    "M_3 = 50 * units.kg\n",
    "R_s3 = ((2*G*M_3) / (c**2)).to(units.m)\n",
    "R_s3"
   ]
  },
  {
   "cell_type": "markdown",
   "metadata": {},
   "source": [
    "## Q3 (40 pts)\n",
    "\n",
    "### Neutron stars\n",
    "\n",
    "A larger star may collapse into a neutron star. A neutron star with mass $2 M_\\odot$ may have a radius as small as 12 km! Let's examine some of their properties:\n",
    "\n",
    "a.) What is the mass density of a neutron star? Use the code cell below to calculate and provide your answer in $\\rm{kg/m^3}$."
   ]
  },
  {
   "cell_type": "code",
   "execution_count": 6,
   "metadata": {},
   "outputs": [
    {
     "data": {
      "text/latex": [
       "$5.4941885 \\times 10^{17} \\; \\mathrm{\\frac{kg}{m^{3}}}$"
      ],
      "text/plain": [
       "<Quantity 5.49418854e+17 kg / m3>"
      ]
     },
     "execution_count": 6,
     "metadata": {},
     "output_type": "execute_result"
    }
   ],
   "source": [
    "\n",
    "M = 2 * M_sun\n",
    "R = 12 * units.km\n",
    "V = (4/3) * np.pi * R**3\n",
    "ρ = (M / V).si\n",
    "ρ"
   ]
  },
  {
   "cell_type": "markdown",
   "metadata": {},
   "source": [
    "b.) What is the gravitational acceleration at the surface of the neutron star? Use the code cell below to calculate and report your answer in terms of `g0` (the acceleration due to gravity on Earth)."
   ]
  },
  {
   "cell_type": "markdown",
   "metadata": {},
   "source": [
    "Acceleration due to gravity at the surface of a neutron star is given by: $$g = \\frac{GM}{R^2}$$"
   ]
  },
  {
   "cell_type": "code",
   "execution_count": 12,
   "metadata": {},
   "outputs": [
    {
     "data": {
      "text/latex": [
       "$1.8795698 \\times 10^{11} \\; \\mathrm{}$"
      ],
      "text/plain": [
       "<Quantity 1.87956982e+11>"
      ]
     },
     "execution_count": 12,
     "metadata": {},
     "output_type": "execute_result"
    }
   ],
   "source": [
    "g = ((G * M) / (R**2)).si\n",
    "g / g0"
   ]
  },
  {
   "cell_type": "markdown",
   "metadata": {},
   "source": [
    "c.) Assuming that gravity was constant, if one were to drop a 1 kg object from a distance of 1 m above the surface, how fast would it be traveling when it hit the surface? \n",
    "\n",
    "*Hint:* potential energy in this problem can be expressed as $U = ma_gh$. \n",
    "\n",
    "Use the code cell below to calculate and report your answer in $\\rm{m/s}$."
   ]
  },
  {
   "cell_type": "code",
   "execution_count": 10,
   "metadata": {},
   "outputs": [
    {
     "data": {
      "text/latex": [
       "$1920014.8 \\; \\mathrm{\\frac{m}{s}}$"
      ],
      "text/plain": [
       "<Quantity 1920014.75688773 m / s>"
      ]
     },
     "execution_count": 10,
     "metadata": {},
     "output_type": "execute_result"
    }
   ],
   "source": [
    "# U = K  \n",
    "# mgh = (1/2)mv^2\n",
    "# 2*mgh = mv^2\n",
    "# 2*gh = v^2\n",
    "# --> sqrt(2gh) = v\n",
    "\n",
    "m_obj = 1 * units.kg\n",
    "h = 1 * units.m\n",
    "U = m_obj * g * h\n",
    "v = np.sqrt(2*g*h)\n",
    "v"
   ]
  },
  {
   "cell_type": "markdown",
   "metadata": {},
   "source": [
    "d.) What if you dropped the same 1 kg object from very far away (assume infinite distance) &mdash; how fast would the object be traveling as it reached the surface of the neutron star? Do you think we need to apply relativity to this problem?\n",
    "\n",
    "Use the code cell and/or markdown cells below to calculate and provide your answer in terms of the speed of light."
   ]
  },
  {
   "cell_type": "markdown",
   "metadata": {},
   "source": [
    "> Comparing answer for speed to the speed of light: fast speeds $\\to$ apply relativity\n",
    "\n",
    "If height $h$ is approaching infinity, then the speed would, mathematically, also approach infinity. However, since the speed of light is the fastest speed any object can reach, we can assume that we should definitely apply relativity to this problem since the speeds we are dealing with are of such large magnitudes."
   ]
  },
  {
   "cell_type": "markdown",
   "metadata": {},
   "source": [
    "## Q4 (5 pts)\n",
    "\n",
    "Why can't iron be fused to release energy? \n",
    "\n",
    "Use the markdown cell below to provide your answer."
   ]
  },
  {
   "cell_type": "markdown",
   "metadata": {},
   "source": [
    "Fundamentally, nuclear fusion supports the life of a star because the pressure produced from fusion reactions counteracts the contracting force of a star's gravity. To fuse iron, it would cost the star more energy than it would produce. This is due to the fact that the binding energy per nucleon reaches its peak when fusing iron, and falls off for elements heavier than this."
   ]
  },
  {
   "cell_type": "markdown",
   "metadata": {},
   "source": [
    "## Q5 (5 pts)\n",
    "\n",
    "Why is there a mass limit on white dwarfs? \n",
    "\n",
    "Use the markdown cell below to provide your answer."
   ]
  },
  {
   "cell_type": "markdown",
   "metadata": {},
   "source": [
    "There is a mass limit ($1.4M_{\\odot}$) on white dwarfs because anything beyond this limit cannot be supported by electron degeneracy pressure and results in a Type I supernova."
   ]
  }
 ],
 "metadata": {
  "kernelspec": {
   "display_name": "Python 3 (ipykernel)",
   "language": "python",
   "name": "python3"
  },
  "language_info": {
   "codemirror_mode": {
    "name": "ipython",
    "version": 3
   },
   "file_extension": ".py",
   "mimetype": "text/x-python",
   "name": "python",
   "nbconvert_exporter": "python",
   "pygments_lexer": "ipython3",
   "version": "3.10.0"
  }
 },
 "nbformat": 4,
 "nbformat_minor": 2
}
