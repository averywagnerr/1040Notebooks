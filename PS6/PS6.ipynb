{
 "cells": [
  {
   "cell_type": "markdown",
   "metadata": {},
   "source": [
    "# ASTR 1040 Problem Set 6\n",
    "\n",
    "The first cell (below) contains lots of helpful constants you may need to use throughout the semester. Make sure to run it each time before you start working! \n",
    "\n",
    "For reference, all of the `astropy` constants as well as examples can be found [here](https://docs.astropy.org/en/stable/constants/index.html). Likewise all of the units and their names / how to access them can be found [here](https://docs.astropy.org/en/stable/units/index.html). \n",
    "\n",
    "To create a variable with units you need to multiply by the corresponding unit class:\n",
    "\n",
    "```python\n",
    "d = 1 * units.au\n",
    "```\n",
    "\n",
    "You can then convert unitful quantities to other units by calling the `to` method and passing the desired end unit class: \n",
    "\n",
    "```python\n",
    "d_m = d.to(units.m)\n",
    "```\n",
    "\n",
    "If you have a ratio of quanities where all the units should cancel out, you can obtain the dimensionles number using the `dimesionless_unscaled` method. For example writing:\n",
    "```python\n",
    "d_m/d\n",
    "``` \n",
    "yields $1.4959787\\times 10^{11} \\rm{\\frac{m}{AU}}$, but doing:\n",
    "```python\n",
    "(d_m/d).to(units.dimensionless_unscaled)\n",
    "```\n",
    "returns `1.0` as expected."
   ]
  },
  {
   "cell_type": "code",
   "execution_count": 1,
   "metadata": {},
   "outputs": [],
   "source": [
    "#SETUP CELL (modify at your own peril)\n",
    "from astropy import units #access units by doing units.<unit> (i.e. units.au)\n",
    "from astropy import constants\n",
    "import numpy as np #common math functions (i.e. np.sin(x)) and better arrays (i.e. np.array([1,2,3])\n",
    "import matplotlib.pyplot as plt #plotting functions (i.e. plt.plot(x,y))\n",
    "G = constants.G # gravitational constant\n",
    "M_sun = constants.M_sun # mass of the sun\n",
    "R_sun = constants.R_sun # radius of the sun\n",
    "L_sun = constants.L_sun # luminosity of the sun\n",
    "M_earth = constants.M_earth # mass of the earth\n",
    "R_earth = constants.R_earth # radius of the earth\n",
    "M_jup = constants.M_jup # mass of jupiter\n",
    "R_jup = constants.R_jup # radius of jupiter\n",
    "sigma_sb = constants.sigma_sb # Stefan-Boltzmann constant\n",
    "b_wien = constants.b_wien # Wien's displacement constant\n",
    "c = constants.c # speed of light\n",
    "h = constants.h # Planck constant\n",
    "k_B = constants.k_B # Boltzmann constant\n",
    "m_e = constants.m_e # mass of electron\n",
    "m_p = constants.m_p # mass of proton \n",
    "m_n = constants.m_n # mass of neutron (basically just the mass of a proton but whatever)\n",
    "g0 = constants.g0 # standard gravity, 9.8 m/s^2\n",
    "e = constants.e # absolute value of electron/proton charge"
   ]
  },
  {
   "cell_type": "markdown",
   "metadata": {},
   "source": [
    "### Note: By now I trust that you know how to insert and edit markdown/code cells in your Jupyter notebooks, so I'm only including the questions and leaving it up to you to split/insert cells as needed to provide your answers (see the edit and insert menus at the top of the page).\n",
    "\n",
    "## Problem 1: Proof of a black hole? [50 points]\n",
    "\n",
    "The galactic center group at UCLA has done remarkable work measuring the orbits of stars close to the supermassive black hole at the center of our galaxy (check out some cool movies of their work [here](https://galacticcenter.astro.ucla.edu/animation.html)). \n",
    "\n",
    "The closest star to our supermassive black hole &mdash; S2 &mdash; has an orbit that has been fully observed (i.e. we've watched it go around at least one full revolution).\n",
    "\n",
    "\n",
    "### a.) Estimating enclosed mass from orbital parameters: [5 points]\n",
    "Given that the period of its orbit is roughly 16 years and it has a semimajor axis of roughly 1000 AU, estimate the mass enclosed within the orbit of S2.\n"
   ]
  },
  {
   "cell_type": "code",
   "execution_count": 2,
   "metadata": {},
   "outputs": [
    {
     "data": {
      "text/latex": [
       "$2.4724782 \\times 10^{36} \\; \\mathrm{kg}$"
      ],
      "text/plain": [
       "<Quantity 2.47247823e+36 kg>"
      ]
     },
     "execution_count": 2,
     "metadata": {},
     "output_type": "execute_result"
    }
   ],
   "source": [
    "# Use Kepler's 3rd Law: P**2 = (4*pi**2)/(G*m1+G*m2)*(a**3)\n",
    "\n",
    "T = 16 * units.yr\n",
    "a = 1000 * units.AU\n",
    "m = (4 * np.pi * a**3) / (T**2 * G)\n",
    "m.to(units.M_sun)"
   ]
  },
  {
   "cell_type": "markdown",
   "metadata": {},
   "source": [
    "\n",
    "\n",
    "### b.) How big is the black hole? [5 points]\n",
    "What is the Schwarszchild radius ($R_s$) of a hypothetical supermassive black hole with the mass you calculated in part a? \n"
   ]
  },
  {
   "cell_type": "code",
   "execution_count": 25,
   "metadata": {},
   "outputs": [
    {
     "data": {
      "text/latex": [
       "$3.6722039 \\times 10^{9} \\; \\mathrm{m}$"
      ],
      "text/plain": [
       "<Quantity 3.67220393e+09 m>"
      ]
     },
     "execution_count": 25,
     "metadata": {},
     "output_type": "execute_result"
    }
   ],
   "source": [
    "R_s = (2*G*m) / (c**2)\n",
    "R_s.si\n"
   ]
  },
  {
   "cell_type": "markdown",
   "metadata": {},
   "source": [
    "\n",
    "\n",
    "### c.) How fast? [20 points]\n",
    "At perihelion S2 is the fastest moving star known to humanity. Its orbit is highly elliptical (*not* circular), with an eccentricity $e \\approx 0.88$. Previously in class we have always assumed circular orbits, and while this works for many things when the eccentricity is high like this we must account for this in our equations.\n",
    "\n",
    "At perihelion (closest approach, which we will denote $r_p$) and aphelion (farthest approach, which we will denote $r_a$) the velocity of the star is purely tangential (i.e. at right angle with semi-major axis). The eccentricity $e$ is defined in such a way that $r_p = a(1-e)$ and $r_a = a(1+e)$ (you can intuitively see that this works because for a circle $e = 0$ and $r_p = a = r_a$). \n",
    "\n",
    "Utilizing the fact that angular momentum and total energy must be conserved, and that the velocities are purely tangential at these two points, derive a formula for the velocity of the star at perihelion and calculate the maximum speed of S2 as a percentage of the speed of light.\n",
    "\n",
    "**Hint:** you *cannot* just use $v = \\sqrt{\\frac{GM}{r}}$ (your answer will be wrong by a factor of $\\approx 1.4$, and you should see why if you successfully do this out).\n",
    "\n",
    "**Note for people doing this in Jupyter notebook:** You must show your work to get credit for this part! You can type in math by using LaTeX syntax &mdash; good examples showing how to do this [here](http://chebe163.caltech.edu/2018w/handouts/intro_to_latex.html)\n"
   ]
  },
  {
   "cell_type": "markdown",
   "metadata": {},
   "source": [
    "* * * * *\n",
    "\n",
    "#### Answer\n",
    "\n",
    "Conservation of angular momentum & the fact that the velocity is tangential at perihelion gives us:\n",
    "$$r_pv_p = r_av_a$$ \n",
    "Substituting for $r$ we get: \n",
    "$$a(1-e)v_p = a(1+e)v_a$$\n",
    "We can apply the conservation of energy, $∆U + ∆K = E_{total}$:\n",
    "$$\\frac{-GM}{r_p}+\\frac{v_p^2}{2} = \\frac{-GM}{r_a}+\\frac{v_a^2}{2}$$\n",
    "$$\\frac{-GM}{a(1-e)}+\\frac{v_p^2}{2} = \\frac{-GM}{a(1+e)}+\\frac{v_a^2}{2}$$\n",
    "To find $v_p$, we need to substitute $v_a = \\frac{(1-e)}{(1+e)}v_p$ in this equation\n",
    "$$\\frac{v_p^2}{2} = \\frac{-GM}{a(1+e)}-\\frac{-GM}{a(1-e)}+\\frac{1}{2}(\\frac{(1-e)}{(1+e)}v_p)^2$$\n",
    "Simplifying this, we get our equation for $v_p$:\n",
    "$$v_p = \\sqrt{\\frac{GM}{a}\\frac{(1+e)}{(1-e)}}$$\n",
    "\n",
    "The maximum speed of S2 is equal to $v_p$. Plugging in our known values, we get\n",
    "$$v_p = \\sqrt{\\frac{G(2.47×10^{36} \\text{ kg})}{1000 \\text{ AU}}\\frac{(1.88)}{(0.12)}}$$\n",
    "\n",
    "\n",
    "\n"
   ]
  },
  {
   "cell_type": "code",
   "execution_count": 7,
   "metadata": {},
   "outputs": [
    {
     "name": "stdout",
     "output_type": "stream",
     "text": [
      "v_p: 0.014% c\n"
     ]
    }
   ],
   "source": [
    "e = 0.88\n",
    "v_p = lambda M, a, e: (np.sqrt(((G*M)/a)*((1+e)/(1-e)))).si\n",
    "v_max_S2 = v_p(m, a, e)\n",
    "print(f\"v_p: {v_max_S2 / c:.3f}% c\")"
   ]
  },
  {
   "cell_type": "markdown",
   "metadata": {},
   "source": [
    "\n",
    "\n",
    "### d.) Do we need relativity? [5 points]\n",
    "\n",
    "Based on your answer to part c, does relativity play a *large* role in determing the orbit of S2? Why or why not? If yes, should we trust our answers to parts a, b, and c?\n",
    "\n",
    "#### Answer\n",
    "\n",
    "I would say no, it doesn't play a *large* role in determing the orbit of S2 since S2's *max* orbital velocity is still only 0.01% that of the speed of light. "
   ]
  },
  {
   "cell_type": "markdown",
   "metadata": {},
   "source": [
    "\n",
    "\n",
    "### e.) Supermassive water blobs: [10 points]\n",
    "\n",
    "$r_p$ places an upper limit on the extent the mass interior to S2 *could* have. Suppose all of the mass driving the orbit was in a sphere with radius $r_p$ &mdash; what would its density be? Compare your answer to the density of a black hole of the same mass. What if all of the mass interior to S2's orbit was a giant sphere of water (density $\\sim 1000 \\textrm{ kg}/\\rm{m^3}$) &mdash; would we be able to tell the difference based on the orbit alone? \n",
    "\n",
    "Google around and comment on a few other reasons we think the center of the galaxy is host to a supermassive black hole and not a supermassive blob of water. "
   ]
  },
  {
   "cell_type": "code",
   "execution_count": 23,
   "metadata": {},
   "outputs": [
    {
     "data": {
      "text/latex": [
       "$0.00010202906 \\; \\mathrm{\\frac{kg}{m^{3}}}$"
      ],
      "text/plain": [
       "<Quantity 0.00010203 kg / m3>"
      ]
     },
     "execution_count": 23,
     "metadata": {},
     "output_type": "execute_result"
    }
   ],
   "source": [
    "# S2\n",
    "r_p = a*(1-e)\n",
    "V_S2 = (4/3)*np.pi*(r_p**3)\n",
    "ρ_S2 = (m/V_S2).si\n",
    "ρ_S2"
   ]
  },
  {
   "cell_type": "code",
   "execution_count": 27,
   "metadata": {},
   "outputs": [
    {
     "data": {
      "text/latex": [
       "$11919650 \\; \\mathrm{\\frac{kg}{m^{3}}}$"
      ],
      "text/plain": [
       "<Quantity 11919649.80733074 kg / m3>"
      ]
     },
     "execution_count": 27,
     "metadata": {},
     "output_type": "execute_result"
    }
   ],
   "source": [
    "# Black Hole of same mass\n",
    "V_BH = (4/3)*np.pi*(R_s**3)\n",
    "ρ_BH = (m/V_BH).si\n",
    "ρ_BH"
   ]
  },
  {
   "cell_type": "markdown",
   "metadata": {},
   "source": [
    "The hypothetical sphere will S2's mass and radius $r_p$ has a density of ~$10^{-4} kg/m^3$. A black hole of the same mass would be ~$10^{11}$ times greater than this. If all of S2's mass was within a water sphere with a density of ~$10^3 kg/m^3$, we would likely be able to tell. A black hole of the same mass as S2 is much more dense than the sphere of water or the sphere of S2's mass because for black holes, density and mass are inversely proportional; specifically $\\rho \\propto M^{-2}$. However, the larger a black hole's radius, the more density it will have. The black hole at the center of our galaxy has such a large radius that its density has to be significantly more than that of water.\n",
    "* * * * * "
   ]
  },
  {
   "cell_type": "markdown",
   "metadata": {},
   "source": [
    "### f.) Photographic evidence: [5 points]\n",
    "Conclusive \"proof\" that there is a black hole at the center of our galaxy was obtained more recently by the EHT, which found emission coming from a region $\\sim 2-3 R_s$ away from the central object. Given your answer to e, what makes this observation the strongest evidence yet that Sag A* is a black hole?"
   ]
  },
  {
   "cell_type": "markdown",
   "metadata": {},
   "source": [
    "## Problem 2: Twin \"paradox\" [20 points]\n",
    "\n",
    "In special relativity time dilation goes like $\\Delta t' = \\gamma \\Delta t$ (with $\\gamma = \\frac{1}{\\sqrt{1-v^2/c^2}}$). But whose time corresponds to $\\Delta t$ and whose corresponds to $\\Delta t'$? This is where the famous \"twin paradox\" arises from: the twin in the spaceship will observe the Earth to be moving at a constant speed while the twin on Earth will observe the spaceship to be the thing that is moving, thus won't they disagree about who ends up older? \n",
    "\n",
    "One often invoked \"resolution\" of the twin paradox is to say that you need to use *general* relativity to resolve this, since when the twin in the spaceship turns around they must accelerate and thus we must do all of the time dilation calculations in GR. **This is wrong**. The twin paradox can be easily resolved with special relativity alone! \n",
    "\n",
    "Read the explanation on the [Wikipedia page](https://en.wikipedia.org/wiki/Twin_paradox#Relativity_of_simultaneity), and in particular look at the diagram in the \"relativity of simultaneity\" section. This question is purely qualitative, but I'd like you to explain (in your own words) the following:\n",
    "\n",
    "### a.) What is a Minkowski diagram? [10 points]\n",
    "\n",
    "Google, use the Wikipedia page, your book, or any other resources you like, and explain in your own words what Minkowski diagrams represent. What determines the lines of simultaneity and why does light have a slope of $\\pm$1 (in the usual case where the time axis is in terms of $ct$)? \n",
    "\n",
    "$\\to$ The Minkowski diagram represents spacetime in special relativity, with axises of time ($t$) and space ($x$, or $ct$). An object's path through spacetime is called its worldline. The lines of simultaneity are used to represent simultaneous events, as observed within and outside of a specific reference frame. i.e., an event will appear to happen at different times for a moving observer in the frame of reference versus an outside stationary observer. Light's path is represented by two 45º lines of slopes 1 and -1, since light always travels at $c$, and since $ct$ is our x-axis, this means light must have a slope of ±1."
   ]
  },
  {
   "cell_type": "markdown",
   "metadata": {},
   "source": [
    "### b.) Resolving the twin paradox: [10 points]\n",
    "\n",
    "How does the Minkowski diagram on the Wiki page resolve the twin paradox? Does this use general relativity? Explain, in your own words and basing your answer off of the Minkowski diagram, what an observer on the ship would see as they turned around in terms of the corresponding time on Earth. What about the twin on Earth &mdash; what do they see? \n",
    "\n",
    "$\\to$ The Wiki's diagram resolves the twin paradox by applying the concept of relativity of simultaneity from special relativity. It illustrates how the Earth twin, who is represented by the y-axis, stays within the same reference frame for the entire trip, while the travelling twin's trajectory is split evenly between two different inertial frames. The turnaround point indicates that the travelling twin  'instantaneously' sweeps over a much larger part of the Earth twin's worldline, which would mean there has to be a discontinuity in the age of the Earth twin."
   ]
  },
  {
   "cell_type": "markdown",
   "metadata": {},
   "source": [
    "![Wiki Minkowski Diagram](https://upload.wikimedia.org/wikipedia/commons/thumb/c/ce/Twin_Paradox_Minkowski_Diagram.svg/666px-Twin_Paradox_Minkowski_Diagram.svg.png)"
   ]
  },
  {
   "cell_type": "markdown",
   "metadata": {},
   "source": [
    "## Problem 3: Special relativity and the Kessel Run [30 points]\n",
    "\n",
    "The Empire has recently greatly restricted trading, making it difficult for smugglers to ferry supplies to the Rebels. Fortunately, Han Solo discovers that Imperial scanners don't work properly on ships that are moving sufficiently fast, and he is commissioned by the Resistance to complete the famous \"Kessel run\" trading route, bringing back much-needed supplies for the war effort. \n",
    "\n",
    "He sets off from the Rebel base in the Millenium Falcon at 2/3 of the speed of light (the precise speed at which the Imperial scanners fail) to complete the Kessel run. From the rest-frame of the Empire / Resistance cartographers they measure the Kessel Run trade route to be a distance (to two significant figures) of 16 parsecs (round trip, 8 parsecs each way)."
   ]
  },
  {
   "cell_type": "code",
   "execution_count": 5,
   "metadata": {},
   "outputs": [
    {
     "data": {
      "text/html": [
       "<iframe width=\"560\" height=\"315\" src=\"https://www.youtube.com/embed/fjYuw6zWk_Y?si=vaV80xRfIxJWJDbd\" title=\"YouTube video player\" frameborder=\"0\" allow=\"accelerometer; autoplay; clipboard-write; encrypted-media; gyroscope; picture-in-picture; web-share\" allowfullscreen></iframe>\n"
      ],
      "text/plain": [
       "<IPython.core.display.HTML object>"
      ]
     },
     "metadata": {},
     "output_type": "display_data"
    }
   ],
   "source": [
    "%%HTML\n",
    "<iframe width=\"560\" height=\"315\" src=\"https://www.youtube.com/embed/fjYuw6zWk_Y?si=vaV80xRfIxJWJDbd\" title=\"YouTube video player\" frameborder=\"0\" allow=\"accelerometer; autoplay; clipboard-write; encrypted-media; gyroscope; picture-in-picture; web-share\" allowfullscreen></iframe>"
   ]
  },
  {
   "cell_type": "markdown",
   "metadata": {},
   "source": [
    "### a.) How long does the entire journey take (in years), as measured by Han Solo aboard the Millenium Falcon? [10 points]"
   ]
  },
  {
   "cell_type": "code",
   "execution_count": 36,
   "metadata": {},
   "outputs": [
    {
     "data": {
      "text/latex": [
       "$78.277531 \\; \\mathrm{yr}$"
      ],
      "text/plain": [
       "<Quantity 78.27753065 yr>"
      ]
     },
     "execution_count": 36,
     "metadata": {},
     "output_type": "execute_result"
    }
   ],
   "source": [
    "v_solo = (2/3) * c\n",
    "d = 16 * units.parsec # round-trip\n",
    "γ = 1 / (np.sqrt(1-(v_solo**2/c**2)))\n",
    "t = d / v_solo\n",
    "t_solo = t * γ\n",
    "# t_solo.to(units.yr)\n",
    "t.to(units.yr)\n"
   ]
  },
  {
   "cell_type": "markdown",
   "metadata": {},
   "source": [
    "### b.) World-lines in a galaxy far, far away: [5 points]\n",
    "Draw a Minkowski diagram illustrating the journey. Include a world-line for the rebels and one for the crew of the Millenium Falcon. Include at least 4 lines of simultaneity (one at beginning of trip, two at the middle, and one at the end) and label their slopes.\n",
    "\n",
    "![diagram](/Users/averywagner/Desktop/CU/23-24/1040Notebooks/PS6/minkowski_ps6.png)"
   ]
  },
  {
   "cell_type": "markdown",
   "metadata": {},
   "source": [
    "\n",
    "\n",
    "**Note:** If you are completing your homework in a Jupyter notebook you can draw your diagram by hand and embed a picture in your notebook following the steps [here](https://stackoverflow.com/questions/32370281/how-to-embed-image-or-picture-in-jupyter-notebook-either-from-a-local-machine-o).\n",
    "\n",
    "### c.) Twin paradox redux: [5 points]\n",
    "When he returns, what is the age difference (in years) between the rebels who stayed behind on the secret base vs. Han Solo? Who aged less, and why? \n",
    "\n",
    "$\\to$ The time for Solo is ~78 years, and ~105 for the rebels. Thus Solo aged less.\n",
    "\n",
    "### d.) Kessel run in 12 pc? [10 points]\n",
    "What distance does Han Solo measure for the length of the Kessel Run? Answer to two significant figures and compare with Star Wars lore, which quotes a distance of 12 pc. "
   ]
  },
  {
   "cell_type": "code",
   "execution_count": 37,
   "metadata": {},
   "outputs": [
    {
     "data": {
      "text/latex": [
       "$11.925696 \\; \\mathrm{pc}$"
      ],
      "text/plain": [
       "<Quantity 11.92569588 pc>"
      ]
     },
     "execution_count": 37,
     "metadata": {},
     "output_type": "execute_result"
    }
   ],
   "source": [
    "x_moving = d * np.sqrt(1-(v_solo**2/c**2))\n",
    "x_moving"
   ]
  },
  {
   "cell_type": "markdown",
   "metadata": {},
   "source": [
    "This is basically the same as the lore says!"
   ]
  }
 ],
 "metadata": {
  "kernelspec": {
   "display_name": "Python 3 (ipykernel)",
   "language": "python",
   "name": "python3"
  }
 },
 "nbformat": 4,
 "nbformat_minor": 4
}
