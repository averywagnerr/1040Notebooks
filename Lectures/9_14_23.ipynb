{
 "cells": [
  {
   "attachments": {},
   "cell_type": "markdown",
   "metadata": {},
   "source": [
    "# ASTR 1040 Jupyter Notebook - Lecture\n",
    "### 9/14/23\n"
   ]
  },
  {
   "cell_type": "code",
   "execution_count": 2,
   "metadata": {},
   "outputs": [],
   "source": [
    "#SETUP CELL (modify at your own peril)\n",
    "from astropy import units #access units by doing units.<unit> (i.e. units.au)\n",
    "from astropy import constants\n",
    "import numpy as np #common math functions (i.e. np.sin(x)) and better arrays (i.e. np.array([1,2,3])\n",
    "import matplotlib.pyplot as plt #plotting functions (i.e. plt.plot(x,y))\n",
    "G = constants.G # gravitational constant\n",
    "M_sun = constants.M_sun # mass of the sun\n",
    "R_sun = constants.R_sun # radius of the sun\n",
    "L_sun = constants.L_sun # luminosity of the sun\n",
    "M_earth = constants.M_earth # mass of the earth\n",
    "R_earth = constants.R_earth # radius of the earth\n",
    "M_jup = constants.M_jup # mass of jupiter\n",
    "R_jup = constants.R_jup # radius of jupiter\n",
    "sigma_sb = constants.sigma_sb # Stefan-Boltzmann constant\n",
    "c = constants.c # speed of light\n",
    "h = constants.h # Planck constant\n",
    "k_B = constants.k_B # Boltzmann constant\n",
    "m_e = constants.m_e # mass of electron\n",
    "m_p = constants.m_p # mass of proton \n",
    "m_n = constants.m_n # mass of neutron (basically just the mass of a proton but whatever)\n",
    "g0 = constants.g0 # standard gravity, 9.8 m/s^2\n",
    "e = constants.e # absolute value of electron/proton charge"
   ]
  },
  {
   "cell_type": "markdown",
   "metadata": {},
   "source": [
    "### Q1: Finding the mass of a star in a binary system\n",
    "\n",
    "Need 2/3 elements:\n",
    "- Orbital period\n",
    "- Orbital seperation\n",
    "- Orbital velocity\n",
    "\n",
    "> NOTE: The equation $(M_1+M_2)P^2 = a^3$ requires the units of **solar masses, yrs, and AU** or else your constant 'c' will be incorrect (this is Kepler's 3rd Law)."
   ]
  },
  {
   "cell_type": "code",
   "execution_count": 17,
   "metadata": {},
   "outputs": [
    {
     "data": {
      "text/latex": [
       "$4.8440211 \\; \\mathrm{\\frac{AU^{3}}{yr^{2}}}$"
      ],
      "text/plain": [
       "<Quantity 4.84402114 AU3 / yr2>"
      ]
     },
     "execution_count": 17,
     "metadata": {},
     "output_type": "execute_result"
    }
   ],
   "source": [
    "P = 0.5 * units.yr\n",
    "v = 80000 * (units.m / units.s)\n",
    "r = ((v*P)/(2*np.pi))\n",
    "a = r.to(units.AU)\n",
    "M = ((a**3)/(P**2)) / 2\n",
    "M\n"
   ]
  },
  {
   "cell_type": "markdown",
   "metadata": {},
   "source": [
    "# Properties of a Star\n",
    "\n",
    "### Measured Properties\n",
    "\n",
    "1. $I$ - Flux (Intensity) or apparent brightness ($W/m^2$)\n",
    "2.\n",
    "3.\n",
    "\n",
    "### Derived Properties"
   ]
  },
  {
   "cell_type": "markdown",
   "metadata": {},
   "source": [
    "# Q2: Vega\n",
    "\n",
    "The luminosity of Vega (*Lyra*) is $1.5x10^28 W$ and its temperature is $9600 K$. What is Vega's radius?\n",
    "\n",
    "> Hint: $5.67x10^-8 W m^-2 K^-4$ and $R_(sun) = 7x10^8$\n",
    "\n",
    "# ----------------------------------------------------------------\n",
    "\n",
    "Start with $P/A = \\sigma T^4$\n",
    "$A = P/\\sigma T^4$\n",
    "\n",
    "$A = 4\\pi r^2$\n",
    "\n",
    "$r = \\sqrt{P/4 \\pi \\sigma T^4}$"
   ]
  },
  {
   "cell_type": "code",
   "execution_count": null,
   "metadata": {},
   "outputs": [],
   "source": [
    "L = 1.5e28 * units.watt\n",
    "T = 9600 * units.kelvin\n",
    "\n",
    "I = sigma_sb * (T**4)\n"
   ]
  }
 ],
 "metadata": {
  "kernelspec": {
   "display_name": "Python 3 (ipykernel)",
   "language": "python",
   "name": "python3"
  },
  "language_info": {
   "codemirror_mode": {
    "name": "ipython",
    "version": 3
   },
   "file_extension": ".py",
   "mimetype": "text/x-python",
   "name": "python",
   "nbconvert_exporter": "python",
   "pygments_lexer": "ipython3",
   "version": "3.10.0"
  }
 },
 "nbformat": 4,
 "nbformat_minor": 4
}
