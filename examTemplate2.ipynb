{
 "cells": [
  {
   "cell_type": "markdown",
   "metadata": {},
   "source": [
    "# ASTR 1040 Jupyter Notebook Exam Template\n",
    "\n",
    "This is a template file you can use to complete your exam. The first cell (below after FAQ section) contains lots of helpful constants you may need. Make sure to run it before you start working! \n",
    "\n",
    "Below I've also included examples of how to do common `astropy` / math things:\n",
    "\n",
    "## Astropy FAQ <a id='astropyhelp'></a>\n",
    "\n",
    "This is a template file you can use to do your homeworks in. I recommend copying this each time you start a homework. The first cell (below) contains lots of helpful constants you may need to use throughout the semester. Make sure to run it each time before you start working! \n",
    "\n",
    "For reference, all of the `astropy` constants as well as examples can be found [here](https://docs.astropy.org/en/stable/constants/index.html). Likewise all of the units and their names / how to access them can be found [here](https://docs.astropy.org/en/stable/units/index.html). \n",
    "\n",
    "To create a variable with units you need to multiply by the corresponding unit class:\n",
    "\n",
    "```python\n",
    "d = 1 * units.au\n",
    "```\n",
    "\n",
    "You can then convert unitful quantities to other units by calling the `to` method and passing the desired end unit class: \n",
    "\n",
    "```python\n",
    "d_m = d.to(units.m)\n",
    "```\n",
    "\n",
    "If you have a ratio of quanities where all the units should cancel out, you can obtain the dimensionles number using the `dimesionless_unscaled` method. For example writing:\n",
    "```python\n",
    "d_m/d\n",
    "``` \n",
    "yields $1.4959787\\times 10^{11} \\rm{\\frac{m}{AU}}$, but doing:\n",
    "```python\n",
    "(d_m/d).to(units.dimensionless_unscaled)\n",
    "```\n",
    "returns `1.0` as expected.\n",
    "\n",
    "It may also be useful to convert quantities to SI units, and you can do this on any quantity that has units by adding `.si` to it. For example:\n",
    "```python\n",
    "d.si\n",
    "```\n",
    "returns $1.4959787\\times 10^{11} \\textrm{ m}$ as this is an AU in SI units (SI unit of distance is the m).\n",
    "\n",
    "If you ever need to obtain just the *number* of a quantity (without any units) you can do:\n",
    "\n",
    "```python\n",
    "d.value\n",
    "```\n",
    "which returns $1$ (no units, just the number 1 since we said `d = 1 * units.au`).\n",
    "\n",
    "## Math FAQ <a id='mathhelp'></a>\n",
    "Let's say we have two numbers assigned to variables `x` and `y`, i.e.:\n",
    "```python\n",
    "x = 1.\n",
    "y = 2.\n",
    "\n",
    "Addition/subtraction/multiplication/division work largely how you would expect:\n",
    "```\n",
    "To add:\n",
    "```python\n",
    "x_plus_y = x+y\n",
    "print(x_plus_y)\n",
    ">>> 3.\n",
    "```\n",
    "To subtract:\n",
    "```python\n",
    "x_minus_y = x-y\n",
    "print(x_minus_y)\n",
    ">>> -1.\n",
    "```\n",
    "To multiply:\n",
    "```python\n",
    "x_times_y = x*y\n",
    "print(x_times_y)\n",
    ">>> 2.\n",
    "```\n",
    "To divide:\n",
    "```python\n",
    "x_over_y = x/y\n",
    "print(x_over_y)\n",
    ">>> 0.5\n",
    "```\n",
    "Unfortunately exponents are probably *not* what you would expect, but to raise to a power you do:\n",
    "```python\n",
    "y_tothe_x = y**x #note the ** for exponents\n",
    "```\n",
    "Oftentimes in astrophysics we have very large numbers, i.e. the mass of the supermassive black hole at the center of our galaxy (Sag A*) is $\\sim 4\\times 10^6 \\rm{M_\\odot}$. To write this number in python we can use the convenient \"e\" syntax:\n",
    "```python\n",
    "from astropy.constants import M_sun\n",
    "SagAMass = 4e6*M_sun\n",
    "print(SagAMass)\n",
    ">>> 7.953639482792203e+36 kg\n",
    "```\n",
    "To take the nth root of something raise it to the power of 1/n, i.e. to take the cubic root of `x`:\n",
    "```python\n",
    "cubeRoot = x**(1/3)\n",
    "```\n",
    "\n",
    "\n",
    "### numpy <a id='numpyhelp'></a>\n",
    "\n",
    "Oftentimes we will also use [`numpy`](https://numpy.org/doc/stable/reference/routines.math.html) to do math, as it provides convenient functionality to interface with all of the trig things we will need. This is also where you will get $\\pi$ from! A few examples:\n",
    "\n",
    "```python\n",
    "import numpy as np\n",
    "pi = np.pi\n",
    "sinx = np.sin(x)\n",
    "sinx_plus_2pi = np.sin(x+2*pi) #should be the same as sinx\n",
    "angle = np.atan2(y/x) #arctangent, use atan2 if you care about which quadrant!\n",
    "h = np.sqrt(x**2+y**2) #let x and y define sides of triangle\n",
    "y_trig = h*np.cos(angle) #should be the same as y\n"
   ]
  },
  {
   "cell_type": "code",
   "execution_count": 1,
   "metadata": {},
   "outputs": [],
   "source": [
    "#SETUP CELL (modify at your own peril)\n",
    "from astropy import units #access units by doing units.<unit> (i.e. units.au)\n",
    "from astropy import constants\n",
    "import numpy as np #common math functions (i.e. np.sin(x)) and better arrays (i.e. np.array([1,2,3])\n",
    "import matplotlib.pyplot as plt #plotting functions (i.e. plt.plot(x,y))\n",
    "G = constants.G # gravitational constant\n",
    "M_sun = constants.M_sun # mass of the sun\n",
    "R_sun = constants.R_sun # radius of the sun\n",
    "L_sun = constants.L_sun # luminosity of the sun\n",
    "M_earth = constants.M_earth # mass of the earth\n",
    "R_earth = constants.R_earth # radius of the earth\n",
    "M_jup = constants.M_jup # mass of jupiter\n",
    "R_jup = constants.R_jup # radius of jupiter\n",
    "sigma_sb = constants.sigma_sb # Stefan-Boltzmann constant\n",
    "b_wien = constants.b_wien # Wien's displacement constant\n",
    "c = constants.c # speed of light\n",
    "h = constants.h # Planck constant\n",
    "k_B = constants.k_B # Boltzmann constant\n",
    "m_e = constants.m_e # mass of electron\n",
    "m_p = constants.m_p # mass of proton \n",
    "m_n = constants.m_n # mass of neutron (basically just the mass of a proton but whatever)\n",
    "g0 = constants.g0 # standard gravity, 9.8 m/s^2\n",
    "e = constants.e # absolute value of electron/proton charge"
   ]
  },
  {
   "cell_type": "markdown",
   "metadata": {},
   "source": [
    "## Cheat sheet area\n",
    "\n",
    "If you have opted to make a cheat sheet as a Jupyter notebook cell, copy and paste your markdown content into the empty markdown cell below and any code content into the empty code cell below:"
   ]
  },
  {
   "cell_type": "markdown",
   "metadata": {},
   "source": []
  },
  {
   "cell_type": "code",
   "execution_count": null,
   "metadata": {},
   "outputs": [],
   "source": [
    "#your cheat sheet code content here\n"
   ]
  },
  {
   "cell_type": "markdown",
   "metadata": {},
   "source": [
    "## Exam instructions:\n",
    "\n",
    "For the multiple choice and short answer questions you have two options:\n",
    "1. Answer these on the actual test (i.e. circle the multiple choice answer you select and write out by hand the answers to short answer questions) \n",
    "2. Clearly label and type them into markdown cells (i.e. for MC type 1: a if you picked a for q1)\n",
    "\n",
    "For the quantitative questions, if you opt to use the notebook you have two options:\n",
    "1. Just use the notebook to do calculations, writing your final answers down by hand on the physical test. If you do this make sure you note this on the test so I know to check your work here!\n",
    "2. Clearly label and fully answer the questions here, with a combination of markdown and code cells as you see fit.\n",
    "\n",
    "After you have finished the test, create a PDF from your work (just like you have done with your homework) and upload it to the corresponding [Midterm 1 Canvas assignment](https://canvas.colorado.edu/courses/97828/assignments/1820029)."
   ]
  },
  {
   "cell_type": "code",
   "execution_count": null,
   "metadata": {},
   "outputs": [],
   "source": []
  },
  {
   "cell_type": "markdown",
   "metadata": {},
   "source": [
    "### MULTIPLE CHOICE\n",
    "\n",
    "1. a\n",
    "2. b\n",
    "3. a\n",
    "4. b\n",
    "5. a\n",
    "6. d\n",
    "7. a\n",
    "8. b\n",
    "9. e\n",
    "10. d\n",
    "11. a\n",
    "12. c\n",
    "13. b\n",
    "14. a\n",
    "15. b\n",
    "16. c\n",
    "17. d\n",
    "18. c\n",
    "19. c\n",
    "20. b\n",
    "\n",
    "#### Review\n",
    "\n",
    "1. b: Juputer's year would be 11x longer than Earth's (originally said 5x longer)\n",
    "\n",
    "    *  $P = \\dfrac{2\\pi r}{v} \\propto r^{3/2} = 11$ times longer\n",
    "\n",
    "2. c: The amt of E needed to send rocket would be larger\n",
    "\n",
    "3. Correct (?)\n",
    "4. Correct\n",
    "5. Correct\n",
    "6. Correct\n",
    "7. Correct (pulsars)\n",
    "8. Correct\n",
    "9. Correct\n",
    "\n",
    "10. b: ceph. 1 is closer bc shorter P and thus smaller intrinsic luminosity (didn't read question... they have same brightness!)\n",
    "\n",
    "11. Correct\n",
    "12. Correct\n",
    "13. Correct\n",
    "14. Correct\n",
    "15. Correct\n",
    "16. Correct\n",
    "\n",
    "17. c: energetic outbursts heat surrounding gas that limits star formation. Limits, doesn't add any material to help more star formation\n",
    "\n",
    "18. Correct\n",
    "\n",
    "19. a: relativistic $\\gamma$ is 1000 $\\to$ Earth measures distance of 5000 lyr, meaning even if they were going at speed of light, it would take them 5000 years. \n",
    "\n",
    "20. Correct\n"
   ]
  },
  {
   "cell_type": "markdown",
   "metadata": {},
   "source": [
    "### SHORT ANSWER QUESTIONS\n",
    "\n",
    "1. Based on the plot, astronomers of the time would think the universe was more than we think it is now. The age can be thought about as taking $\\dfrac{1}{H_0}$, where $H_0$ is the 'slope' of the line on the plot. Because the slope of the graph for 1929 is ~50 km/s/Mpc, and our current estimate for $H_0$ is 70 km/s/Mpc, this implies that they would think the universe is older than we think it is today."
   ]
  },
  {
   "cell_type": "code",
   "execution_count": 38,
   "metadata": {},
   "outputs": [
    {
     "name": "stdout",
     "output_type": "stream",
     "text": [
      "age 1929: 19555844433.615784 yr, age now: 13968460309.72556 yr\n"
     ]
    },
    {
     "data": {
      "text/latex": [
       "$50 \\; \\mathrm{\\frac{km}{Mpc\\,s}}$"
      ],
      "text/plain": [
       "<Quantity 50. km / (Mpc s)>"
      ]
     },
     "execution_count": 38,
     "metadata": {},
     "output_type": "execute_result"
    }
   ],
   "source": [
    "\n",
    "H_1929=((500*units.km/units.s) / (10e6*units.parsec)).to(units.km/units.s/units.Mpc)\n",
    "age_1929 = (1 / H_1929).to(units.year)\n",
    "H0 = 70 * units.km / units.s / units.Mpc\n",
    "age_now = (1/H0).to(units.year)\n",
    "print(f\"age 1929: {age_1929}, age now: {age_now}\")\n",
    "H_1929\n"
   ]
  },
  {
   "cell_type": "markdown",
   "metadata": {},
   "source": [
    "#### Review\n",
    "\n",
    "* math mistake: should have done 1e6, not 10e6. This would've given a Hubble constant significantly larger than our current one (500), so they wouldve thought the Universe was *younger*."
   ]
  },
  {
   "cell_type": "markdown",
   "metadata": {},
   "source": [
    "2. Black Hole Freediving\n",
    "\n",
    "    a. Assuming Sterling's mind is set, I would encourage him to jump into a supermassive black hole as opposed to a stellar mass, because a supermassive black hole would technically be less violent in the spaghettification process. This is because a black hole's density is inversely proportional to the square of its mass, meaning that the larger the black hole, the less dense it will be and thus this would make its effects less harsh on Sterling's body.\n",
    "    \n",
    "    b. As he jumps in, I will perceive him as being blueshifted as he crosses the event horizon, which would imply he ages incredibly fast. He would also go through \"spagghetification\", as his feet would be closer to the horizon compared to his head, essentially pulling him apart.\n",
    "\n",
    "    c. As Sterling falls in, he will see the entire history of the Universe in an instant, and then he will be gone. He will not notice himself aging at a different rate as outside observers would. "
   ]
  },
  {
   "cell_type": "markdown",
   "metadata": {},
   "source": [
    "### QUANTITATIVE"
   ]
  },
  {
   "cell_type": "code",
   "execution_count": 22,
   "metadata": {},
   "outputs": [
    {
     "data": {
      "text/latex": [
       "$1.0729098 \\times 10^{9} \\; \\mathrm{yr}$"
      ],
      "text/plain": [
       "<Quantity 1.0729098e+09 yr>"
      ]
     },
     "execution_count": 22,
     "metadata": {},
     "output_type": "execute_result"
    }
   ],
   "source": [
    "# 1. \n",
    "\n",
    "λ_rest = 0.12 * units.micron \n",
    "λ_emit = 1.5 * units.micron \n",
    "z = (λ_rest / λ_emit) \n",
    "v = ((1+z)**2 - 1) / ((1+z)**2 + 1) * c \n",
    "d = v / H0\n",
    "t = d/c \n",
    "t.to(units.year)\n",
    "\n"
   ]
  },
  {
   "cell_type": "markdown",
   "metadata": {},
   "source": [
    "#### Review\n",
    "\n",
    "* note the problem states 0.12 is the *emission* line...\n",
    "\n",
    "$$z = \\dfrac{∆\\lambda}{\\lambda} = \\dfrac{1.5-0.12}{0.12} ≈ 11.5$$\n",
    "\n",
    "$$v / c \\implies 0.99$$"
   ]
  },
  {
   "cell_type": "code",
   "execution_count": 37,
   "metadata": {},
   "outputs": [
    {
     "data": {
      "text/latex": [
       "$1.3828776 \\times 10^{10} \\; \\mathrm{yr}$"
      ],
      "text/plain": [
       "<Quantity 1.38287757e+10 yr>"
      ]
     },
     "execution_count": 37,
     "metadata": {},
     "output_type": "execute_result"
    }
   ],
   "source": [
    "dist = (0.99 * c / (70 * units.km/units.s/units.Mpc)).si\n",
    "time = dist / c\n",
    "time.to(units.year)"
   ]
  },
  {
   "cell_type": "code",
   "execution_count": 34,
   "metadata": {},
   "outputs": [
    {
     "data": {
      "text/latex": [
       "$1 \\; \\mathrm{}$"
      ],
      "text/plain": [
       "<Quantity 1.>"
      ]
     },
     "execution_count": 34,
     "metadata": {},
     "output_type": "execute_result"
    }
   ],
   "source": [
    "# 2.\n",
    "\n",
    "r = 30 * units.kpc \n",
    "ρ = (12.5e9 * M_sun) / ((4/3) * np.pi * r**3)\n",
    "\n",
    "M = lambda r, ρ: (ρ * (4/3) * np.pi * r**3).to(units.M_sun)\n",
    "v = lambda r, ρ: (2*r * np.sqrt((G*ρ*np.pi)/(3))).to(units.km/units.s)\n",
    "\n",
    "M1 = M(r,ρ)\n",
    "v1 = v(r,ρ)\n",
    "Mv = ((v1**2 * r) / G).to(units.M_sun)\n",
    "ratio = Mv/M1\n",
    "ratio\n"
   ]
  },
  {
   "cell_type": "markdown",
   "metadata": {},
   "source": [
    "#### RECITATION: review\n",
    "\n",
    "Easiest way to solve is rearranging for M $v = \\sqrt{\\dfrac{GM}{r}}$ => $\\dfrac{v^2r}{G} = M_T ≈ 1.57\\times 10^{11}$\n",
    "\n",
    "The ratio is then $\\dfrac{M_{total}}{M_{visible}} = \\dfrac{1.57\\times 10^{11}}{1.25\\times10^{10}}$"
   ]
  },
  {
   "cell_type": "markdown",
   "metadata": {},
   "source": []
  }
 ],
 "metadata": {
  "kernelspec": {
   "display_name": "Python 3 (ipykernel)",
   "language": "python",
   "name": "python3"
  },
  "language_info": {
   "codemirror_mode": {
    "name": "ipython",
    "version": 3
   },
   "file_extension": ".py",
   "mimetype": "text/x-python",
   "name": "python",
   "nbconvert_exporter": "python",
   "pygments_lexer": "ipython3",
   "version": "3.10.0"
  }
 },
 "nbformat": 4,
 "nbformat_minor": 2
}
