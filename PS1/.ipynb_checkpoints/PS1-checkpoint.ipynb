{
 "cells": [
  {
   "cell_type": "markdown",
   "metadata": {},
   "source": [
    "# ASTR 1040 Problem Set 1 <a id='top'></a>\n",
    "Below I've included two cheatsheets for how to do basic astropy/math commands that you may find useful for your homework. The actual homework starts [here](#HWStart).\n"
   ]
  },
  {
   "cell_type": "markdown",
   "metadata": {},
   "source": [
    "\n",
    "## Astropy FAQ <a id='astropyhelp'></a>\n",
    "This is a template file you can use to do your homeworks in. I recommend copying this each time you start a homework. The first cell (below) contains lots of helpful constants you may need to use throughout the semester. Make sure to run it each time before you start working! \n",
    "\n",
    "For reference, all of the `astropy` constants as well as examples can be found [here](https://docs.astropy.org/en/stable/constants/index.html). Likewise all of the units and their names / how to access them can be found [here](https://docs.astropy.org/en/stable/units/index.html). \n",
    "\n",
    "To create a variable with units you need to multiply by the corresponding unit class:\n",
    "\n",
    "```python\n",
    "d = 1 * units.au\n",
    "```\n",
    "\n",
    "You can then convert unitful quantities to other units by calling the `to` method and passing the desired end unit class: \n",
    "\n",
    "```python\n",
    "d_m = d.to(units.m)\n",
    "```\n",
    "\n",
    "If you have a ratio of quanities where all the units should cancel out, you can obtain the dimensionles number using the `dimesionless_unscaled` method. For example writing:\n",
    "```python\n",
    "d_m/d\n",
    "``` \n",
    "yields $1.4959787\\times 10^{11} \\rm{\\frac{m}{AU}}$, but doing:\n",
    "```python\n",
    "(d_m/d).to(units.dimensionless_unscaled)\n",
    "```\n",
    "returns `1.0` as expected.\n"
   ]
  },
  {
   "cell_type": "markdown",
   "metadata": {},
   "source": [
    "\n",
    "## Math FAQ <a id='mathhelp'></a>\n",
    "Let's say we have two numbers assigned to variables `x` and `y`, i.e.:\n",
    "```python\n",
    "x = 1.\n",
    "y = 2.\n",
    "\n",
    "Addition/subtraction/multiplication/division work largely how you would expect:\n",
    "```\n",
    "To add:\n",
    "```python\n",
    "x_plus_y = x+y\n",
    "print(x_plus_y)\n",
    ">>> 3.\n",
    "```\n",
    "To subtract:\n",
    "```python\n",
    "x_minus_y = x-y\n",
    "print(x_minus_y)\n",
    ">>> -1.\n",
    "```\n",
    "To multiply:\n",
    "```python\n",
    "x_times_y = x*y\n",
    "print(x_times_y)\n",
    ">>> 2.\n",
    "```\n",
    "To divide:\n",
    "```python\n",
    "x_over_y = x/y\n",
    "print(x_over_y)\n",
    ">>> 0.5\n",
    "```\n",
    "Unfortunately exponents are probably *not* what you would expect, but to raise to a power you do:\n",
    "```python\n",
    "y_tothe_x = y**x #note the ** for exponents\n",
    "```\n",
    "Oftentimes in astrophysics we have very large numbers, i.e. the mass of the supermassive black hole at the center of our galaxy (Sag A*) is $\\sim 4\\times 10^6 \\rm{M_\\odot}$. To write this number in python we can use the convenient \"e\" syntax:\n",
    "```python\n",
    "from astropy.constants import M_sun\n",
    "SagAMass = 4e6*M_sun\n",
    "print(SagAMass)\n",
    ">>> 7.953639482792203e+36 kg\n",
    "```\n",
    "To take the nth root of something raise it to the power of 1/n, i.e. to take the cubic root of `x`:\n",
    "```python\n",
    "cubeRoot = x**(1/3)\n",
    "```\n"
   ]
  },
  {
   "cell_type": "markdown",
   "metadata": {},
   "source": [
    "\n",
    "### numpy <a id='numpyhelp'></a>\n",
    "\n",
    "Oftentimes we will also use [`numpy`](https://numpy.org/doc/stable/reference/routines.math.html) to do math, as it provides convenient functionality to interface with all of the trig things we will need. This is also where you will get $\\pi$ from! A few examples:\n",
    "\n",
    "```python\n",
    "import numpy as np\n",
    "pi = np.pi\n",
    "sinx = np.sin(x)\n",
    "sinx_plus_2pi = np.sin(x+2*pi) #should be the same as sinx\n",
    "angle = np.atan2(y/x) #arctangent, use atan2 if you care about which quadrant!\n",
    "h = np.sqrt(x**2+y**2) #let x and y define sides of triangle\n",
    "y_trig = h*np.cos(angle) #should be the same as y\n",
    "```\n"
   ]
  },
  {
   "cell_type": "markdown",
   "metadata": {
    "tags": [
     "HWStart"
    ]
   },
   "source": [
    "## Constants and setup\n",
    "\n",
    "The cell below sets up astropy and imports all the constants you will need for all your homeworks and assigns them variable names (you probably won't need to use all of them for any given homework). Comments explain what each variable is. For example, if you need to use the mass of the Sun in your homework, you can get it by typing `M_sun`. It also imports `numpy` for you as `np` (i.e. to get $\\pi$ do `np.pi`). \n",
    "<a id=\"HWStart\"></a>\n",
    "### Make sure you run the cell below before starting your homework!!!\n"
   ]
  },
  {
   "cell_type": "code",
   "execution_count": 140,
   "metadata": {},
   "outputs": [],
   "source": [
    "#SETUP CELL (modify at your own peril)\n",
    "from astropy import units #access units by doing units.<unit> (i.e. units.au)\n",
    "from astropy import constants\n",
    "import numpy as np #common math functions (i.e. np.sin(x)) and better arrays (i.e. np.array([1,2,3])\n",
    "import matplotlib.pyplot as plt #plotting functions (i.e. plt.plot(x,y))\n",
    "G = constants.G # gravitational constant\n",
    "M_sun = constants.M_sun # mass of the sun\n",
    "R_sun = constants.R_sun # radius of the sun\n",
    "L_sun = constants.L_sun # luminosity of the sun\n",
    "M_earth = constants.M_earth # mass of the earth\n",
    "R_earth = constants.R_earth # radius of the earth\n",
    "M_jup = constants.M_jup # mass of jupiter\n",
    "R_jup = constants.R_jup # radius of jupiter\n",
    "sigma_sb = constants.sigma_sb # Stefan-Boltzmann constant\n",
    "c = constants.c # speed of light\n",
    "h = constants.h # Planck constant\n",
    "k_B = constants.k_B # Boltzmann constant\n",
    "m_e = constants.m_e # mass of electron\n",
    "m_p = constants.m_p # mass of proton \n",
    "m_n = constants.m_n # mass of neutron (basically just the mass of a proton but whatever)\n",
    "g0 = constants.g0 # standard gravity, 9.8 m/s^2\n",
    "e = constants.e # absolute value of electron/proton charge"
   ]
  },
  {
   "cell_type": "markdown",
   "metadata": {},
   "source": [
    "## Q1 (5 pts)\n",
    "Gravity is the weakest of the four fundamental forces. Why does it dominate on large scales?\n",
    "\n",
    "Provide your answer as text in the Markdown cell below."
   ]
  },
  {
   "cell_type": "markdown",
   "metadata": {},
   "source": [
    "Although gravity is technically the weakest fundamental force, it is the only one that does not have a cancelling counterpart, meaning that gravitational force is *always additive*. On the nuclear scale, gravity is usually negligible when doing calculations, and similarly nuclear forces are typically negligible in astronomical calculations because of their limited range. Electromagnetic forces eventually become negligible in astronomical calculations because their range gets limited due to the canceling effect of electric charges. There is no such thing as negative mass, and thus gravity becomes the only force left at the astronomical scale that can effectively act on objects like stars and galaxies."
   ]
  },
  {
   "cell_type": "markdown",
   "metadata": {},
   "source": [
    "## Q2 (5 pts)\n",
    "\n",
    "Explain how we know what is happening inside the Sun. \n",
    "\n",
    "Provide your answer as text in the Markdown cell below."
   ]
  },
  {
   "cell_type": "markdown",
   "metadata": {},
   "source": [
    "We know what is happening inside of the Sun because of the various mathematical models scientists have created to estimate the temperatures and densities of the inner layers of the Sun. These models match data gathered via Heliosmology, which uses Doppler maps to study the rotation of the Sun. Additionally, scientists have built neutrino detectors, which are used to detect the amount of neutrinos that are being emitted via nuclear fusion from the Sun."
   ]
  },
  {
   "cell_type": "markdown",
   "metadata": {},
   "source": [
    "## Q3 (3 pts)\n",
    "\n",
    "What does the exclusion principle say? \n",
    "\n",
    "Provide your answer as text in the Markdown cell below."
   ]
  },
  {
   "cell_type": "markdown",
   "metadata": {},
   "source": [
    "The exclusion principle states that no two fermions can occupy the same quantum state simultaneously. For example, there are no two electrons in the same orbit of an atom that can have *all* of the same properties. That is, since mass and charge of electrons is the same, their spin is the only property that can and must be different; one must be spinning up and the other down. If another electron wants to enter an atom's shell that is already full, it must enter a new shell or be repelled away."
   ]
  },
  {
   "cell_type": "markdown",
   "metadata": {},
   "source": [
    "## Q4 (2 pts)\n",
    "\n",
    "The strength of degeneracy pressure in an object such as a neutron star depends on **density**\n",
    "\n",
    "Edit this cell and replace the blank with your answer."
   ]
  },
  {
   "cell_type": "markdown",
   "metadata": {},
   "source": [
    "## Q5 (15 pts)\n",
    "\n",
    "**Your quantum uncertainty**\n",
    "\n",
    "You are running to catch a squirrel at a speed of $20 \\pm 1$ $\\rm{\\frac{km}{hr}}$. Using your mass, you can calculate the uncertainty in your momentum. \n",
    "\n",
    "a. What is the corresponding quantum limit on the uncertainty in your position? \n",
    "\n",
    "Calculate and report your answer using (using `units` as appropriate) in the code cell below.  "
   ]
  },
  {
   "cell_type": "code",
   "execution_count": 147,
   "metadata": {},
   "outputs": [
    {
     "data": {
      "text/latex": [
       "$3.7964585 \\times 10^{-36} \\; \\mathrm{m}$"
      ],
      "text/plain": [
       "<Quantity 3.79645854e-36 m>"
      ]
     },
     "execution_count": 147,
     "metadata": {},
     "output_type": "execute_result"
    }
   ],
   "source": [
    "# v = 20 km/hr\n",
    "# dv = 1 km/hr\n",
    "\n",
    "# Uncertainty Principle: dx * dp = h / 2\n",
    "# ==> dx * dp ≥ h / 4pi\n",
    "\n",
    "# dp = dv * m\n",
    "# dx ≥ h / 4*pi * (1 / dp)\n",
    "\n",
    "v = (20 * (units.km / units.hr)).si\n",
    "m = 50 * units.kg\n",
    "dv = 1 * (units.km / units.hr)\n",
    "dp = m * dv\n",
    "dx = (h / (4 * np.pi)) / dp\n",
    "dx.si\n"
   ]
  },
  {
   "cell_type": "markdown",
   "metadata": {},
   "source": [
    "b. Comment on the size of your answer. Is this something the squirrel needs to account for in determining if it will get caught? \n",
    "\n",
    "Provide your answer as text in the Markdown cell below."
   ]
  },
  {
   "cell_type": "markdown",
   "metadata": {},
   "source": [
    "No, this is not something the squirrel needs to account for in determining if he will get caught, because it is negligibly small."
   ]
  },
  {
   "cell_type": "markdown",
   "metadata": {},
   "source": [
    "## Q6 (50 pts)\n",
    "\n",
    "**How long will the Sun last?**\n",
    "Let's do our own rough estimate on how long our Sun will last. The Sun's energy comes from fusing H into He. Ultimately, four sets of protons react to produce a Helium atom (and two Hydrogens), which yields $4.227\\times 10^{-12} \\rm{J}$ of energy (from $E=mc^2$).\n",
    "\n",
    "a. The mass of a proton is provided to you as `m_p` (see setup cell above), and the mass of the Sun is given to you as `M_sun`. Assuming the Sun is entirely made up of protons, how many protons are in the Sun?\n",
    "\n",
    "Use the code cell below to calculate and report your answer."
   ]
  },
  {
   "cell_type": "code",
   "execution_count": 148,
   "metadata": {},
   "outputs": [
    {
     "data": {
      "text/latex": [
       "$1.1887982 \\times 10^{57} \\; \\mathrm{}$"
      ],
      "text/plain": [
       "<Quantity 1.18879816e+57>"
      ]
     },
     "execution_count": 148,
     "metadata": {},
     "output_type": "execute_result"
    }
   ],
   "source": [
    "# M_sun = x * m_p\n",
    "# x * m_p = M_sun\n",
    "# x = M_sun / m_p\n",
    "p_tot = M_sun / m_p\n",
    "p_tot.si"
   ]
  },
  {
   "cell_type": "markdown",
   "metadata": {},
   "source": [
    "b. Fusion can only occur in the Sun's core, and about 10% of the Sun's mass is in the core. How many protons are in the core? \n",
    "\n",
    "Use the code cell below to calculate and report your answer."
   ]
  },
  {
   "cell_type": "code",
   "execution_count": 149,
   "metadata": {},
   "outputs": [
    {
     "data": {
      "text/latex": [
       "$1.1887982 \\times 10^{56} \\; \\mathrm{}$"
      ],
      "text/plain": [
       "<Quantity 1.18879816e+56>"
      ]
     },
     "execution_count": 149,
     "metadata": {},
     "output_type": "execute_result"
    }
   ],
   "source": [
    "m_core = M_sun * 0.1\n",
    "p_core = m_core / m_p\n",
    "p_core.si"
   ]
  },
  {
   "cell_type": "markdown",
   "metadata": {},
   "source": [
    "c. The luminosity of the Sun is conveniently given to you as `L_sun` (see setup cell). If each reaction (4H -> He) produces $4.277\\times 10^{-12} \\rm{J}$, how many protons must the Sun fuse every second to maintain its current luminosity? \n",
    "\n",
    "Use the code cell below to calculate and report your answer."
   ]
  },
  {
   "cell_type": "code",
   "execution_count": 150,
   "metadata": {},
   "outputs": [
    {
     "data": {
      "text/latex": [
       "$9.0560681 \\times 10^{37} \\; \\mathrm{\\frac{1}{s}}$"
      ],
      "text/plain": [
       "<Quantity 9.05606813e+37 1 / s>"
      ]
     },
     "execution_count": 150,
     "metadata": {},
     "output_type": "execute_result"
    }
   ],
   "source": [
    "\n",
    "# [L] = E / t\n",
    "# [p] = E / m\n",
    "# [E] = J\n",
    "# want: # of reactions / t\n",
    "# [L] / [E] = reactions per second\n",
    "\n",
    "E_r = 4.227e-12 * units.J\n",
    "rate = L_sun / E_r\n",
    "rate.si"
   ]
  },
  {
   "cell_type": "markdown",
   "metadata": {},
   "source": [
    "d. How long will it take for the Sun to burn through all of its fuel in the core? \n",
    "\n",
    "Use the code cell below to calculate and report your answer in **billions** of years."
   ]
  },
  {
   "cell_type": "code",
   "execution_count": 151,
   "metadata": {},
   "outputs": [
    {
     "data": {
      "text/latex": [
       "$1.0399309 \\times 10^{10} \\; \\mathrm{yr}$"
      ],
      "text/plain": [
       "<Quantity 1.03993091e+10 yr>"
      ]
     },
     "execution_count": 151,
     "metadata": {},
     "output_type": "execute_result"
    }
   ],
   "source": [
    "# t [s] = [M] / [L/p]\n",
    "# t = [num_protons] / [reactions/s] \n",
    "\n",
    "t = p_core / (4*rate) # divide by 4 bc 4 protons per reaction\n",
    "t.to(units.yr)"
   ]
  },
  {
   "cell_type": "markdown",
   "metadata": {},
   "source": [
    "e. Best current estimates for the lifetime of the Sun place it around 10 billion years. How does your estimate compare to this number? Does it agree?\n",
    "\n",
    "Use the markdown cell below to provide your answer."
   ]
  },
  {
   "cell_type": "markdown",
   "metadata": {},
   "source": [
    "Yes, my estimate of ~$1.04\\times 10^{10}$ agrees with the estimate of a 10 billion year lifespan of the Sun."
   ]
  },
  {
   "cell_type": "markdown",
   "metadata": {},
   "source": [
    "## Q7 (20 pts)\n",
    "\n",
    "**JWST vs. Spitzer**\n",
    "\n",
    "Images from the new James Webb Space Telescope look way more awesome than the equivalent ones from the Spitzer Space Telescope. We will look here at two of the reasons why.\n",
    "![SpitzervsJWST](img/SMACS0723.png)\n",
    "\n",
    "a. JWST and Spitzer both observe in the infrared, where a typical wavelength is something like $\\sim 4.5 \\rm{\\mu m}$. How much better is the spatial resolution possible with JWST vs. Spitzer. \n",
    "\n",
    "**Hint:** You will need to look up the size of both telescopes, and provide your answer as a ratio.\n",
    "\n",
    "Use the code cell below to calculate and report your answer."
   ]
  },
  {
   "cell_type": "code",
   "execution_count": 152,
   "metadata": {},
   "outputs": [
    {
     "data": {
      "text/latex": [
       "$7.6470588 \\; \\mathrm{}$"
      ],
      "text/plain": [
       "<Quantity 7.64705882>"
      ]
     },
     "execution_count": 152,
     "metadata": {},
     "output_type": "execute_result"
    }
   ],
   "source": [
    "# angular defraction limit is proportional to [lambda / diameter]\n",
    "# --> theta \\prop lambda / d\n",
    "\n",
    "wavelength = (4.5 * units.micrometer).si\n",
    "d_s = (85 * units.cm).si # mirror diameter\n",
    "d_j = 6.5 * units.m\n",
    "\n",
    "theta_s = 1.22*(wavelength / d_s)\n",
    "theta_j = 1.22*(wavelength / d_j)\n",
    "\n",
    "res_ratio = (theta_s / theta_j).si\n",
    "res_ratio"
   ]
  },
  {
   "cell_type": "markdown",
   "metadata": {},
   "source": [
    "b. How much greater is the light collecting-area of JWST over Spitzer? \n",
    "\n",
    "Use the code cell below to calculate and report your answer."
   ]
  },
  {
   "cell_type": "code",
   "execution_count": 153,
   "metadata": {},
   "outputs": [
    {
     "data": {
      "text/latex": [
       "$58.477509 \\; \\mathrm{}$"
      ],
      "text/plain": [
       "<Quantity 58.47750865>"
      ]
     },
     "execution_count": 153,
     "metadata": {},
     "output_type": "execute_result"
    }
   ],
   "source": [
    "# A = pi*R^2\n",
    "\n",
    "A_s = np.pi * (d_s / 2)**2\n",
    "A_j = np.pi * (d_j / 2)**2\n",
    "\n",
    "area_ratio = A_j / A_s\n",
    "area_ratio "
   ]
  },
  {
   "cell_type": "markdown",
   "metadata": {},
   "source": [
    "c. What does your answer to part b imply about the amount of observation time needed with each telescope to collect the same number of photons?\n",
    "\n",
    "Use the markdown cell below to provide your answer."
   ]
  },
  {
   "cell_type": "markdown",
   "metadata": {},
   "source": [
    "Since JWST has nearly 59x more collecting area, this implies that the observation time needed for JWST will be less than that for Spitzer, because an increase in collecting area $\\propto$ a decrease in time."
   ]
  }
 ],
 "metadata": {
  "kernelspec": {
   "display_name": "Python 3 (ipykernel)",
   "language": "python",
   "name": "python3"
  },
  "language_info": {
   "codemirror_mode": {
    "name": "ipython",
    "version": 3
   },
   "file_extension": ".py",
   "mimetype": "text/x-python",
   "name": "python",
   "nbconvert_exporter": "python",
   "pygments_lexer": "ipython3",
   "version": "3.10.0"
  },
  "varInspector": {
   "cols": {
    "lenName": 16,
    "lenType": 16,
    "lenVar": 40
   },
   "kernels_config": {
    "python": {
     "delete_cmd_postfix": "",
     "delete_cmd_prefix": "del ",
     "library": "var_list.py",
     "varRefreshCmd": "print(var_dic_list())"
    },
    "r": {
     "delete_cmd_postfix": ") ",
     "delete_cmd_prefix": "rm(",
     "library": "var_list.r",
     "varRefreshCmd": "cat(var_dic_list()) "
    }
   },
   "types_to_exclude": [
    "module",
    "function",
    "builtin_function_or_method",
    "instance",
    "_Feature"
   ],
   "window_display": false
  }
 },
 "nbformat": 4,
 "nbformat_minor": 2
}
