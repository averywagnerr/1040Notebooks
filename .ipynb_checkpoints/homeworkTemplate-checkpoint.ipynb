{
 "cells": [
  {
   "attachments": {},
   "cell_type": "markdown",
   "metadata": {},
   "source": [
    "# ASTR 1040 Jupyter Notebook Homework Template\n",
    "\n",
    "This is a template file you can use to do your homeworks in. I recommend copying this each time you start a homework. The first cell (below) contains lots of helpful constants you may need to use throughout the semester. Make sure to run it each time before you start working! \n",
    "\n",
    "For reference, all of the `astropy` constants as well as examples can be found [here](https://docs.astropy.org/en/stable/constants/index.html). Likewise all of the units and their names / how to access them can be found [here](https://docs.astropy.org/en/stable/units/index.html). \n",
    "\n",
    "To create a variable with units you need to multiply by the corresponding unit class:\n",
    "\n",
    "```python\n",
    "d = 1 * units.au\n",
    "```\n",
    "\n",
    "You can then convert unitful quantities to other units by calling the `to` method and passing the desired end unit class: \n",
    "\n",
    "```python\n",
    "d_m = d.to(units.m)\n",
    "```\n",
    "\n",
    "If you have a ratio of quanities where all the units should cancel out, you can obtain the dimensionles number using the `dimesionless_unscaled` method. For example writing:\n",
    "```python\n",
    "d_m/d\n",
    "``` \n",
    "yields $1.4959787\\times 10^{11} \\rm{\\frac{m}{AU}}$, but doing:\n",
    "```python\n",
    "(d_m/d).to(units.dimensionless_unscaled)\n",
    "```\n",
    "returns `1.0` as expected."
   ]
  },
  {
   "cell_type": "code",
   "execution_count": 1,
   "metadata": {},
   "outputs": [
    {
     "ename": "ModuleNotFoundError",
     "evalue": "No module named 'astropy'",
     "output_type": "error",
     "traceback": [
      "\u001b[0;31m---------------------------------------------------------------------------\u001b[0m",
      "\u001b[0;31mModuleNotFoundError\u001b[0m                       Traceback (most recent call last)",
      "Cell \u001b[0;32mIn[1], line 2\u001b[0m\n\u001b[1;32m      1\u001b[0m \u001b[39m#SETUP CELL (modify at your own peril)\u001b[39;00m\n\u001b[0;32m----> 2\u001b[0m \u001b[39mfrom\u001b[39;00m \u001b[39mastropy\u001b[39;00m \u001b[39mimport\u001b[39;00m units \u001b[39m#access units by doing units.<unit> (i.e. units.au)\u001b[39;00m\n\u001b[1;32m      3\u001b[0m \u001b[39mfrom\u001b[39;00m \u001b[39mastropy\u001b[39;00m \u001b[39mimport\u001b[39;00m constants\n\u001b[1;32m      4\u001b[0m \u001b[39mimport\u001b[39;00m \u001b[39mnumpy\u001b[39;00m \u001b[39mas\u001b[39;00m \u001b[39mnp\u001b[39;00m \u001b[39m#common math functions (i.e. np.sin(x)) and better arrays (i.e. np.array([1,2,3])\u001b[39;00m\n",
      "\u001b[0;31mModuleNotFoundError\u001b[0m: No module named 'astropy'"
     ]
    }
   ],
   "execution_count": 2,
   "metadata": {},
   "outputs": [],
   "source": [
    "#SETUP CELL (modify at your own peril)\n",
    "from astropy import units #access units by doing units.<unit> (i.e. units.au)\n",
    "from astropy import constants\n",
    "import numpy as np #common math functions (i.e. np.sin(x)) and better arrays (i.e. np.array([1,2,3])\n",
    "import matplotlib.pyplot as plt #plotting functions (i.e. plt.plot(x,y))\n",
    "G = constants.G # gravitational constant\n",
    "M_sun = constants.M_sun # mass of the sun\n",
    "R_sun = constants.R_sun # radius of the sun\n",
    "L_sun = constants.L_sun # luminosity of the sun\n",
    "M_earth = constants.M_earth # mass of the earth\n",
    "R_earth = constants.R_earth # radius of the earth\n",
    "M_jup = constants.M_jup # mass of jupiter\n",
    "R_jup = constants.R_jup # radius of jupiter\n",
    "sigma_sb = constants.sigma_sb # Stefan-Boltzmann constant\n",
    "c = constants.c # speed of light\n",
    "h = constants.h # Planck constant\n",
    "k_B = constants.k_B # Boltzmann constant\n",
    "m_e = constants.m_e # mass of electron\n",
    "m_p = constants.m_p # mass of proton \n",
    "m_n = constants.m_n # mass of neutron (basically just the mass of a proton but whatever)\n",
    "g0 = constants.g0 # standard gravity, 9.8 m/s^2\n",
    "e = constants.e # absolute value of electron/proton charge"
   ]
  },
  {
   "cell_type": "code",
   "execution_count": 9,
   "metadata": {},
   "outputs": [
    {
     "data": {
      "text/latex": [
       "$44288.933 \\; \\mathrm{C}$"
      ],
      "text/plain": [
       "<Quantity 44288.93333333 C>"
      ]
     },
     "execution_count": 9,
     "metadata": {},
     "output_type": "execute_result"
    }
   ],
   "source": [
    "# Practice Problem 1\n",
    "\n",
    "K = 9e9*units.N*units.m**2/units.C**2 # Coulomb constant\n",
    "\n",
    "# Fc = (K * (np.abs(q1*q2) / (r**2)))\n",
    "# avg human is 50kg -> converted to coulombs == 50 c\n",
    "\n",
    "r = R_earth\n",
    "m1 = M_earth\n",
    "m2 = 50 * units.kg\n",
    "F_G = (G * ((m1*m2) / (r**2)))\n",
    "     \n",
    "q1 = 50 * units.C\n",
    "q2 = (((r**2) * F_G) / (q1 * K)).to(units.C)\n",
    "q2\n"
   ]
  },
  {
   "cell_type": "markdown",
   "metadata": {},
   "source": [
    "# Practice Problem 1: Quantum Mechanical Uncertainty\n",
    "\n",
    "The Sun's core has temps of ~14 mil Kº with large fluctuations of ~1 mil Kº. Calculate the quantum uncertainty in position for a proton with the kinetic energy associated with such fluctuations.\n",
    "\n",
    "x = position\n",
    "p = momentum\n",
    "h = Planck's constant\n",
    "\n",
    "Uncertainty Equation: dx * dp ≥ h / 4pi\n",
    "\n",
    "**IMPORTANT EQUATION!**\n",
    "    E = 1/2 * m * v^2 = p^2 / 2*m\n",
    "    --> E/m = 3/2 * k * T\n",
    "\n",
    "* dx ≥ h / 4*pi * (1 / dp)"
   ]
  },
  {
   "cell_type": "code",
   "execution_count": null,
   "metadata": {},
   "outputs": [],
   "source": [
    "# Need * 10^24 MORE gravitational charge to generate the same pull as 44289 Coulombs of charge generated from rubbing your feet on the carpet"
   ]
  },
  {
   "cell_type": "code",
   "execution_count": 8,
   "metadata": {},
   "outputs": [
    {
     "data": {
      "text/latex": [
       "$8.3217391 \\times 10^{18} \\; \\mathrm{\\frac{kg}{s}}$"
      ],
      "text/plain": [
       "<Quantity 8.32173913e+18 kg / s>"
      ]
     },
     "execution_count": 8,
     "metadata": {},
     "output_type": "execute_result"
    }
   ],
   "source": [
    "\n",
    "''' Practice Problem 2 - The Sun as a Giant Ball of Gas\n",
    "\n",
    "When 1 kg of kerosene is burned, the chemical reaction releases an enormous ~46 million J of energy.\n",
    "1. Using L_sun, if we assume it the Sun is being powered by burning kerosene, how many kg of fuel must be burned per second?\n",
    "2. How long would you expect the Sun to live with the reaction rate you calculated in part 1?\n",
    "'''\n",
    "\n",
    "# Part 1\n",
    "\n",
    "# [L] = E / t\n",
    "# [k] = E / m\n",
    "# want: m / t\n",
    "# [L] / [k] = (E / t) / (E / m) = m / t ==> L / k\n",
    "\n",
    "E = 46e6 * units.J\n",
    "gas = L_sun / (E / units.kg) # J / kg being burned\n",
    "\n",
    "gas.si\n"
   ]
  },
  {
   "cell_type": "code",
   "execution_count": 13,
   "metadata": {},
   "outputs": [
    {
     "data": {
      "text/latex": [
       "$7571.6032 \\; \\mathrm{yr}$"
      ],
      "text/plain": [
       "<Quantity 7571.6031956 yr>"
      ]
     },
     "execution_count": 13,
     "metadata": {},
     "output_type": "execute_result"
    }
   ],
   "source": [
    "# Part 2\n",
    "\n",
    "# t = Sun's lifetime\n",
    "# [M] / [L/k] => s\n",
    "\n",
    "t = M_sun / gas\n",
    "t.to(units.yr)"
   ]
  },
  {
   "cell_type": "code",
   "execution_count": 14,
   "metadata": {},
   "outputs": [
    {
     "data": {
      "text/plain": [
       "' HW Prep Problem\\ntheta ~= 1.22 * lambda / D ~= true size / distance \\n-> The smallest size that a telescope can distinguish an object from another\\n\\n* convert GHz to lambda ?\\n    F = m * a\\n  * v = lambda * f # Remember this!\\n'"
      ]
     },
     "execution_count": 14,
     "metadata": {},
     "output_type": "execute_result"
    }
   ],
   "source": [
    "''' HW Prep Problem\n",
    "theta ~= 1.22 * lambda / D ~= true size / distance \n",
    "-> The smallest size that a telescope can distinguish an object from another\n",
    "\n",
    "* convert GHz to lambda ?\n",
    "    F = m * a\n",
    "  * v = lambda * f # Remember this!\n",
    "'''"
   ]
  },
  {
   "cell_type": "code",
   "execution_count": null,
   "metadata": {},
   "outputs": [],
   "source": []
  },
  {
   "cell_type": "markdown",
   "metadata": {},
   "source": [
    "## Stellar Points\n",
    "\n",
    "1. In space, gravity is *not* the constant acceleration, but instead depends (in simple Newtonian land) the inverse of your distance form the center of the object squared. You only feel the gravity of stuff interior to you, so in a star, or bigggg objects, there is a *gradient* in the strength of gravity - i.e. it differs according to your distance form it.\n",
    "2. For things to be in *equilibrium* there can be no net forces\n",
    "\n",
    "## What's After Neutron Stars?\n",
    "Eventually, gravity wins out over the neutron star's internal pressure such that it collapses and forms a black hole.\n",
    "\n",
    "# Practice Problem 2: Squeezing yourself into a black hole\n",
    "\n",
    "Schwarzschild radius: R_s = 2 * G * M / c^2, where G is the gravitational constant and M is the mass of the black hole.\n",
    "\n",
    "Convert your approximate weight to kg and calculate how small you would have to get squished down to form a black hole.\n"
   ]
  },
  {
   "cell_type": "code",
   "execution_count": 3,
   "metadata": {},
   "outputs": [
    {
     "data": {
      "text/latex": [
       "$7.4261603 \\times 10^{-26} \\; \\mathrm{m}$"
      ],
      "text/plain": [
       "<Quantity 7.42616027e-26 m>"
      ]
     },
     "execution_count": 3,
     "metadata": {},
     "output_type": "execute_result"
    }
   ],
   "source": [
    "R_s = (2 * G * (50 * units.kg)) / (c**2)\n",
    "R_s"
   ]
  },
  {
   "cell_type": "code",
   "execution_count": 17,
   "metadata": {},
   "outputs": [
    {
     "data": {
      "text/latex": [
       "$4.8440211 \\; \\mathrm{\\frac{AU^{3}}{yr^{2}}}$"
      ],
      "text/plain": [
       "<Quantity 4.84402114 AU3 / yr2>"
      ]
     },
     "execution_count": 17,
     "metadata": {},
     "output_type": "execute_result"
    }
   ],
   "source": [
    "P = 0.5 * units.yr\n",
    "v = 80000 * (units.m / units.s)\n",
    "r = ((v*P)/(2*np.pi))\n",
    "a = r.to(units.AU)\n",
    "M = ((a**3)/(P**2)) / 2\n",
    "M\n"
   ]
  }
 ],
 "metadata": {
  "kernelspec": {
   "display_name": "Python 3 (ipykernel)",
   "language": "python",
   "name": "python3"
  },
  "language_info": {
   "codemirror_mode": {
    "name": "ipython",
    "version": 3
   },
   "file_extension": ".py",
   "mimetype": "text/x-python",
   "name": "python",
   "nbconvert_exporter": "python",
   "pygments_lexer": "ipython3",
   "version": "3.10.4"
  }
 },
 "nbformat": 4,
 "nbformat_minor": 4
}
