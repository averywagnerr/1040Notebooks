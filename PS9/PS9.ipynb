{
 "cells": [
  {
   "cell_type": "markdown",
   "metadata": {},
   "source": [
    "# ASTR 1040 Problem Set 9\n",
    "\n",
    "**This is your last homework of the semester! Congrats on making it :)**\n",
    "\n",
    "The first cell (below) contains lots of helpful constants you may need to use throughout the semester. Make sure to run it each time before you start working! \n",
    "\n",
    "For reference, all of the `astropy` constants as well as examples can be found [here](https://docs.astropy.org/en/stable/constants/index.html). Likewise all of the units and their names / how to access them can be found [here](https://docs.astropy.org/en/stable/units/index.html). \n",
    "\n",
    "To create a variable with units you need to multiply by the corresponding unit class:\n",
    "\n",
    "```python\n",
    "d = 1 * units.au\n",
    "```\n",
    "\n",
    "You can then convert unitful quantities to other units by calling the `to` method and passing the desired end unit class: \n",
    "\n",
    "```python\n",
    "d_m = d.to(units.m)\n",
    "```\n",
    "\n",
    "If you have a ratio of quanities where all the units should cancel out, you can obtain the dimensionles number using the `dimesionless_unscaled` method. For example writing:\n",
    "```python\n",
    "d_m/d\n",
    "``` \n",
    "yields $1.4959787\\times 10^{11} \\rm{\\frac{m}{AU}}$, but doing:\n",
    "```python\n",
    "(d_m/d).to(units.dimensionless_unscaled)\n",
    "```\n",
    "returns `1.0` as expected."
   ]
  },
  {
   "cell_type": "code",
   "execution_count": 1,
   "metadata": {},
   "outputs": [],
   "source": [
    "#SETUP CELL (modify at your own peril)\n",
    "from astropy import units #access units by doing units.<unit> (i.e. units.au)\n",
    "from astropy import constants\n",
    "import numpy as np #common math functions (i.e. np.sin(x)) and better arrays (i.e. np.array([1,2,3])\n",
    "import matplotlib.pyplot as plt #plotting functions (i.e. plt.plot(x,y))\n",
    "G = constants.G # gravitational constant\n",
    "M_sun = constants.M_sun # mass of the sun\n",
    "R_sun = constants.R_sun # radius of the sun\n",
    "L_sun = constants.L_sun # luminosity of the sun\n",
    "M_earth = constants.M_earth # mass of the earth\n",
    "R_earth = constants.R_earth # radius of the earth\n",
    "M_jup = constants.M_jup # mass of jupiter\n",
    "R_jup = constants.R_jup # radius of jupiter\n",
    "sigma_sb = constants.sigma_sb # Stefan-Boltzmann constant\n",
    "b_wien = constants.b_wien # Wien's displacement constant\n",
    "c = constants.c # speed of light\n",
    "h = constants.h # Planck constant\n",
    "k_B = constants.k_B # Boltzmann constant\n",
    "m_e = constants.m_e # mass of electron\n",
    "m_p = constants.m_p # mass of proton \n",
    "m_n = constants.m_n # mass of neutron (basically just the mass of a proton but whatever)\n",
    "g0 = constants.g0 # standard gravity, 9.8 m/s^2\n",
    "e = constants.e # absolute value of electron/proton charge"
   ]
  },
  {
   "cell_type": "markdown",
   "metadata": {},
   "source": [
    "## 1 Astrobites [20 points]\n",
    "Read [this astrobites article](https://astrobites.org/2022/09/06/sparkling-stars/) &mdash; what is the main result of this paper and why is it surprising? \n",
    "\n",
    "$\\to$ The main result of this paper discusses how \"sparkle\" looking objects from new JWST data could actually be extremely early globuar clusters that would have formed just 0.5 Gyr after the Big Bang. The authors of the original paper do note that the exact magnification has not been determined, which is necessary to concretely condlude that these \"sparkles\" are in fact evolved globular clusters. If this is the case, these findings would be the first discovered globular clusters that stopped forming stars extremely so early in the history of the Universe. These findings could be the beginning of more research to come that would shed light on the mysterious mechanisms from the era of reionization."
   ]
  },
  {
   "cell_type": "markdown",
   "metadata": {},
   "source": [
    "## 2 The Cosmic Microwave Background [50 points]\n",
    "\n",
    "The big bang theory predicts that background light was freely emitted as black-body radiation when the universe cooled to around 3,000 K 380,000 years after its beginning. Why did the universe have to wait this long? In the beginning the big bang predicts that the universe would be filled with a very hot and dense soup of subatomic particle plasma, which was opaque to light (optically thick). As the universe expanded it cooled, and eventually reached a tipping point after a few hundred thousand years where it was cool enough that the first atoms (mostly H) could form &mdash; these atoms were basically transparent when compared with the earlier subatomic plasma soup, so all of the light that was bouncing around in the early universe was let out in an instant, to freely travel across cosmic time and space. Because space has expanded a great deal since the big bang this radiation has been redshifted into the microwave portion of the EM spectrum, hence we call it the cosmic *microwave* background (CMB). Because it was emitted at the moment the universe became mostly transparent, this radiation marks the farthest back in time and space we can possibly see. The big bang theory predicted the properties of the cosmic microwave background before it was observed, thus its observation is one of the fundamental underpinnings of this theory and why we think it is the best explanation for how our universe was formed. \n",
    "\n",
    "### a) What color was the early universe? [10 points]\n",
    "\n",
    "Use the fact that the big bang theory predicts that the light should have been emitted as a blackbody when the universe was roughly 3,000 K to calculate the peak wavelength of emission. Suppose you wanted to paint your room the color of the early universe &mdash; what might you choose and why? \n"
   ]
  },
  {
   "cell_type": "code",
   "execution_count": 4,
   "metadata": {},
   "outputs": [
    {
     "data": {
      "text/latex": [
       "$965.92399 \\; \\mathrm{nm}$"
      ],
      "text/plain": [
       "<Quantity 965.92398506 nm>"
      ]
     },
     "execution_count": 4,
     "metadata": {},
     "output_type": "execute_result"
    }
   ],
   "source": [
    "T_bb = 3000 * units.Kelvin\n",
    "λ_peak = (b_wien / T_bb).to(units.nm)\n",
    "λ_peak"
   ]
  },
  {
   "cell_type": "markdown",
   "metadata": {},
   "source": [
    "$\\to$ The peak wavelength comes out to 966 nm, which is technically in the infrared, and coincidentally what most household incandescent lights emit. A bright red is probably the closest color wavelength wise, but visually maybe light yellow (like a lightbulb) would work."
   ]
  },
  {
   "cell_type": "markdown",
   "metadata": {},
   "source": [
    "\n",
    "### b) What color is the universe today? [10 points]\n",
    "Use the spectrum of the CMB produced by the [COBE](https://science.nasa.gov/mission/cobe/) team (shown below, or at [this](http://hyperphysics.phy-astr.gsu.edu/hbase/Astro/imgast/Cobe3k.gif) link) to calculate the peak wavelength of the observed CMB emission today. Is any of the emission from the early universe still visible to the human eye today? \n",
    "\n",
    "![CMBSpectrum](http://hyperphysics.phy-astr.gsu.edu/hbase/Astro/imgast/Cobe3k.gif)\n"
   ]
  },
  {
   "cell_type": "code",
   "execution_count": 21,
   "metadata": {},
   "outputs": [
    {
     "data": {
      "text/latex": [
       "$1.057581 \\; \\mathrm{mm}$"
      ],
      "text/plain": [
       "<Quantity 1.05758101 mm>"
      ]
     },
     "execution_count": 21,
     "metadata": {},
     "output_type": "execute_result"
    }
   ],
   "source": [
    "T_cmb = 2.74 * units.K \n",
    "λ_peak_now = (b_wien / T_cmb).to(units.mm)\n",
    "λ_peak_now\n"
   ]
  },
  {
   "cell_type": "markdown",
   "metadata": {},
   "source": [
    "$\\to$ The peak wavelength of the CMB today is at ~1.06 mm; significantly greater than its original peak. This falls in the microwave region of the electromagnetic spectrum, and thus is not visible to the human eye today."
   ]
  },
  {
   "cell_type": "markdown",
   "metadata": {},
   "source": [
    "\n",
    "### c) What is the temperature of the universe? [10 points]\n",
    "\n",
    "Using your answer from part b, calculate the temperature of the present-day cosmic background. Since the CMB permeates all of space, this is essentially the minimum temperature of anything embedded in space. \n"
   ]
  },
  {
   "cell_type": "code",
   "execution_count": 23,
   "metadata": {},
   "outputs": [
    {
     "data": {
      "text/latex": [
       "$2.74 \\; \\mathrm{K}$"
      ],
      "text/plain": [
       "<Quantity 2.74 K>"
      ]
     },
     "execution_count": 23,
     "metadata": {},
     "output_type": "execute_result"
    }
   ],
   "source": [
    "# λ_peak = b / T ==> T = b / λ_peak\n",
    "T_now = (b_wien / λ_peak_now).to(units.K)\n",
    "T_now"
   ]
  },
  {
   "cell_type": "markdown",
   "metadata": {},
   "source": [
    "\n",
    "### d) What is the redshift of the CMB? [10 points]\n",
    "Using your answers from parts a and b, calculate the redshift of the cosmic background. \n",
    "\n",
    "*Hint: remember that redshift is a dimensionless number, and since the CMB looks far back in space/time this should be a large number.*\n"
   ]
  },
  {
   "cell_type": "code",
   "execution_count": 26,
   "metadata": {},
   "outputs": [
    {
     "data": {
      "text/latex": [
       "$1093.8905 \\; \\mathrm{}$"
      ],
      "text/plain": [
       "<Quantity 1093.89051095>"
      ]
     },
     "execution_count": 26,
     "metadata": {},
     "output_type": "execute_result"
    }
   ],
   "source": [
    "# Redshift: z = (λ_observed - λ_emitted) / λ_emitted\n",
    "z = ((λ_peak_now - λ_peak) / λ_peak).to(units.dimensionless_unscaled)\n",
    "z"
   ]
  },
  {
   "cell_type": "markdown",
   "metadata": {},
   "source": [
    "\n",
    "### e) Evidence for a big bang [10 points]\n",
    "\n",
    "Compare your answer in part d to the redshifts of the farthest observable galaxies &mdash; is it safe to say the CMB is the farthest observed point in the universe's history? In your own words, why does this measurement support the big bang theory? \n",
    "\n",
    "Note: We can't use Hubble's law to calculate the age of the universe (Hubble's law is really only valid for z < a few) but more careful treatment reveals that this redshift is consistent with the light originally having been emitted roughly 300-400 thousand years after the big bang. "
   ]
  },
  {
   "cell_type": "markdown",
   "metadata": {},
   "source": [
    "$\\to$ Some of the farthest observable galaxies have redshifts of around 12-13, which is just 300-400 million years after the Big Bang. Considering this, the CMB having a redshift of over 1000 solidifies the fact that this is by far the farthest observable point in the Universe's history. The Big Bang Theory predicts that the Universe's particles will go from ionized to neutral, releasing a huge uniform burst of radiation in the process; this is what we observe in the CMB. The redshift found correlates to the time of this event, between the eras of Nuclei and Atoms. And since this event signifies the turn from the Universe being opaque to transparent, it makes sense that the CMB matches up with the Big Bang predictions."
   ]
  },
  {
   "cell_type": "markdown",
   "metadata": {},
   "source": [
    "## 3 Orbiting galaxies and dark matter [30 points]\n",
    "\n",
    "Suppose two galaxies are orbiting each other at a distance of 300,000 light years. Combined, the galaxies have a visible mass of $10^{41}$ kg. \n",
    "\n",
    "### a) Considering visible matter only, what would the orbital period of the galaxies be? [10 points]\n",
    "Provide your answer in years. \n",
    "\n",
    "*Hint: Remember Kepler's third law!*\n",
    "$\\to T^2 = \\frac{4\\pi^2r^3}{GM}$\n"
   ]
  },
  {
   "cell_type": "code",
   "execution_count": 12,
   "metadata": {},
   "outputs": [
    {
     "data": {
      "text/latex": [
       "$1.1653112 \\times 10^{10} \\; \\mathrm{yr}$"
      ],
      "text/plain": [
       "<Quantity 1.16531122e+10 yr>"
      ]
     },
     "execution_count": 12,
     "metadata": {},
     "output_type": "execute_result"
    }
   ],
   "source": [
    "d = 300000 * units.lyr \n",
    "M = 10**41 * units.kg \n",
    "T = lambda d, M: np.sqrt((4 * np.pi**2 * d**3) / (G * M)).to(units.yr)\n",
    "T_vis = T(d, M)\n",
    "T_vis\n"
   ]
  },
  {
   "cell_type": "markdown",
   "metadata": {},
   "source": [
    "\n",
    "### b) Adding dark matter [10 points]\n",
    "If we include dark matter, the galaxies will have a combined mass of $\\approx 5\\times 10^{41}$ kg. What is the orbital period associated with the total mass? \n",
    "\n",
    "Provide your answer in years.\n"
   ]
  },
  {
   "cell_type": "code",
   "execution_count": 10,
   "metadata": {},
   "outputs": [
    {
     "data": {
      "text/latex": [
       "$5.2114302 \\times 10^{9} \\; \\mathrm{yr}$"
      ],
      "text/plain": [
       "<Quantity 5.21143019e+09 yr>"
      ]
     },
     "execution_count": 10,
     "metadata": {},
     "output_type": "execute_result"
    }
   ],
   "source": [
    "M_dm = 5e41 * units.kg\n",
    "T_dm = T(d, M_dm)\n",
    "T_dm"
   ]
  },
  {
   "cell_type": "markdown",
   "metadata": {},
   "source": [
    "\n",
    "### c) Does dark matter accelerate galaxy evolution? [10 points]\n",
    "\n",
    "In each case, calculate how many times the galaxies orbit each other in the lifetime of the universe. Using this calculation, do you think that dark matter is important for the evolution of galaxies? Why or why not? "
   ]
  },
  {
   "cell_type": "code",
   "execution_count": 18,
   "metadata": {},
   "outputs": [
    {
     "name": "stdout",
     "output_type": "stream",
     "text": [
      "# of orbits with DM: 2.606\n",
      "# of orbits without DM: 1.165\n"
     ]
    }
   ],
   "source": [
    "H_0 = 72 * units.km / (units.s * units.Mpc)\n",
    "age = (1 / H_0).to(units.yr)\n",
    "\n",
    "num_orbits_dm = age / T_dm\n",
    "num_orbits_vis = age / T_vis\n",
    "print(f\"# of orbits with DM: {num_orbits_dm:.3f}\\n# of orbits without DM: {num_orbits_vis:.3f}\")\n",
    "# age / T_vis\n"
   ]
  },
  {
   "cell_type": "markdown",
   "metadata": {},
   "source": [
    "Yes, I think that dark matter is vital to understanding the evolution of galaxies. From my calculations, I found that the number of orbits when accounting for dark matter is basically double the number of orbits when dark matter is *not* accounted for. When accounting for dark matter, it makes sense that the number of orbits would increase compared to when just visible matter is accounted for. And as a result, this would imply an acceleration in galaxy evolution because more orbits implies more collisions."
   ]
  }
 ],
 "metadata": {
  "kernelspec": {
   "display_name": "Python 3 (ipykernel)",
   "language": "python",
   "name": "python3"
  },
  "language_info": {
   "codemirror_mode": {
    "name": "ipython",
    "version": 3
   },
   "file_extension": ".py",
   "mimetype": "text/x-python",
   "name": "python",
   "nbconvert_exporter": "python",
   "pygments_lexer": "ipython3",
   "version": "3.10.0"
  }
 },
 "nbformat": 4,
 "nbformat_minor": 2
}
