{
 "cells": [
  {
   "attachments": {},
   "cell_type": "markdown",
   "metadata": {},
   "source": [
    "# ASTR 1040 Recitation 1: Introduction to Jupyter notebooks\n",
    "\n",
    "**1. What is a Jupyter notebook?**\n",
    "Jupyter notebooks are a teaching tool that allow you to interface typing, pretty mathematical expressions, and coding all in one place. You will be using Jupyter notebooks to do your homeworks in this class, writing answers in with a combination of text + using Python as a fancy calculator.\n",
    "\n",
    "**1. What is Python?**\n",
    "\n",
    "Python is a *high level interpreted* programming language. What does this mean? Python's higher level syntax means that Python code is highly readable and much easier to intuitively understand than many lower-level langauges--this makes it a great language to learn and start your programming journey in! In Python you don't have to use excessive amounts of brackets & or deal with many of the other syntax frustrations lower level langauges often introduce. Because Python is an interpreted langauge, this means that it's easy to modify programs and run them in real time, but the downside is this makes it significantly slower than a lower level compiled langauge like C or Fortran. \n",
    "\n",
    "The best of both worlds may lie in up and coming languages like Julia, which boast C-like performance but with higher-level Python syntax. Why learn Python then instead of something like Julia? It's still a little easier than Julia, but more importantly it is stabler and used more broadly across fields -- making Python perhaps ***the*** most useful language you can learn today, especially for research in astronomy. That being said I personally prefer Julia to Python and am happy to teach you that as well. :)\n",
    "\n",
    "**2. What can I use Python for?**\n",
    "\n",
    "Nearly anything! It's used for scientific research at universities and national labs (including NASA!) but it's also used extensively by web developers, game designers, and industry. \n",
    "\n",
    "**3. What will we be doing?**\n",
    "\n",
    "We are largely going to use Python as a fancy calculator in this class, mostly to prevent pesky unit mistakes. I promise we are doing this to actually try to make your lives *easier*, not harder. No prior understanding of coding/science required--we will learn together as we go!"
   ]
  },
  {
   "attachments": {},
   "cell_type": "markdown",
   "metadata": {},
   "source": [
    "## Lesson 1: Starting out\n",
    "\n",
    "You are running Python out of a Jupyter Notebook right now. I like them because they are easy to mesh text (like this) and code (like you will see below). Let's start by making sure you know how to open Jupyter notebook and saving your work to your personal folder. You can make Python programs in any text editor and run them from the command line, something we might explore later, but for now we will work mostly out of notebooks for their ease of use.\n",
    "\n",
    "Jupyter notebooks have two kinds of cells--code and markdown. This is a markdown cell (which makes text formatting easy). You can change the cell type with the dropdown menu at the top of the page. Markdown cells are useful as notes to accompany your code/explain things.\n",
    "\n",
    "### Exercise 1: make your first markdown note\n",
    "\n",
    "Change the cell type below from code to markdown, and write \"Hello world!\". Run the cell by clicking the run button or by pushing Shift+Enter. Next, modify the cell to make italicize or bold the text (hint: look in one of the cells I've written above to find an example of how to do this -- you can see the \"raw\" markdown by double clicking into any cell)."
   ]
  },
  {
   "cell_type": "code",
   "execution_count": null,
   "metadata": {},
   "outputs": [],
   "source": []
  },
  {
   "cell_type": "markdown",
   "metadata": {},
   "source": [
    "### Exercise 2: say hello with code\n",
    "\n",
    "It's important to be able to interact with our code to understand what it's doing and effectively debug it, and the easiest way to do this is with the print() function. Here's an example:"
   ]
  },
  {
   "cell_type": "code",
   "execution_count": 2,
   "metadata": {},
   "outputs": [
    {
     "name": "stdout",
     "output_type": "stream",
     "text": [
      "my name is Kirk\n"
     ]
    }
   ],
   "source": [
    "#This is a comment: anything after a hashtag/pound sign will be ignored by the program,\n",
    "#so we can write whatever we want in plain english without causing an error!\n",
    "print(\"my name is Kirk\")"
   ]
  },
  {
   "cell_type": "markdown",
   "metadata": {},
   "source": [
    "**Your turn:** write your own print command in the cell below to get the computer to say hello world!"
   ]
  },
  {
   "cell_type": "code",
   "execution_count": null,
   "metadata": {},
   "outputs": [],
   "source": [
    "#your code here\n"
   ]
  },
  {
   "cell_type": "markdown",
   "metadata": {},
   "source": [
    "### Exercise 3: variables\n",
    "\n",
    "Variables are an incredibly important part of any programming language. They allow us to store information for later use by the program, and we create them with the = sign (also known as the assignment operator). Here's an example: "
   ]
  },
  {
   "cell_type": "code",
   "execution_count": 4,
   "metadata": {},
   "outputs": [
    {
     "name": "stdout",
     "output_type": "stream",
     "text": [
      "5\n"
     ]
    }
   ],
   "source": [
    "x = 5 #here I have made a variable called x that has a value of 5\n",
    "print(x) #let's see what x is!"
   ]
  },
  {
   "cell_type": "code",
   "execution_count": 5,
   "metadata": {},
   "outputs": [
    {
     "name": "stdout",
     "output_type": "stream",
     "text": [
      "my name is kirk\n"
     ]
    }
   ],
   "source": [
    "string = \"my name is kirk\" #here I have made a variable called string that holds the phrase I wrote above\n",
    "print(string) #notice the output is the same as it was before"
   ]
  },
  {
   "cell_type": "markdown",
   "metadata": {},
   "source": [
    "**Your turn:** write your own code below that will save \"hello world\" to a variable, then print that variable to the console "
   ]
  },
  {
   "cell_type": "code",
   "execution_count": null,
   "metadata": {},
   "outputs": [],
   "source": [
    "#your code here\n"
   ]
  },
  {
   "cell_type": "markdown",
   "metadata": {},
   "source": [
    "#### Variable rules cheat sheet:\n",
    "\n",
    "1. Variable names must be unique. If you name two things x it will only remember the second one.\n",
    "\n",
    "2. Variable names cannot start with a number. For example, ```variable1 = x``` is fine but ``` 1variable = x ``` is not.  \n",
    "\n",
    "3. No spaces! Variable names must be connected. You can combine multiple words with underscores (ie ``` my_variable = x ```) or using camelCase (ie ``` myVariable = x ```) \n",
    "\n",
    "4. Variables can be added/subtracted/etc together (as long as they're the same type) to create a new result (this is the most common way we use them). \n"
   ]
  },
  {
   "cell_type": "markdown",
   "metadata": {},
   "source": [
    "### Exercise 4: manipulating variables\n",
    "\n",
    "We can use the standard mathematical operators on variables to do math (or other things) with them, assuming that they are the same type (we can't add 5 to \"hello\" for example). Consider the following simple word problem:\n",
    "\n",
    "John has 12 cookies and Sally has 3. John eats half his cookies and Sally eats 1, but John is feeling kind of sick of cookies now so he gives half of his remaining cookies to Sally, who then eats another one. How many cookies do John and Sally have now? "
   ]
  },
  {
   "cell_type": "code",
   "execution_count": 1,
   "metadata": {},
   "outputs": [
    {
     "name": "stdout",
     "output_type": "stream",
     "text": [
      "John starts with 12 cookies and Sally starts with 3 cookies.\n",
      "After eating half John now has 6.0 cookies and after eating one Sally now has 2 cookies.\n",
      "John gave half of his reamining cookies to Sally, who ate another one.\n",
      "At the end John has 3.0 cookies and Sally has 4.0 cookies.\n"
     ]
    }
   ],
   "source": [
    "johnCookies = 12 #john starts with 12\n",
    "sallyCookies = 3 #sally starts with 3\n",
    "\n",
    "print(\"John starts with\",johnCookies,\"cookies and Sally starts with\",sallyCookies,\"cookies.\")\n",
    "\n",
    "johnCookies = johnCookies/2 #john eats half his cookies \n",
    "sallyCookies = sallyCookies - 1 #sally eats 1 \n",
    "\n",
    "print(\"After eating half John now has\",johnCookies,\"cookies and after eating one Sally now has\",sallyCookies,\"cookies.\")\n",
    "\n",
    "sallyCookies = sallyCookies + johnCookies/2 -1 #sally gets half of john's remaining cookies but eats 1\n",
    "johnCookies = johnCookies/2 #john gives away half of his remaining cookies \n",
    "\n",
    "print(\"John gave half of his reamining cookies to Sally, who ate another one.\")\n",
    "print(\"At the end John has\",johnCookies,\"cookies and Sally has\",sallyCookies,\"cookies.\")"
   ]
  },
  {
   "cell_type": "markdown",
   "metadata": {},
   "source": [
    "**Your turn:** Solve this word problem with code!\n",
    "\n",
    "Captain Kirk has 200 photon torpedoes available on the Enterprise, with 12 Klingon birds of prey closing in fast. Each bird of prey can take 8 torpedo hits before being destroyed. Assuming Sulu can outmaneuver the Klingons and the Scotty can keep the ship's integrity intact during the battle, how many torpedoes will the Enterprise be left with? \n",
    "\n",
    "**Challenge:** Chekov is a good shot, but nobody's perfect. If 25% of the shots miss, how many torpedoes are left?"
   ]
  },
  {
   "cell_type": "code",
   "execution_count": null,
   "metadata": {},
   "outputs": [],
   "source": [
    "#your code here\n"
   ]
  },
  {
   "attachments": {},
   "cell_type": "markdown",
   "metadata": {},
   "source": [
    "### Exercise 5: using modules\n",
    "\n",
    "By default Python only comes with a few parts \"turned on.\" This is to save memory/other computing resources for things you may not need. There are many extra packages that we can use in Python to do tasks that might otherwise take a long time, and to access these packages we import them. One useful additional package that is prevalent across astronomy is the [`astropy`](https://www.astropy.org/) package, which we will be using throughout the course as one of them any things it can help us do is keep track of our units! Here is an example:\n",
    "\n",
    "**Note:** If the cell below gives you an error, you may need to install [`astropy`](https://www.astropy.org/) (click the link for instructions / ask me for help)"
   ]
  },
  {
   "cell_type": "code",
   "execution_count": 7,
   "metadata": {},
   "outputs": [
    {
     "name": "stdout",
     "output_type": "stream",
     "text": [
      "The Earth is  1.0 AU from the Sun.\n",
      "In SI units (meters), the Earth is  149597870700.0 m from the Sun.\n"
     ]
    },
    {
     "data": {
      "text/latex": [
       "$\\mathrm{wk}$"
      ],
      "text/plain": [
       "Unit(\"wk\")"
      ]
     },
     "execution_count": 7,
     "metadata": {},
     "output_type": "execute_result"
    }
   ],
   "source": [
    "from astropy import units #notice how the from/import statement is colored differently--this means it's an important Python keyword\n",
    "\n",
    "earthSunDistance = 1*units.AU #here we have created a variable called earthSunDistance that has a value of 1 AU (because that's the distance to the Sun!)\n",
    "print(\"The Earth is \",earthSunDistance,\"from the Sun.\")\n",
    "print(\"In SI units (meters), the Earth is \",earthSunDistance.to(units.m),\"from the Sun.\") #notice how we can use the .to() method to convert units"
   ]
  },
  {
   "attachments": {},
   "cell_type": "markdown",
   "metadata": {},
   "source": [
    "**Your turn:** What percent are you done with the semester? Following the example above knowing that there are **16 weeks** in a semester and you are nearly done with your **second day**, use the `units` functionality from `astropy` to set up a ratio and convert that to a percentage!\n",
    "\n",
    "**Hint**: You should create two variables, one with the number of weeks in the semester (i.e. `semesterLength = 16*units.week`) and the other with the number of days completed thus far (i.e. `daysCompleted = 2*units.day`). Then create a new variable that divides the days completed by the total time in the semester, and finally convert that to a percentage. There are a few ways to do this, but pay close attention to the output and make sure your units match up with the units of a percentage! If you get $\\frac{d}{wk}$ you may need to convert units, or check out the `dimensionless_unscaled` method [here](https://docs.astropy.org/en/stable/units/standard_units.html)"
   ]
  },
  {
   "cell_type": "code",
   "execution_count": 15,
   "metadata": {},
   "outputs": [],
   "source": [
    "#your code here\n"
   ]
  },
  {
   "attachments": {},
   "cell_type": "markdown",
   "metadata": {},
   "source": [
    "### Exercise 6: 1030 Review / practice homework type problem\n",
    "\n",
    "Here are some equations that you may find helpful for the following problems:\n",
    "\n",
    "**Kepler's Third law**: $$a^3 = cP^2$$ (where $c$ is a constant)\n",
    "\n",
    "**Newton's law of gravitation:** $$F = ma = \\frac{Gm_1m_2}{r^2}$$\n",
    "\n",
    "**Equations of circular motion:**\n",
    "\n",
    "$$a_c = \\frac{v^2}{r} = \\omega^2r$$\n",
    "$$\\omega = 2\\pi f = \\frac{2\\pi}{P}$$\n",
    "\n",
    "`astropy` conveniently has constants baked in for us to use, so we don't have to look up the value of $G$ every time we want to use it, but instead we can just do:\n",
    "\n",
    "```python\n",
    "from astropy.constants import G\n",
    "print(G)\n",
    "  Name   = Gravitational constant\n",
    "  Value  = 6.6743e-11\n",
    "  Uncertainty  = 1.5e-15\n",
    "  Unit  = m3 / (kg s2)\n",
    "  Reference = CODATA 2018\n",
    "```\n",
    "\n",
    "and now we can use `G` like any other code variable! \n",
    "\n",
    "Now on to your practice problems...\n",
    "\n",
    "1. The International Space Station (ISS) complets an orbit of the Earth once every $\\sim$ 90 minutes. Use the mass of the Earth ($\\sim 6\\times 10^{24} \\rm{kg}$) and Newton's law of gravitation to calculate the height of the ISS's orbit above the Earth's surface. \n",
    "\n",
    "![ISS](https://upload.wikimedia.org/wikipedia/commons/d/d7/STS-133_International_Space_Station_after_undocking_5.jpg)\n",
    "\n"
   ]
  },
  {
   "cell_type": "code",
   "execution_count": 20,
   "metadata": {},
   "outputs": [],
   "source": [
    "from astropy.constants import G #you'll need this, so I imported it for you\n",
    "#your solution to problem 1 here\n"
   ]
  },
  {
   "attachments": {},
   "cell_type": "markdown",
   "metadata": {},
   "source": [
    "2. The asteroid Eros has crashed into Venus, nudging its orbit inward by roughly 5%. \n",
    "\n",
    "![ErosVenusCrash](https://static.wikia.nocookie.net/expanse/images/f/f2/Venus-td-14.png/revision/latest?cb=20170225133033)\n",
    "\n",
    "First think conceptually &mdash; should Venus now orbit faster or slower? Answer this conceptual question by editing the markdown below:\n",
    "\n",
    "**Your conceptual answer and reasoning:**\n",
    "\n",
    "\n",
    "Then use **Kepler's third law** to calculate the percent change in the orbital period in the code cell below."
   ]
  },
  {
   "cell_type": "code",
   "execution_count": 6,
   "metadata": {},
   "outputs": [],
   "source": [
    "#your solution to practice problem 2 here...\n"
   ]
  },
  {
   "attachments": {},
   "cell_type": "markdown",
   "metadata": {},
   "source": [
    "### Wrapping up\n",
    "\n",
    "We will have you submit your completed homeworks as PDFs to Canvas. To convert your Jupyter notebook to a PDF, you can use the built-in convert to PDF functionality (at the top of the page there should be an option for it) or alternatively you can just print to PDF like you would any other website! You'll submit a PDF of your completed version of this assignment as your first homework. "
   ]
  }
 ],
 "metadata": {
  "kernelspec": {
   "display_name": "Python 3",
   "language": "python",
   "name": "python3"
  },
  "language_info": {
   "codemirror_mode": {
    "name": "ipython",
    "version": 3
   },
   "file_extension": ".py",
   "mimetype": "text/x-python",
   "name": "python",
   "nbconvert_exporter": "python",
   "pygments_lexer": "ipython3",
   "version": "3.8.10"
  }
 },
 "nbformat": 4,
 "nbformat_minor": 2
}
