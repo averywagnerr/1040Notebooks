{
 "cells": [
  {
   "cell_type": "markdown",
   "metadata": {},
   "source": [
    "# ASTR 1040 Problem Set 5\n",
    "\n",
    "The first cell (below) contains lots of helpful constants you may need to use throughout the semester. Make sure to run it each time before you start working! \n",
    "\n",
    "For reference, all of the `astropy` constants as well as examples can be found [here](https://docs.astropy.org/en/stable/constants/index.html). Likewise all of the units and their names / how to access them can be found [here](https://docs.astropy.org/en/stable/units/index.html). \n",
    "\n",
    "To create a variable with units you need to multiply by the corresponding unit class:\n",
    "\n",
    "```python\n",
    "d = 1 * units.au\n",
    "```\n",
    "\n",
    "You can then convert unitful quantities to other units by calling the `to` method and passing the desired end unit class: \n",
    "\n",
    "```python\n",
    "d_m = d.to(units.m)\n",
    "```\n",
    "\n",
    "If you have a ratio of quanities where all the units should cancel out, you can obtain the dimensionles number using the `dimesionless_unscaled` method. For example writing:\n",
    "```python\n",
    "d_m/d\n",
    "``` \n",
    "yields $1.4959787\\times 10^{11} \\rm{\\frac{m}{AU}}$, but doing:\n",
    "```python\n",
    "(d_m/d).to(units.dimensionless_unscaled)\n",
    "```\n",
    "returns `1.0` as expected."
   ]
  },
  {
   "cell_type": "code",
   "execution_count": 1,
   "metadata": {},
   "outputs": [],
   "source": [
    "#SETUP CELL (modify at your own peril)\n",
    "from astropy import units #access units by doing units.<unit> (i.e. units.au)\n",
    "from astropy import constants\n",
    "import numpy as np #common math functions (i.e. np.sin(x)) and better arrays (i.e. np.array([1,2,3])\n",
    "import matplotlib.pyplot as plt #plotting functions (i.e. plt.plot(x,y))\n",
    "G = constants.G # gravitational constant\n",
    "M_sun = constants.M_sun # mass of the sun\n",
    "R_sun = constants.R_sun # radius of the sun\n",
    "L_sun = constants.L_sun # luminosity of the sun\n",
    "M_earth = constants.M_earth # mass of the earth\n",
    "R_earth = constants.R_earth # radius of the earth\n",
    "M_jup = constants.M_jup # mass of jupiter\n",
    "R_jup = constants.R_jup # radius of jupiter\n",
    "sigma_sb = constants.sigma_sb # Stefan-Boltzmann constant\n",
    "b_wien = constants.b_wien # Wien's displacement constant\n",
    "c = constants.c # speed of light\n",
    "h = constants.h # Planck constant\n",
    "k_B = constants.k_B # Boltzmann constant\n",
    "m_e = constants.m_e # mass of electron\n",
    "m_p = constants.m_p # mass of proton \n",
    "m_n = constants.m_n # mass of neutron (basically just the mass of a proton but whatever)\n",
    "g0 = constants.g0 # standard gravity, 9.8 m/s^2\n",
    "e = constants.e # absolute value of electron/proton charge"
   ]
  },
  {
   "cell_type": "markdown",
   "metadata": {},
   "source": [
    "## What if?\n",
    "\n",
    "This week your homework is a \"fun\" and more open-ended homework :)\n",
    "\n",
    "Your task is to answer **two** \"what if\" questions. These are absurd/fun questions answered seriously, in the style of the famously long-running [XKCD series](https://what-if.xkcd.com/) (click the link to see some examples, but note that you **cannot answer a question already answered there**). You can either come up with your own fun questions and answer them (they don't neccessarily have to be absurd &mdash; follow your curiosity!), or choose two from the list we've come up with below. When answering these it's fine to do \"back of the envelope\" order of magnitude style of math. You will be graded on your reasoning and plausibility of answer, not the exact value. \n",
    "\n",
    "### Kirk/Prof. Nelson's questions (pick two of these if you don't want to come up with your own)\n",
    "\n",
    "1. There is an annular solar eclipse on Saturday. Solar eclipses are rare because the moon must exactly line up with the Sun, but they are a spectacular occurence that only happens (as far as we know it) on Earth! Often after seeing a total solar eclipse people get \"hooked\" on the experience and make it a priority to try to see as many eclipses as they can. \n",
    "\n",
    "    a. While eclipses are rare, eclipsing the Sun is easy. One of my friends shares a birthday with this eclipse, and in my birthday letter to her I told her that every day she can repeat this cosmic alignment with her head, assuming you're standing the right distance away. What if you wanted to eclipse the Sun for your friend? Calculate the geometry and try it out (+5 bonus points for including a photo demonstrating).\n",
    "    \n",
    "    b. With the rise of private space companies, it's becoming easier and easier to put all kinds of junk into orbit. This has of course included advertising and entertainment, with proposals to launch giant space billboards and artificial meteor showers. What if you were a billionaire obsessed with eclipses, and you want to create your own personal eclipse on demand &mdash; how big and at what height would a hypothetical satellite have to be to create a person-sized eclipse?\n",
    "    \n",
    "    c. Would either scenario (in a or b) \"re-create\" all of the cool eclipse effects we observe on Earth? Why or why not? If no, what would you need to modify about the set-up to part b) to create these effects?\n",
    "    \n",
    "    \n",
    "2. In the distant future, the Sun will expand into a red giant. This will be bad for the Earth.\n",
    "\n",
    "    a. Supposing we make it to this grim future, what if we were really attached to the Earth and and wanted to keep living on it. How far would we need to move the Earth's orbit to preserve habitable conditions? \n",
    "    \n",
    "    b. How much energy would this take? How long would it take? Estimate this both in terms of today's technology (i.e. total societal energy output today) and in terms of some crazy futuristic technology (like nuclear fusion, Dyson spheres, antimatter, etc.)\n",
    "    \n",
    "    c. Suppose future humans decide that's too much effort, and instead vote to just move everyone somewhere else in the solar system. Will there be any good places to live then that are uninhabitable now? Why or why not? Provide some **quantitative** support for your answer.\n",
    "    \n",
    "    \n",
    "3. Suppose you don't believe humanity will make it to the end of our star's life. What if you wanted to preserve some record of our existence? \n",
    "\n",
    "    a. Your first goal will be to make sure your record lasts at least a billion years. What methods might you choose and why? Provide some **quantitative** (they can be very rough) estimates to support your answer.\n",
    "    \n",
    "    b. Your second goal will be to make sure there is a significant chance *someone* might read your record someday, thus ideally you'll try to make your message visible to others at a scale visible to others in the galaxy. Combining with your answer to part a, what methods might you choose? Again provide some **quantitative** (but can be very rough) estimates to support your answer. Comment on the feasibility / difficulty of your proposed plan.\n",
    "    \n",
    "    c. Suppose civilizations at least as advanced as ours occur at least as often across the universe, and that such life is randomly distributed in space. Assume also that all such civilizations are at least as vain as us in wanting to be remembered. Given that we haven't detected any signs of life thus far, put an *upper* limit on the number of advanced civilizations that could have lived (or could be living) in the Milky Way.\n",
    " \n",
    "These are just a few starting points for you. Please feel free to come up with your own fun questions based on your own curiosities, but make sure **whatever questions you come up with have a similar length/difficulty.** If you're not sure if your proposed question is \"good enough\" or not feel free to check in with Kirk or Prof. Nelson.  "
   ]
  },
  {
   "cell_type": "code",
   "execution_count": null,
   "metadata": {},
   "outputs": [],
   "source": []
  }
 ],
 "metadata": {
  "kernelspec": {
   "display_name": "Python 3 (ipykernel)",
   "language": "python",
   "name": "python3"
  },
  "language_info": {
   "codemirror_mode": {
    "name": "ipython",
    "version": 3
   },
   "file_extension": ".py",
   "mimetype": "text/x-python",
   "name": "python",
   "nbconvert_exporter": "python",
   "pygments_lexer": "ipython3",
   "version": "3.11.4"
  }
 },
 "nbformat": 4,
 "nbformat_minor": 2
}
