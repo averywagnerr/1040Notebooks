{
 "cells": [
  {
   "cell_type": "markdown",
   "metadata": {},
   "source": [
    "# ASTR 1040 Problem Set 5\n",
    "\n",
    "The first cell (below) contains lots of helpful constants you may need to use throughout the semester. Make sure to run it each time before you start working! \n",
    "\n",
    "For reference, all of the `astropy` constants as well as examples can be found [here](https://docs.astropy.org/en/stable/constants/index.html). Likewise all of the units and their names / how to access them can be found [here](https://docs.astropy.org/en/stable/units/index.html). \n",
    "\n",
    "To create a variable with units you need to multiply by the corresponding unit class:\n",
    "\n",
    "```python\n",
    "d = 1 * units.au\n",
    "```\n",
    "\n",
    "You can then convert unitful quantities to other units by calling the `to` method and passing the desired end unit class: \n",
    "\n",
    "```python\n",
    "d_m = d.to(units.m)\n",
    "```\n",
    "\n",
    "If you have a ratio of quanities where all the units should cancel out, you can obtain the dimensionles number using the `dimesionless_unscaled` method. For example writing:\n",
    "```python\n",
    "d_m/d\n",
    "``` \n",
    "yields $1.4959787\\times 10^{11} \\rm{\\frac{m}{AU}}$, but doing:\n",
    "```python\n",
    "(d_m/d).to(units.dimensionless_unscaled)\n",
    "```\n",
    "returns `1.0` as expected."
   ]
  },
  {
   "cell_type": "code",
   "execution_count": 1,
   "metadata": {},
   "outputs": [],
   "source": [
    "#SETUP CELL (modify at your own peril)\n",
    "from astropy import units #access units by doing units.<unit> (i.e. units.au)\n",
    "from astropy import constants\n",
    "import numpy as np #common math functions (i.e. np.sin(x)) and better arrays (i.e. np.array([1,2,3])\n",
    "import matplotlib.pyplot as plt #plotting functions (i.e. plt.plot(x,y))\n",
    "G = constants.G # gravitational constant\n",
    "M_sun = constants.M_sun # mass of the sun\n",
    "R_sun = constants.R_sun # radius of the sun\n",
    "L_sun = constants.L_sun # luminosity of the sun\n",
    "M_earth = constants.M_earth # mass of the earth\n",
    "R_earth = constants.R_earth # radius of the earth\n",
    "M_jup = constants.M_jup # mass of jupiter\n",
    "R_jup = constants.R_jup # radius of jupiter\n",
    "sigma_sb = constants.sigma_sb # Stefan-Boltzmann constant\n",
    "b_wien = constants.b_wien # Wien's displacement constant\n",
    "c = constants.c # speed of light\n",
    "h = constants.h # Planck constant\n",
    "k_B = constants.k_B # Boltzmann constant\n",
    "m_e = constants.m_e # mass of electron\n",
    "m_p = constants.m_p # mass of proton \n",
    "m_n = constants.m_n # mass of neutron (basically just the mass of a proton but whatever)\n",
    "g0 = constants.g0 # standard gravity, 9.8 m/s^2\n",
    "e = constants.e # absolute value of electron/proton charge"
   ]
  },
  {
   "cell_type": "markdown",
   "metadata": {},
   "source": [
    "## What if?\n",
    "\n",
    "This week your homework is a \"fun\" and more open-ended homework :)\n",
    "\n",
    "Your task is to answer **two** \"what if\" questions. These are absurd/fun questions answered seriously, in the style of the famously long-running [XKCD series](https://what-if.xkcd.com/) (click the link to see some examples, but note that you **cannot answer a question already answered there**). You can either come up with your own fun questions and answer them (they don't neccessarily have to be absurd &mdash; follow your curiosity!), or choose two from the list we've come up with below. When answering these it's fine to do \"back of the envelope\" order of magnitude style of math. You will be graded on your reasoning and plausibility of answer, not the exact value. \n",
    "\n",
    "### Kirk/Prof. Nelson's questions (pick two of these if you don't want to come up with your own)\n",
    "\n",
    "1. There is an annular solar eclipse on Saturday. Solar eclipses are rare because the moon must exactly line up with the Sun, but they are a spectacular occurence that only happens (as far as we know it) on Earth! Often after seeing a total solar eclipse people get \"hooked\" on the experience and make it a priority to try to see as many eclipses as they can. \n",
    "\n",
    "    a. While eclipses are rare, eclipsing the Sun is easy. One of my friends shares a birthday with this eclipse, and in my birthday letter to her I told her that every day she can repeat this cosmic alignment with her head, assuming you're standing the right distance away. What if you wanted to eclipse the Sun for your friend? Calculate the geometry and try it out (+5 bonus points for including a photo demonstrating).\n",
    "    \n",
    "    b. With the rise of private space companies, it's becoming easier and easier to put all kinds of junk into orbit. This has of course included advertising and entertainment, with proposals to launch giant space billboards and artificial meteor showers. What if you were a billionaire obsessed with eclipses, and you want to create your own personal eclipse on demand &mdash; how big and at what height would a hypothetical satellite have to be to create a person-sized eclipse?\n",
    "    \n",
    "    c. Would either scenario (in a or b) \"re-create\" all of the cool eclipse effects we observe on Earth? Why or why not? If no, what would you need to modify about the set-up to part b) to create these effects?\n",
    "    \n",
    "    \n",
    "2. In the distant future, the Sun will expand into a red giant. This will be bad for the Earth.\n",
    "\n",
    "    a. Supposing we make it to this grim future, what if we were really attached to the Earth and and wanted to keep living on it. How far would we need to move the Earth's orbit to preserve habitable conditions? \n",
    "    \n",
    "    b. How much energy would this take? How long would it take? Estimate this both in terms of today's technology (i.e. total societal energy output today) and in terms of some crazy futuristic technology (like nuclear fusion, Dyson spheres, antimatter, etc.)\n",
    "    \n",
    "    c. Suppose future humans decide that's too much effort, and instead vote to just move everyone somewhere else in the solar system. Will there be any good places to live then that are uninhabitable now? Why or why not? Provide some **quantitative** support for your answer.\n",
    "    \n",
    "    \n",
    "3. Suppose you don't believe humanity will make it to the end of our star's life. What if you wanted to preserve some record of our existence? \n",
    "\n",
    "    a. Your first goal will be to make sure your record lasts at least a billion years. What methods might you choose and why? Provide some **quantitative** (they can be very rough) estimates to support your answer.\n",
    "    \n",
    "    b. Your second goal will be to make sure there is a significant chance *someone* might read your record someday, thus ideally you'll try to make your message visible to others at a scale visible to others in the galaxy. Combining with your answer to part a, what methods might you choose? Again provide some **quantitative** (but can be very rough) estimates to support your answer. Comment on the feasibility / difficulty of your proposed plan.\n",
    "    \n",
    "    c. Suppose civilizations at least as advanced as ours occur at least as often across the universe, and that such life is randomly distributed in space. Assume also that all such civilizations are at least as vain as us in wanting to be remembered. Given that we haven't detected any signs of life thus far, put an *upper* limit on the number of advanced civilizations that could have lived (or could be living) in the Milky Way.\n",
    " \n",
    "These are just a few starting points for you. Please feel free to come up with your own fun questions based on your own curiosities, but make sure **whatever questions you come up with have a similar length/difficulty.** If you're not sure if your proposed question is \"good enough\" or not feel free to check in with Kirk or Prof. Nelson.  "
   ]
  },
  {
   "cell_type": "markdown",
   "metadata": {},
   "source": [
    "## Answers\n",
    "\n",
    "2. In the distant future, the Sun will expand into a red giant. This will be bad for the Earth.\n",
    "\n",
    "    a. Supposing we make it to this grim future, what if we were really attached to the Earth and and wanted to keep living on it. How far would we need to move the Earth's orbit to preserve habitable conditions? \n",
    "    - When the Sun becomes a red giant, it's radius will expand while its temperature will decrease. Currently, the solar flux we get on Earth is 1366 $\\frac{W}{m^2}$. If we want to preserve habitable conditions, we need to maintain the amount of energy we are getting from the Sun at any given moment. We can make the assumption by looking at an HR diagram that a red giant Earth would have a luminosity of ~$10^4L_\\odot$. From here we can set up the equation $$1366 \\frac{W}{m^2} =\\frac{10^4L_\\odot}{4\\pi d^2}$$ In solving for $d$, we get $$d =\\sqrt{\\frac{10^4L_\\odot}{5464\\pi}}$$ This comes out to $d = 99.82292$ AU!\n",
    "    "
   ]
  },
  {
   "cell_type": "code",
   "execution_count": 2,
   "metadata": {},
   "outputs": [
    {
     "data": {
      "text/latex": [
       "$99.82292 \\; \\mathrm{AU}$"
      ],
      "text/plain": [
       "<Quantity 99.82292028 AU>"
      ]
     },
     "execution_count": 2,
     "metadata": {},
     "output_type": "execute_result"
    }
   ],
   "source": [
    "f = 1366 * units.W / units.m**2\n",
    "d = np.sqrt((10**4 * L_sun)/(4*np.pi*f))\n",
    "d.to(units.AU)"
   ]
  },
  {
   "cell_type": "markdown",
   "metadata": {},
   "source": [
    "- b. How much energy would this take? How long would it take? Estimate this both in terms of today's technology (i.e. total societal energy output today) and in terms of some crazy futuristic technology (like nuclear fusion, Dyson spheres, antimatter, etc.)\n",
    "    - *Credit to this post for describing this scenario well: [https://space.stackexchange.com/questions/54594/energy-to-nudge-a-planet-to-a-smaller-orbit]*\n",
    "    - How can we find the amount of energy needed to change Earth's orbit? We should consider the specific orbital energy of Earth, given by the equation: $$\\epsilon = -\\frac{\\mu}{2a}$$, where $\\mu = F(m_1+m_2)$ and $a$ is the semimajor axis. Gravitationally bound bodies have $\\epsilon < 0$. To \"unbind\" Earth from its orbit, we need to get its $\\epsilon$ to 0.\n",
    "    - If we consider a circular orbit, $\\epsilon = \\frac{\\epsilon _p}{2} = -\\epsilon _k$. From this, we can derive the vis-viva equation: $$v^2 = \\mu (\\frac{2}{r} - \\frac{1}{a})$$. This will allow us to find the amount we must change speed to move Earth's orbit. An energy-efficient method to do this is through the *Hohmann transfer orbit*. See the code block for calculations:\n",
    "    \n",
    "    "
   ]
  },
  {
   "cell_type": "code",
   "execution_count": 36,
   "metadata": {},
   "outputs": [
    {
     "name": "stdout",
     "output_type": "stream",
     "text": [
      "Transfer Time: 357.933 yr\n",
      "Specific Energy: -8798897.408 m2 / s2\n",
      "Speed: 5129.186 m / s\n",
      "Δv: 2148.072 m / s\n"
     ]
    }
   ],
   "source": [
    "mu = G * (M_sun + M_earth) \n",
    "dE = 1 * units.AU # distance between normal Sun and Earth\n",
    "\n",
    "ε = lambda a : ((-mu) / (2*a)).si                               # specific orbital energy\n",
    "t = lambda r : ((2*np.pi) * np.sqrt(r**3 / mu)).to(units.yr)    # period\n",
    "v = lambda r, a : (np.sqrt(mu * ((2/r) - (1/a)))).si            # vis-viva\n",
    "\n",
    "t_i = t(dE)\n",
    "ε_i = ε(dE)\n",
    "v_i = v(dE,dE)\n",
    "\n",
    "# the d we found in part (a) is what we will use as Earth's new semimajor axis\n",
    "t_RG = t(d)\n",
    "ε_RG = ε(d)\n",
    "v_RG = v(d,d)\n",
    "\n",
    "# Now we find the values for the transfer (T) orbit\n",
    "a = (dE + d) / 2\n",
    "t_T = t(a)\n",
    "ε_T = ε(a)\n",
    "\n",
    "print(f\"Transfer Time: {t_T:.3f}\")\n",
    "print(f\"Specific Energy: {ε_T:.3f}\")\n",
    "\n",
    "# To transfer from Earth to new RG orbit\n",
    "v_T_RG = v(a, d)    # transfer to Earth's new RG orbit\n",
    "Δv = v_T_RG - v_RG  # delta v\n",
    "\n",
    "print(f\"Speed: {v_T_RG:.3f}\")\n",
    "print(f\"Δv: {Δv:.3f}\")\n",
    "\n"
   ]
  },
  {
   "cell_type": "markdown",
   "metadata": {},
   "source": [
    "- (b. cont.) Just given the time scale this orbital transfer is on, it would take over 3 centuries to transfer Earth's orbit using a relatively efficient modern method (the Hohmann transfer). Not to mention, it would take an enormous amount of resources to produce this amount of energy. If we had a more efficient and powerful method, perhaps exploiting light or the orbits of neighboring planets, we may be able to do this faster and more efficiently.\n",
    "- c. Suppose future humans decide that's too much effort, and instead vote to just move everyone somewhere else in the solar system. Will there be any good places to live then that are uninhabitable now? Why or why not? Provide some **quantitative** support for your answer.\n",
    "    - No, unless somehow Mars got slingshotted or moved into an orbit that was 99 AU from the new Red Giant Sun, all the planets within our solar system would be eaten up by the Sun. The largest orbital distance for a planet in our Solar System right now is only ~30 AU."
   ]
  },
  {
   "cell_type": "markdown",
   "metadata": {},
   "source": [
    "1. My Question: Building off of the last question, imagine humans are on track to survive to the time the Sun becomes a Red Giant and successfully push its orbit outwards. Imagine you exist during this time and work with a team of scientists and engineers to build a huge, state-of-the-art spacecraft with a mass of $10^7$ kg. Humans can't stay on Earth while its orbit is being shifted, so the goal of the spacecraft is to safely harbor humanity while other super high tech inventions are moving Earth's orbit around. \n",
    "\n",
    "    a. If the spacecraft is able to reach maximum speeds of 0.98c, what is the minimum amount of time humans must stay aboard the spacecraft before landing back on Earth?\n",
    "    - We found earlier that the orbital transfer time for Earth is ~357.933 years. Since the spacecraft will be travelling at such high speeds, we need to apply relativity to our calculations. We can look at the time dilation we would experience while travelling on the spacecraft over this timeframe using the equation $$t' = \\frac{t}{\\sqrt{1-\\frac{v^2}{c^2}}}$$ Where $t'$ is the time measured from an observer outside the frame of reference, $t$ is the time measured inside the frame of reference, and $v$ is the speed of the spacecraft. We can rewrite this with our known values to solve for $t$: $$357.933 = \\frac{t}{\\sqrt{1-\\frac{(0.98c)^2}{c^2}}}$$ $$t = 357.933\\sqrt{1-\\frac{(0.98c)^2}{c^2}}$$ See the code block for calculations:"
   ]
  },
  {
   "cell_type": "code",
   "execution_count": 60,
   "metadata": {},
   "outputs": [
    {
     "data": {
      "text/latex": [
       "$71.227723 \\; \\mathrm{yr}$"
      ],
      "text/plain": [
       "<Quantity 71.22772252 yr>"
      ]
     },
     "execution_count": 60,
     "metadata": {},
     "output_type": "execute_result"
    }
   ],
   "source": [
    "t_prime = t_T\n",
    "v_s = 0.98*c     # speed of spacecraft\n",
    "t = t_prime * np.sqrt(1 - ((v_s**2) / (c**2)))\n",
    "t\n"
   ]
  },
  {
   "cell_type": "markdown",
   "metadata": {},
   "source": [
    "- (a. cont.) Therefore, humans must stay aboard the spacecraft for 71.23 years before returning to Earth in its red giant orbit.\n",
    "\n",
    "- b. Suppose the spacecraft operates such that it expects a set rate of its fuel to be used to maintain its speed, and say it has an effective exhaust velocity of 50 km/s. How much fuel would the spacecraft need to survive the entire journey?\n",
    "\n",
    "    - We should use the *relativistic rocket equation* for this problem: $$v_f = \\frac{v_i + v_e}{1 + \\frac{v_iv_e}{c^2}}$$ Where:\n",
    "        - $v_i$ is the spacecraft's initial velocity\n",
    "        - $v_f$ is its final velocity\n",
    "        - $v_e$ is its effective exhaust velocity, which essentially measures the craft's fuel efficiency\n",
    "        - $m_i$ is its initial mass\n",
    "        - $m_f$ is its final mass, after using its fuel\n",
    "    - The amount of fuel used will be $m_f - m_i$. We should find $m_f$ by using the concept of relativistic mass / mass increase: $$m_f = \\frac{m_i}{\\sqrt{1 - v^2/c^2}}$$ Though in our case, it would be: $$m_f = \\frac{m_i}{\\sqrt{1 - \\frac{v_iv_e}{c^2}}}$$\n",
    "    - See codeblock for calculated change in fuel\n"
   ]
  },
  {
   "cell_type": "code",
   "execution_count": 59,
   "metadata": {},
   "outputs": [
    {
     "data": {
      "text/latex": [
       "$817.33223 \\; \\mathrm{kg}$"
      ],
      "text/plain": [
       "<Quantity 817.33222711 kg>"
      ]
     },
     "execution_count": 59,
     "metadata": {},
     "output_type": "execute_result"
    }
   ],
   "source": [
    "m = 10**7 * units.kg \n",
    "v_e = 50 * units.km / units.s\n",
    "m_f = m / np.sqrt(1 - ((v_s * v_e)/(c**2)))\n",
    "m_tot = m_f-m \n",
    "m_tot"
   ]
  },
  {
   "cell_type": "markdown",
   "metadata": {},
   "source": [
    "- c. What effects might the astronauts and people on board experience in this scenario? \n",
    "    - Besides the time dilation and mass increase effects already discussed, the people aboard would also experience some serious length contraction, likely making everything feel \"squished.\" They would also likely be at risk of radiation exposure from cosmic radiation, but hopefully this was accounted for in the ship's design. "
   ]
  }
 ],
 "metadata": {
  "kernelspec": {
   "display_name": "Python 3 (ipykernel)",
   "language": "python",
   "name": "python3"
  }
 },
 "nbformat": 4,
 "nbformat_minor": 2
}
