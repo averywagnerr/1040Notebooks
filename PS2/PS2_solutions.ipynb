{
 "cells": [
  {
   "cell_type": "markdown",
   "metadata": {},
   "source": [
    "# ASTR 1040 Problem Set 2\n",
    "\n",
    "For reference, all of the `astropy` constants as well as examples can be found [here](https://docs.astropy.org/en/stable/constants/index.html). Likewise all of the units and their names / how to access them can be found [here](https://docs.astropy.org/en/stable/units/index.html).\n",
    "\n",
    "To create a variable with units you need to multiply by the corresponding unit class:\n",
    "\n",
    "```python\n",
    "d = 1 * units.au\n",
    "```\n",
    "\n",
    "You can then convert unitful quantities to other units by calling the `to` method and passing the desired end unit class: \n",
    "\n",
    "```python\n",
    "d_m = d.to(units.m)\n",
    "```\n",
    "\n",
    "If you have a ratio of quanities where all the units should cancel out, you can obtain the dimensionles number using the `dimesionless_unscaled` method. For example writing:\n",
    "```python\n",
    "d_m/d\n",
    "``` \n",
    "yields $1.4959787\\times 10^{11} \\rm{\\frac{m}{AU}}$, but doing:\n",
    "```python\n",
    "(d_m/d).to(units.dimensionless_unscaled)\n",
    "```\n",
    "returns `1.0` as expected.\n",
    "\n",
    "If you get weird units at the end but you think your answer should be right, you can always try converting them to SI units with the `.si` method (i.e. `d.si`).\n",
    "\n",
    "For a more general Python cheatsheet, check the top of your PS1 notebook.\n",
    "\n",
    "### Don't forget to run the cell below before starting your homework!!!"
   ]
  },
  {
   "cell_type": "code",
   "execution_count": 1,
   "metadata": {},
   "outputs": [],
   "source": [
    "#SETUP CELL (modify at your own peril)\n",
    "from astropy import units #access units by doing units.<unit> (i.e. units.au)\n",
    "from astropy import constants\n",
    "import numpy as np #common math functions (i.e. np.sin(x)) and better arrays (i.e. np.array([1,2,3])\n",
    "import matplotlib.pyplot as plt #plotting functions (i.e. plt.plot(x,y))\n",
    "G = constants.G # gravitational constant\n",
    "M_sun = constants.M_sun # mass of the sun\n",
    "R_sun = constants.R_sun # radius of the sun\n",
    "L_sun = constants.L_sun # luminosity of the sun\n",
    "M_earth = constants.M_earth # mass of the earth\n",
    "R_earth = constants.R_earth # radius of the earth\n",
    "M_jup = constants.M_jup # mass of jupiter\n",
    "R_jup = constants.R_jup # radius of jupiter\n",
    "sigma_sb = constants.sigma_sb # Stefan-Boltzmann constant\n",
    "c = constants.c # speed of light\n",
    "h = constants.h # Planck constant\n",
    "k_B = constants.k_B # Boltzmann constant\n",
    "m_e = constants.m_e # mass of electron\n",
    "m_p = constants.m_p # mass of proton \n",
    "m_n = constants.m_n # mass of neutron (basically just the mass of a proton but whatever)\n",
    "g0 = constants.g0 # standard gravity, 9.8 m/s^2\n",
    "e = constants.e # absolute value of electron/proton charge"
   ]
  },
  {
   "cell_type": "markdown",
   "metadata": {},
   "source": [
    "## Q1 (20 points)\n",
    "\n",
    "### Properties of stars\n",
    "\n",
    "Consider the stellar data in the following table (run the code cell below to see the table!):"
   ]
  },
  {
   "cell_type": "code",
   "execution_count": 2,
   "metadata": {},
   "outputs": [
    {
     "data": {
      "text/html": [
       "<div>\n",
       "<style scoped>\n",
       "    .dataframe tbody tr th:only-of-type {\n",
       "        vertical-align: middle;\n",
       "    }\n",
       "\n",
       "    .dataframe tbody tr th {\n",
       "        vertical-align: top;\n",
       "    }\n",
       "\n",
       "    .dataframe thead th {\n",
       "        text-align: right;\n",
       "    }\n",
       "</style>\n",
       "<table border=\"1\" class=\"dataframe\">\n",
       "  <thead>\n",
       "    <tr style=\"text-align: right;\">\n",
       "      <th></th>\n",
       "      <th>Star</th>\n",
       "      <th>Absolute magnitude</th>\n",
       "      <th>Apparent magnitude</th>\n",
       "      <th>Spectral type</th>\n",
       "      <th>Luminosity class</th>\n",
       "    </tr>\n",
       "  </thead>\n",
       "  <tbody>\n",
       "    <tr>\n",
       "      <th>0</th>\n",
       "      <td>Aldebaran</td>\n",
       "      <td>-0.2</td>\n",
       "      <td>0.9</td>\n",
       "      <td>K5</td>\n",
       "      <td>III</td>\n",
       "    </tr>\n",
       "    <tr>\n",
       "      <th>1</th>\n",
       "      <td>Alpha Centauri A</td>\n",
       "      <td>4.4</td>\n",
       "      <td>0.0</td>\n",
       "      <td>G2</td>\n",
       "      <td>V</td>\n",
       "    </tr>\n",
       "    <tr>\n",
       "      <th>2</th>\n",
       "      <td>Antares</td>\n",
       "      <td>-4.5</td>\n",
       "      <td>0.9</td>\n",
       "      <td>M1</td>\n",
       "      <td>I</td>\n",
       "    </tr>\n",
       "    <tr>\n",
       "      <th>3</th>\n",
       "      <td>Canopus</td>\n",
       "      <td>-3.1</td>\n",
       "      <td>-0.7</td>\n",
       "      <td>F0</td>\n",
       "      <td>II</td>\n",
       "    </tr>\n",
       "    <tr>\n",
       "      <th>4</th>\n",
       "      <td>Fomalhaut</td>\n",
       "      <td>2.0</td>\n",
       "      <td>1.2</td>\n",
       "      <td>A3</td>\n",
       "      <td>V</td>\n",
       "    </tr>\n",
       "    <tr>\n",
       "      <th>5</th>\n",
       "      <td>Regulus</td>\n",
       "      <td>-0.6</td>\n",
       "      <td>1.4</td>\n",
       "      <td>B7</td>\n",
       "      <td>V</td>\n",
       "    </tr>\n",
       "    <tr>\n",
       "      <th>6</th>\n",
       "      <td>Sirius</td>\n",
       "      <td>1.4</td>\n",
       "      <td>-1.4</td>\n",
       "      <td>A1</td>\n",
       "      <td>V</td>\n",
       "    </tr>\n",
       "    <tr>\n",
       "      <th>7</th>\n",
       "      <td>Spica</td>\n",
       "      <td>-3.6</td>\n",
       "      <td>0.9</td>\n",
       "      <td>B1</td>\n",
       "      <td>V</td>\n",
       "    </tr>\n",
       "  </tbody>\n",
       "</table>\n",
       "</div>"
      ],
      "text/plain": [
       "               Star  Absolute magnitude  Apparent magnitude Spectral type  \\\n",
       "0         Aldebaran                -0.2                 0.9            K5   \n",
       "1  Alpha Centauri A                 4.4                 0.0            G2   \n",
       "2           Antares                -4.5                 0.9            M1   \n",
       "3           Canopus                -3.1                -0.7            F0   \n",
       "4         Fomalhaut                 2.0                 1.2            A3   \n",
       "5           Regulus                -0.6                 1.4            B7   \n",
       "6            Sirius                 1.4                -1.4            A1   \n",
       "7             Spica                -3.6                 0.9            B1   \n",
       "\n",
       "  Luminosity class  \n",
       "0              III  \n",
       "1                V  \n",
       "2                I  \n",
       "3               II  \n",
       "4                V  \n",
       "5                V  \n",
       "6                V  \n",
       "7                V  "
      ]
     },
     "execution_count": 2,
     "metadata": {},
     "output_type": "execute_result"
    }
   ],
   "source": [
    "import pandas as pd\n",
    "d = {\n",
    "    \"Star\": [\"Aldebaran\",\"Alpha Centauri A\",\"Antares\",\"Canopus\",\"Fomalhaut\",\"Regulus\",\"Sirius\",\"Spica\"],\n",
    "    \"Absolute magnitude\": [-0.2,4.4,-4.5,-3.1,2.0,-0.6,1.4,-3.6],\n",
    "    \"Apparent magnitude\": [0.9,0.0,0.9,-0.7,1.2,1.4,-1.4,0.9],\n",
    "    \"Spectral type\": [\"K5\",\"G2\",\"M1\",\"F0\",\"A3\",\"B7\",\"A1\",\"B1\"],\n",
    "    \"Luminosity class\": [\"III\",\"V\",\"I\",\"II\",\"V\",\"V\",\"V\",\"V\"]\n",
    "}\n",
    "data = pd.DataFrame(data=d)\n",
    "data"
   ]
  },
  {
   "cell_type": "markdown",
   "metadata": {},
   "source": [
    "This is a [pandas DataFrame](https://pandas.pydata.org/docs/reference/api/pandas.DataFrame.html), a common tool used in the sciences / industry to store and display data in Python. It has many useful features which you won't really need to use, but one really nice feature that may be helpful for you in answering this first question is that you can sort DataFrames very easily. For example, if we wanted to re-sort the DataFrame above in terms of absolute magnitude, we could run the following command:"
   ]
  },
  {
   "cell_type": "code",
   "execution_count": 13,
   "metadata": {},
   "outputs": [
    {
     "data": {
      "text/html": [
       "<div>\n",
       "<style scoped>\n",
       "    .dataframe tbody tr th:only-of-type {\n",
       "        vertical-align: middle;\n",
       "    }\n",
       "\n",
       "    .dataframe tbody tr th {\n",
       "        vertical-align: top;\n",
       "    }\n",
       "\n",
       "    .dataframe thead th {\n",
       "        text-align: right;\n",
       "    }\n",
       "</style>\n",
       "<table border=\"1\" class=\"dataframe\">\n",
       "  <thead>\n",
       "    <tr style=\"text-align: right;\">\n",
       "      <th></th>\n",
       "      <th>Star</th>\n",
       "      <th>Absolute magnitude</th>\n",
       "      <th>Apparent magnitude</th>\n",
       "      <th>Spectral type</th>\n",
       "      <th>Luminosity class</th>\n",
       "    </tr>\n",
       "  </thead>\n",
       "  <tbody>\n",
       "    <tr>\n",
       "      <th>2</th>\n",
       "      <td>Antares</td>\n",
       "      <td>-4.5</td>\n",
       "      <td>0.9</td>\n",
       "      <td>M1</td>\n",
       "      <td>I</td>\n",
       "    </tr>\n",
       "    <tr>\n",
       "      <th>7</th>\n",
       "      <td>Spica</td>\n",
       "      <td>-3.6</td>\n",
       "      <td>0.9</td>\n",
       "      <td>B1</td>\n",
       "      <td>V</td>\n",
       "    </tr>\n",
       "    <tr>\n",
       "      <th>3</th>\n",
       "      <td>Canopus</td>\n",
       "      <td>-3.1</td>\n",
       "      <td>-0.7</td>\n",
       "      <td>F0</td>\n",
       "      <td>II</td>\n",
       "    </tr>\n",
       "    <tr>\n",
       "      <th>5</th>\n",
       "      <td>Regulus</td>\n",
       "      <td>-0.6</td>\n",
       "      <td>1.4</td>\n",
       "      <td>B7</td>\n",
       "      <td>V</td>\n",
       "    </tr>\n",
       "    <tr>\n",
       "      <th>0</th>\n",
       "      <td>Aldebaran</td>\n",
       "      <td>-0.2</td>\n",
       "      <td>0.9</td>\n",
       "      <td>K5</td>\n",
       "      <td>III</td>\n",
       "    </tr>\n",
       "    <tr>\n",
       "      <th>6</th>\n",
       "      <td>Sirius</td>\n",
       "      <td>1.4</td>\n",
       "      <td>-1.4</td>\n",
       "      <td>A1</td>\n",
       "      <td>V</td>\n",
       "    </tr>\n",
       "    <tr>\n",
       "      <th>4</th>\n",
       "      <td>Fomalhaut</td>\n",
       "      <td>2.0</td>\n",
       "      <td>1.2</td>\n",
       "      <td>A3</td>\n",
       "      <td>V</td>\n",
       "    </tr>\n",
       "    <tr>\n",
       "      <th>1</th>\n",
       "      <td>Alpha Centauri A</td>\n",
       "      <td>4.4</td>\n",
       "      <td>0.0</td>\n",
       "      <td>G2</td>\n",
       "      <td>V</td>\n",
       "    </tr>\n",
       "  </tbody>\n",
       "</table>\n",
       "</div>"
      ],
      "text/plain": [
       "               Star  Absolute magnitude  Apparent magnitude Spectral type  \\\n",
       "2           Antares                -4.5                 0.9            M1   \n",
       "7             Spica                -3.6                 0.9            B1   \n",
       "3           Canopus                -3.1                -0.7            F0   \n",
       "5           Regulus                -0.6                 1.4            B7   \n",
       "0         Aldebaran                -0.2                 0.9            K5   \n",
       "6            Sirius                 1.4                -1.4            A1   \n",
       "4         Fomalhaut                 2.0                 1.2            A3   \n",
       "1  Alpha Centauri A                 4.4                 0.0            G2   \n",
       "\n",
       "  Luminosity class  \n",
       "2                I  \n",
       "7                V  \n",
       "3               II  \n",
       "5                V  \n",
       "0              III  \n",
       "6                V  \n",
       "4                V  \n",
       "1                V  "
      ]
     },
     "execution_count": 13,
     "metadata": {},
     "output_type": "execute_result"
    }
   ],
   "source": [
    "data.sort_values(by=['Absolute magnitude'])"
   ]
  },
  {
   "cell_type": "markdown",
   "metadata": {},
   "source": [
    "Now you can see that everything is sorted in terms of absolute magnitude, running from smallest to largest. Full documentation for the sort command is available [here](https://pandas.pydata.org/docs/reference/api/pandas.DataFrame.sort_values.html)."
   ]
  },
  {
   "cell_type": "markdown",
   "metadata": {},
   "source": [
    "### a.) Which star appears brightest and which appears faintest in our sky? Answer using the Markdown and/or code cells below:"
   ]
  },
  {
   "cell_type": "code",
   "execution_count": 5,
   "metadata": {},
   "outputs": [
    {
     "data": {
      "text/html": [
       "<div>\n",
       "<style scoped>\n",
       "    .dataframe tbody tr th:only-of-type {\n",
       "        vertical-align: middle;\n",
       "    }\n",
       "\n",
       "    .dataframe tbody tr th {\n",
       "        vertical-align: top;\n",
       "    }\n",
       "\n",
       "    .dataframe thead th {\n",
       "        text-align: right;\n",
       "    }\n",
       "</style>\n",
       "<table border=\"1\" class=\"dataframe\">\n",
       "  <thead>\n",
       "    <tr style=\"text-align: right;\">\n",
       "      <th></th>\n",
       "      <th>Star</th>\n",
       "      <th>Absolute magnitude</th>\n",
       "      <th>Apparent magnitude</th>\n",
       "      <th>Spectral type</th>\n",
       "      <th>Luminosity class</th>\n",
       "    </tr>\n",
       "  </thead>\n",
       "  <tbody>\n",
       "    <tr>\n",
       "      <th>6</th>\n",
       "      <td>Sirius</td>\n",
       "      <td>1.4</td>\n",
       "      <td>-1.4</td>\n",
       "      <td>A1</td>\n",
       "      <td>V</td>\n",
       "    </tr>\n",
       "    <tr>\n",
       "      <th>3</th>\n",
       "      <td>Canopus</td>\n",
       "      <td>-3.1</td>\n",
       "      <td>-0.7</td>\n",
       "      <td>F0</td>\n",
       "      <td>II</td>\n",
       "    </tr>\n",
       "    <tr>\n",
       "      <th>1</th>\n",
       "      <td>Alpha Centauri A</td>\n",
       "      <td>4.4</td>\n",
       "      <td>0.0</td>\n",
       "      <td>G2</td>\n",
       "      <td>V</td>\n",
       "    </tr>\n",
       "    <tr>\n",
       "      <th>0</th>\n",
       "      <td>Aldebaran</td>\n",
       "      <td>-0.2</td>\n",
       "      <td>0.9</td>\n",
       "      <td>K5</td>\n",
       "      <td>III</td>\n",
       "    </tr>\n",
       "    <tr>\n",
       "      <th>2</th>\n",
       "      <td>Antares</td>\n",
       "      <td>-4.5</td>\n",
       "      <td>0.9</td>\n",
       "      <td>M1</td>\n",
       "      <td>I</td>\n",
       "    </tr>\n",
       "    <tr>\n",
       "      <th>7</th>\n",
       "      <td>Spica</td>\n",
       "      <td>-3.6</td>\n",
       "      <td>0.9</td>\n",
       "      <td>B1</td>\n",
       "      <td>V</td>\n",
       "    </tr>\n",
       "    <tr>\n",
       "      <th>4</th>\n",
       "      <td>Fomalhaut</td>\n",
       "      <td>2.0</td>\n",
       "      <td>1.2</td>\n",
       "      <td>A3</td>\n",
       "      <td>V</td>\n",
       "    </tr>\n",
       "    <tr>\n",
       "      <th>5</th>\n",
       "      <td>Regulus</td>\n",
       "      <td>-0.6</td>\n",
       "      <td>1.4</td>\n",
       "      <td>B7</td>\n",
       "      <td>V</td>\n",
       "    </tr>\n",
       "  </tbody>\n",
       "</table>\n",
       "</div>"
      ],
      "text/plain": [
       "               Star  Absolute magnitude  Apparent magnitude Spectral type  \\\n",
       "6            Sirius                 1.4                -1.4            A1   \n",
       "3           Canopus                -3.1                -0.7            F0   \n",
       "1  Alpha Centauri A                 4.4                 0.0            G2   \n",
       "0         Aldebaran                -0.2                 0.9            K5   \n",
       "2           Antares                -4.5                 0.9            M1   \n",
       "7             Spica                -3.6                 0.9            B1   \n",
       "4         Fomalhaut                 2.0                 1.2            A3   \n",
       "5           Regulus                -0.6                 1.4            B7   \n",
       "\n",
       "  Luminosity class  \n",
       "6                V  \n",
       "3               II  \n",
       "1                V  \n",
       "0              III  \n",
       "2                I  \n",
       "7                V  \n",
       "4                V  \n",
       "5                V  "
      ]
     },
     "execution_count": 5,
     "metadata": {},
     "output_type": "execute_result"
    }
   ],
   "source": [
    "data.sort_values(by=['Apparent magnitude'])"
   ]
  },
  {
   "cell_type": "markdown",
   "metadata": {},
   "source": [
    "*By sorting by apparent magnitude, we can see that Sirius is the brightest and Regulus the faintest stars in the table.*"
   ]
  },
  {
   "cell_type": "markdown",
   "metadata": {},
   "source": [
    "### b.) Which star has the greatest luminosity and which has the lowest? Answer using the Markdown and/or code cells below:"
   ]
  },
  {
   "cell_type": "code",
   "execution_count": 7,
   "metadata": {},
   "outputs": [
    {
     "data": {
      "text/html": [
       "<div>\n",
       "<style scoped>\n",
       "    .dataframe tbody tr th:only-of-type {\n",
       "        vertical-align: middle;\n",
       "    }\n",
       "\n",
       "    .dataframe tbody tr th {\n",
       "        vertical-align: top;\n",
       "    }\n",
       "\n",
       "    .dataframe thead th {\n",
       "        text-align: right;\n",
       "    }\n",
       "</style>\n",
       "<table border=\"1\" class=\"dataframe\">\n",
       "  <thead>\n",
       "    <tr style=\"text-align: right;\">\n",
       "      <th></th>\n",
       "      <th>Star</th>\n",
       "      <th>Absolute magnitude</th>\n",
       "      <th>Apparent magnitude</th>\n",
       "      <th>Spectral type</th>\n",
       "      <th>Luminosity class</th>\n",
       "    </tr>\n",
       "  </thead>\n",
       "  <tbody>\n",
       "    <tr>\n",
       "      <th>2</th>\n",
       "      <td>Antares</td>\n",
       "      <td>-4.5</td>\n",
       "      <td>0.9</td>\n",
       "      <td>M1</td>\n",
       "      <td>I</td>\n",
       "    </tr>\n",
       "    <tr>\n",
       "      <th>7</th>\n",
       "      <td>Spica</td>\n",
       "      <td>-3.6</td>\n",
       "      <td>0.9</td>\n",
       "      <td>B1</td>\n",
       "      <td>V</td>\n",
       "    </tr>\n",
       "    <tr>\n",
       "      <th>3</th>\n",
       "      <td>Canopus</td>\n",
       "      <td>-3.1</td>\n",
       "      <td>-0.7</td>\n",
       "      <td>F0</td>\n",
       "      <td>II</td>\n",
       "    </tr>\n",
       "    <tr>\n",
       "      <th>5</th>\n",
       "      <td>Regulus</td>\n",
       "      <td>-0.6</td>\n",
       "      <td>1.4</td>\n",
       "      <td>B7</td>\n",
       "      <td>V</td>\n",
       "    </tr>\n",
       "    <tr>\n",
       "      <th>0</th>\n",
       "      <td>Aldebaran</td>\n",
       "      <td>-0.2</td>\n",
       "      <td>0.9</td>\n",
       "      <td>K5</td>\n",
       "      <td>III</td>\n",
       "    </tr>\n",
       "    <tr>\n",
       "      <th>6</th>\n",
       "      <td>Sirius</td>\n",
       "      <td>1.4</td>\n",
       "      <td>-1.4</td>\n",
       "      <td>A1</td>\n",
       "      <td>V</td>\n",
       "    </tr>\n",
       "    <tr>\n",
       "      <th>4</th>\n",
       "      <td>Fomalhaut</td>\n",
       "      <td>2.0</td>\n",
       "      <td>1.2</td>\n",
       "      <td>A3</td>\n",
       "      <td>V</td>\n",
       "    </tr>\n",
       "    <tr>\n",
       "      <th>1</th>\n",
       "      <td>Alpha Centauri A</td>\n",
       "      <td>4.4</td>\n",
       "      <td>0.0</td>\n",
       "      <td>G2</td>\n",
       "      <td>V</td>\n",
       "    </tr>\n",
       "  </tbody>\n",
       "</table>\n",
       "</div>"
      ],
      "text/plain": [
       "               Star  Absolute magnitude  Apparent magnitude Spectral type  \\\n",
       "2           Antares                -4.5                 0.9            M1   \n",
       "7             Spica                -3.6                 0.9            B1   \n",
       "3           Canopus                -3.1                -0.7            F0   \n",
       "5           Regulus                -0.6                 1.4            B7   \n",
       "0         Aldebaran                -0.2                 0.9            K5   \n",
       "6            Sirius                 1.4                -1.4            A1   \n",
       "4         Fomalhaut                 2.0                 1.2            A3   \n",
       "1  Alpha Centauri A                 4.4                 0.0            G2   \n",
       "\n",
       "  Luminosity class  \n",
       "2                I  \n",
       "7                V  \n",
       "3               II  \n",
       "5                V  \n",
       "0              III  \n",
       "6                V  \n",
       "4                V  \n",
       "1                V  "
      ]
     },
     "execution_count": 7,
     "metadata": {},
     "output_type": "execute_result"
    }
   ],
   "source": [
    "data.sort_values(by=['Absolute magnitude'])"
   ]
  },
  {
   "cell_type": "markdown",
   "metadata": {},
   "source": [
    "*By sorting by absolute magnitude, we see that Antares is the most luminous and Alpha Centauri A the least luminous stars in the table.*"
   ]
  },
  {
   "cell_type": "markdown",
   "metadata": {},
   "source": [
    "### c.) Which star has the highest surface temperature and which has the lowest? Answer using the Markdown and/or code cells below:"
   ]
  },
  {
   "cell_type": "code",
   "execution_count": 9,
   "metadata": {},
   "outputs": [
    {
     "data": {
      "text/html": [
       "<div>\n",
       "<style scoped>\n",
       "    .dataframe tbody tr th:only-of-type {\n",
       "        vertical-align: middle;\n",
       "    }\n",
       "\n",
       "    .dataframe tbody tr th {\n",
       "        vertical-align: top;\n",
       "    }\n",
       "\n",
       "    .dataframe thead th {\n",
       "        text-align: right;\n",
       "    }\n",
       "</style>\n",
       "<table border=\"1\" class=\"dataframe\">\n",
       "  <thead>\n",
       "    <tr style=\"text-align: right;\">\n",
       "      <th></th>\n",
       "      <th>Star</th>\n",
       "      <th>Absolute magnitude</th>\n",
       "      <th>Apparent magnitude</th>\n",
       "      <th>Spectral type</th>\n",
       "      <th>Luminosity class</th>\n",
       "    </tr>\n",
       "  </thead>\n",
       "  <tbody>\n",
       "    <tr>\n",
       "      <th>6</th>\n",
       "      <td>Sirius</td>\n",
       "      <td>1.4</td>\n",
       "      <td>-1.4</td>\n",
       "      <td>A1</td>\n",
       "      <td>V</td>\n",
       "    </tr>\n",
       "    <tr>\n",
       "      <th>4</th>\n",
       "      <td>Fomalhaut</td>\n",
       "      <td>2.0</td>\n",
       "      <td>1.2</td>\n",
       "      <td>A3</td>\n",
       "      <td>V</td>\n",
       "    </tr>\n",
       "    <tr>\n",
       "      <th>7</th>\n",
       "      <td>Spica</td>\n",
       "      <td>-3.6</td>\n",
       "      <td>0.9</td>\n",
       "      <td>B1</td>\n",
       "      <td>V</td>\n",
       "    </tr>\n",
       "    <tr>\n",
       "      <th>5</th>\n",
       "      <td>Regulus</td>\n",
       "      <td>-0.6</td>\n",
       "      <td>1.4</td>\n",
       "      <td>B7</td>\n",
       "      <td>V</td>\n",
       "    </tr>\n",
       "    <tr>\n",
       "      <th>3</th>\n",
       "      <td>Canopus</td>\n",
       "      <td>-3.1</td>\n",
       "      <td>-0.7</td>\n",
       "      <td>F0</td>\n",
       "      <td>II</td>\n",
       "    </tr>\n",
       "    <tr>\n",
       "      <th>1</th>\n",
       "      <td>Alpha Centauri A</td>\n",
       "      <td>4.4</td>\n",
       "      <td>0.0</td>\n",
       "      <td>G2</td>\n",
       "      <td>V</td>\n",
       "    </tr>\n",
       "    <tr>\n",
       "      <th>0</th>\n",
       "      <td>Aldebaran</td>\n",
       "      <td>-0.2</td>\n",
       "      <td>0.9</td>\n",
       "      <td>K5</td>\n",
       "      <td>III</td>\n",
       "    </tr>\n",
       "    <tr>\n",
       "      <th>2</th>\n",
       "      <td>Antares</td>\n",
       "      <td>-4.5</td>\n",
       "      <td>0.9</td>\n",
       "      <td>M1</td>\n",
       "      <td>I</td>\n",
       "    </tr>\n",
       "  </tbody>\n",
       "</table>\n",
       "</div>"
      ],
      "text/plain": [
       "               Star  Absolute magnitude  Apparent magnitude Spectral type  \\\n",
       "6            Sirius                 1.4                -1.4            A1   \n",
       "4         Fomalhaut                 2.0                 1.2            A3   \n",
       "7             Spica                -3.6                 0.9            B1   \n",
       "5           Regulus                -0.6                 1.4            B7   \n",
       "3           Canopus                -3.1                -0.7            F0   \n",
       "1  Alpha Centauri A                 4.4                 0.0            G2   \n",
       "0         Aldebaran                -0.2                 0.9            K5   \n",
       "2           Antares                -4.5                 0.9            M1   \n",
       "\n",
       "  Luminosity class  \n",
       "6                V  \n",
       "4                V  \n",
       "7                V  \n",
       "5                V  \n",
       "3               II  \n",
       "1                V  \n",
       "0              III  \n",
       "2                I  "
      ]
     },
     "execution_count": 9,
     "metadata": {},
     "output_type": "execute_result"
    }
   ],
   "source": [
    "data.sort_values(by=['Spectral type'])"
   ]
  },
  {
   "cell_type": "markdown",
   "metadata": {},
   "source": [
    "*Sorting by spectral type groups them all together, but we have to remember astronomy is weird and the B stars are actually the hottest. Lower number also means hotter, so B1 = Spica is the hottest star in the table. Conversely M stars are the coldest, so M1 = Antares is the coolest star.*"
   ]
  },
  {
   "cell_type": "markdown",
   "metadata": {},
   "source": [
    "### d.) Which star is most similar to the Sun? Answer using the Markdown and/or code cells below:"
   ]
  },
  {
   "cell_type": "code",
   "execution_count": null,
   "metadata": {},
   "outputs": [],
   "source": []
  },
  {
   "cell_type": "markdown",
   "metadata": {},
   "source": [
    "*We can look at the same sorting as before &mash; we know the Sun is a G2V star, so Alpha Centauri A (also class G2V) is the most similar!*"
   ]
  },
  {
   "cell_type": "markdown",
   "metadata": {},
   "source": [
    "### e.) Which star is a red supergiant? Answer using the Markdown and/or code cells below:"
   ]
  },
  {
   "cell_type": "code",
   "execution_count": 10,
   "metadata": {},
   "outputs": [
    {
     "data": {
      "text/html": [
       "<div>\n",
       "<style scoped>\n",
       "    .dataframe tbody tr th:only-of-type {\n",
       "        vertical-align: middle;\n",
       "    }\n",
       "\n",
       "    .dataframe tbody tr th {\n",
       "        vertical-align: top;\n",
       "    }\n",
       "\n",
       "    .dataframe thead th {\n",
       "        text-align: right;\n",
       "    }\n",
       "</style>\n",
       "<table border=\"1\" class=\"dataframe\">\n",
       "  <thead>\n",
       "    <tr style=\"text-align: right;\">\n",
       "      <th></th>\n",
       "      <th>Star</th>\n",
       "      <th>Absolute magnitude</th>\n",
       "      <th>Apparent magnitude</th>\n",
       "      <th>Spectral type</th>\n",
       "      <th>Luminosity class</th>\n",
       "    </tr>\n",
       "  </thead>\n",
       "  <tbody>\n",
       "    <tr>\n",
       "      <th>2</th>\n",
       "      <td>Antares</td>\n",
       "      <td>-4.5</td>\n",
       "      <td>0.9</td>\n",
       "      <td>M1</td>\n",
       "      <td>I</td>\n",
       "    </tr>\n",
       "    <tr>\n",
       "      <th>3</th>\n",
       "      <td>Canopus</td>\n",
       "      <td>-3.1</td>\n",
       "      <td>-0.7</td>\n",
       "      <td>F0</td>\n",
       "      <td>II</td>\n",
       "    </tr>\n",
       "    <tr>\n",
       "      <th>0</th>\n",
       "      <td>Aldebaran</td>\n",
       "      <td>-0.2</td>\n",
       "      <td>0.9</td>\n",
       "      <td>K5</td>\n",
       "      <td>III</td>\n",
       "    </tr>\n",
       "    <tr>\n",
       "      <th>1</th>\n",
       "      <td>Alpha Centauri A</td>\n",
       "      <td>4.4</td>\n",
       "      <td>0.0</td>\n",
       "      <td>G2</td>\n",
       "      <td>V</td>\n",
       "    </tr>\n",
       "    <tr>\n",
       "      <th>4</th>\n",
       "      <td>Fomalhaut</td>\n",
       "      <td>2.0</td>\n",
       "      <td>1.2</td>\n",
       "      <td>A3</td>\n",
       "      <td>V</td>\n",
       "    </tr>\n",
       "    <tr>\n",
       "      <th>5</th>\n",
       "      <td>Regulus</td>\n",
       "      <td>-0.6</td>\n",
       "      <td>1.4</td>\n",
       "      <td>B7</td>\n",
       "      <td>V</td>\n",
       "    </tr>\n",
       "    <tr>\n",
       "      <th>6</th>\n",
       "      <td>Sirius</td>\n",
       "      <td>1.4</td>\n",
       "      <td>-1.4</td>\n",
       "      <td>A1</td>\n",
       "      <td>V</td>\n",
       "    </tr>\n",
       "    <tr>\n",
       "      <th>7</th>\n",
       "      <td>Spica</td>\n",
       "      <td>-3.6</td>\n",
       "      <td>0.9</td>\n",
       "      <td>B1</td>\n",
       "      <td>V</td>\n",
       "    </tr>\n",
       "  </tbody>\n",
       "</table>\n",
       "</div>"
      ],
      "text/plain": [
       "               Star  Absolute magnitude  Apparent magnitude Spectral type  \\\n",
       "2           Antares                -4.5                 0.9            M1   \n",
       "3           Canopus                -3.1                -0.7            F0   \n",
       "0         Aldebaran                -0.2                 0.9            K5   \n",
       "1  Alpha Centauri A                 4.4                 0.0            G2   \n",
       "4         Fomalhaut                 2.0                 1.2            A3   \n",
       "5           Regulus                -0.6                 1.4            B7   \n",
       "6            Sirius                 1.4                -1.4            A1   \n",
       "7             Spica                -3.6                 0.9            B1   \n",
       "\n",
       "  Luminosity class  \n",
       "2                I  \n",
       "3               II  \n",
       "0              III  \n",
       "1                V  \n",
       "4                V  \n",
       "5                V  \n",
       "6                V  \n",
       "7                V  "
      ]
     },
     "execution_count": 10,
     "metadata": {},
     "output_type": "execute_result"
    }
   ],
   "source": [
    "data.sort_values(by=['Luminosity class'])"
   ]
  },
  {
   "cell_type": "markdown",
   "metadata": {},
   "source": [
    "*Class I = supergiant and red = M stars, so Antares is the red supergiant*"
   ]
  },
  {
   "cell_type": "markdown",
   "metadata": {},
   "source": [
    "### f.) Which star has the largest radius? Answer using the Markdown and/or code cells below:"
   ]
  },
  {
   "cell_type": "code",
   "execution_count": null,
   "metadata": {},
   "outputs": [],
   "source": []
  },
  {
   "cell_type": "markdown",
   "metadata": {},
   "source": [
    "*$r^2\\propto \\frac{L}{T^4}$ so we want the brightest **and** coolest star, which is again Antares!*"
   ]
  },
  {
   "cell_type": "markdown",
   "metadata": {},
   "source": [
    "### g.) Which stars have finished burning hydrogen in their cores? Answer using the Markdown and/or code cells below:"
   ]
  },
  {
   "cell_type": "code",
   "execution_count": null,
   "metadata": {},
   "outputs": [],
   "source": []
  },
  {
   "cell_type": "markdown",
   "metadata": {},
   "source": [
    "*Again we can look at the sorting by luminosity class &mdash; any that aren't V are off the main sequence. Thus the answers are Antares, Canopus, and Aldebaran.*"
   ]
  },
  {
   "cell_type": "markdown",
   "metadata": {},
   "source": [
    "### h.) Among the main-sequence stars listed, which is the most massive? Answer using the Markdown and/or code cells below:"
   ]
  },
  {
   "cell_type": "code",
   "execution_count": 12,
   "metadata": {},
   "outputs": [
    {
     "name": "stderr",
     "output_type": "stream",
     "text": [
      "/tmp/ipykernel_6559/2398344310.py:1: UserWarning: Boolean Series key will be reindexed to match DataFrame index.\n",
      "  data.sort_values(by=['Spectral type'])[data['Luminosity class'] == \"V\"]\n"
     ]
    },
    {
     "data": {
      "text/html": [
       "<div>\n",
       "<style scoped>\n",
       "    .dataframe tbody tr th:only-of-type {\n",
       "        vertical-align: middle;\n",
       "    }\n",
       "\n",
       "    .dataframe tbody tr th {\n",
       "        vertical-align: top;\n",
       "    }\n",
       "\n",
       "    .dataframe thead th {\n",
       "        text-align: right;\n",
       "    }\n",
       "</style>\n",
       "<table border=\"1\" class=\"dataframe\">\n",
       "  <thead>\n",
       "    <tr style=\"text-align: right;\">\n",
       "      <th></th>\n",
       "      <th>Star</th>\n",
       "      <th>Absolute magnitude</th>\n",
       "      <th>Apparent magnitude</th>\n",
       "      <th>Spectral type</th>\n",
       "      <th>Luminosity class</th>\n",
       "    </tr>\n",
       "  </thead>\n",
       "  <tbody>\n",
       "    <tr>\n",
       "      <th>6</th>\n",
       "      <td>Sirius</td>\n",
       "      <td>1.4</td>\n",
       "      <td>-1.4</td>\n",
       "      <td>A1</td>\n",
       "      <td>V</td>\n",
       "    </tr>\n",
       "    <tr>\n",
       "      <th>4</th>\n",
       "      <td>Fomalhaut</td>\n",
       "      <td>2.0</td>\n",
       "      <td>1.2</td>\n",
       "      <td>A3</td>\n",
       "      <td>V</td>\n",
       "    </tr>\n",
       "    <tr>\n",
       "      <th>7</th>\n",
       "      <td>Spica</td>\n",
       "      <td>-3.6</td>\n",
       "      <td>0.9</td>\n",
       "      <td>B1</td>\n",
       "      <td>V</td>\n",
       "    </tr>\n",
       "    <tr>\n",
       "      <th>5</th>\n",
       "      <td>Regulus</td>\n",
       "      <td>-0.6</td>\n",
       "      <td>1.4</td>\n",
       "      <td>B7</td>\n",
       "      <td>V</td>\n",
       "    </tr>\n",
       "    <tr>\n",
       "      <th>1</th>\n",
       "      <td>Alpha Centauri A</td>\n",
       "      <td>4.4</td>\n",
       "      <td>0.0</td>\n",
       "      <td>G2</td>\n",
       "      <td>V</td>\n",
       "    </tr>\n",
       "  </tbody>\n",
       "</table>\n",
       "</div>"
      ],
      "text/plain": [
       "               Star  Absolute magnitude  Apparent magnitude Spectral type  \\\n",
       "6            Sirius                 1.4                -1.4            A1   \n",
       "4         Fomalhaut                 2.0                 1.2            A3   \n",
       "7             Spica                -3.6                 0.9            B1   \n",
       "5           Regulus                -0.6                 1.4            B7   \n",
       "1  Alpha Centauri A                 4.4                 0.0            G2   \n",
       "\n",
       "  Luminosity class  \n",
       "6                V  \n",
       "4                V  \n",
       "7                V  \n",
       "5                V  \n",
       "1                V  "
      ]
     },
     "execution_count": 12,
     "metadata": {},
     "output_type": "execute_result"
    }
   ],
   "source": [
    "data.sort_values(by=['Spectral type'])[data['Luminosity class'] == \"V\"]"
   ]
  },
  {
   "cell_type": "markdown",
   "metadata": {},
   "source": [
    "*We know that hotter stars are more massive, so grouping again by spectral type but this time filtering out non-main sequence stars shows that Spica (B1) will be the most massive as it is the hottest*."
   ]
  },
  {
   "cell_type": "markdown",
   "metadata": {},
   "source": [
    "### i.) Among the main-sequence stars listed, which has the longest lifetime? Answer using the Markdown and/or code cells below:"
   ]
  },
  {
   "cell_type": "code",
   "execution_count": null,
   "metadata": {},
   "outputs": [],
   "source": []
  },
  {
   "cell_type": "markdown",
   "metadata": {},
   "source": [
    "*This is just the reverse logic of the previous question &mdash; the one that will live the longest is the coolest main sequence star, and G2 is the coolest of the spectral types listed in the table so the longest lived main sequence star in this sample is Alpha Centauri A.*"
   ]
  },
  {
   "cell_type": "markdown",
   "metadata": {},
   "source": [
    "## Q2 (60 points)\n",
    "\n",
    "### Calculating the physical properties of stars from observables: Procyon\n",
    "\n",
    "Procyon is the 7th brightest star in the sky. From telescope observations, we know that the wavelength of maximimum intensity, $\\lambda_{\\rm{max}}$, is about $444$ $\\rm{nm}$ and the total intensity (apparent brightness) is $1.81\\times 10^{-8}$ $\\rm{\\frac{W}{m^2}}$. The measured parralax angle for Procyon is $285$ $\\rm{mas}$ (milliarcseconds).\n",
    "\n",
    "### a.) How far away is Procyon? Use the code cell below to calculate and provide your answer in lightyears. "
   ]
  },
  {
   "cell_type": "code",
   "execution_count": 13,
   "metadata": {},
   "outputs": [
    {
     "name": "stdout",
     "output_type": "stream",
     "text": [
      "Procyon is approximately 11.44 lyr away\n"
     ]
    }
   ],
   "source": [
    "α = 285*units.mas\n",
    "base = 1*units.AU #base of parallax triangle\n",
    "d = base/(α.to(units.rad).value) #small angle approximation, could also do np.sin(α) or np.tan(α)\n",
    "print(\"Procyon is approximately {:.2f} away\".format(d.to(units.lyr)))"
   ]
  },
  {
   "cell_type": "markdown",
   "metadata": {},
   "source": [
    "### b.) What is the luminosity of Procyon? Use the code cell below to calculate and express your answer in terms of $L_\\odot$."
   ]
  },
  {
   "cell_type": "code",
   "execution_count": 19,
   "metadata": {},
   "outputs": [
    {
     "name": "stdout",
     "output_type": "stream",
     "text": [
      "Procyon is 6.97x brighter than the Sun\n"
     ]
    }
   ],
   "source": [
    "i = 1.81e-8*units.W/(units.m**2) #intensity as given in problem\n",
    "L = 4*np.pi*d**2*i #d as calculated in a\n",
    "ratio = (L/L_sun).to(units.dimensionless_unscaled)\n",
    "print(\"Procyon is {:.2f}x brighter than the Sun\".format(ratio))"
   ]
  },
  {
   "cell_type": "markdown",
   "metadata": {},
   "source": [
    "### c.) What is the surface temperature of Procyon? Use the code cell below to calculate and provide your answer in K."
   ]
  },
  {
   "cell_type": "code",
   "execution_count": 25,
   "metadata": {},
   "outputs": [
    {
     "name": "stdout",
     "output_type": "stream",
     "text": [
      "Procyon is approximately 6526.51 K\n"
     ]
    }
   ],
   "source": [
    "#forgot to give them Wien's displacement constant...but I trust them to figure it out\n",
    "b = constants.b_wien #alternatively can just do b = 2.9e-3 * units.K * units.m if they do it themselves\n",
    "λ_max = 444*units.nm #given in problem\n",
    "T = b/λ_max\n",
    "print(\"Procyon is approximately {:.2f}\".format(T.si))"
   ]
  },
  {
   "cell_type": "markdown",
   "metadata": {},
   "source": [
    "### d.) What is the intensity of light at Procyon's surface? Use the code cell below to calculate and provide your answer in $\\frac{W}{m^2}$."
   ]
  },
  {
   "cell_type": "code",
   "execution_count": 31,
   "metadata": {},
   "outputs": [
    {
     "name": "stdout",
     "output_type": "stream",
     "text": [
      "The intensity of light at Procyon's surface is approximately 1.029e+08 W / m2\n"
     ]
    }
   ],
   "source": [
    "i_surface = sigma_sb*T**4 #T from previous problem, Stefan-Boltzmann\n",
    "print(\"The intensity of light at Procyon's surface is approximately {:.4g}\".format(i_surface.to(units.W/(units.m**2))))"
   ]
  },
  {
   "cell_type": "markdown",
   "metadata": {},
   "source": [
    "### e.) What is Procyon's surface area? What is its radius? Use the code cell below to calculate both values, and compare the radius to our Sun's."
   ]
  },
  {
   "cell_type": "code",
   "execution_count": 33,
   "metadata": {},
   "outputs": [
    {
     "name": "stdout",
     "output_type": "stream",
     "text": [
      "Procyon's surface area is approximately 2.592e+19 m2\n",
      "and its radius is then roughly 2.064 solRad\n"
     ]
    }
   ],
   "source": [
    "SA = L/i_surface #Stefan-Boltzmann\n",
    "print(\"Procyon's surface area is approximately {:.4g}\".format(SA.si))\n",
    "r = np.sqrt(SA/(4*np.pi))\n",
    "print(\"and its radius is then roughly {:.4g}\".format(r.to(units.R_sun)))"
   ]
  },
  {
   "cell_type": "markdown",
   "metadata": {},
   "source": [
    "### f.) Procyon is half of a binary system. The two stars are separted by 4.3 arcseconds (semimajor axis) and have an orbital period of 40.82 years. What is the combined mass of both stars in the Procyon system? Use the code cell below to calculate and express your answer in terms of solar masses ($M_\\odot$)."
   ]
  },
  {
   "cell_type": "code",
   "execution_count": 36,
   "metadata": {},
   "outputs": [
    {
     "name": "stdout",
     "output_type": "stream",
     "text": [
      "The total mass of the binary is roughly 2.06 solMass\n"
     ]
    }
   ],
   "source": [
    "angular_sep = 4.3*units.arcsecond #given\n",
    "P = 40.82*units.yr #given\n",
    "\n",
    "a = (angular_sep.to(units.rad).value) * d #semi-major axis in physical units (can also do trig here, this is arc length formula)\n",
    "total_mass = 4*np.pi**2*a**3/(G*P**2)\n",
    "print(\"The total mass of the binary is roughly {:.2f}\".format(total_mass.to(units.M_sun)))"
   ]
  },
  {
   "cell_type": "markdown",
   "metadata": {},
   "source": [
    "## Q3 (10 points)\n",
    "What is the most fundamental property of stars? Why? Use the markdown cell below to provide your answer.\n"
   ]
  },
  {
   "cell_type": "markdown",
   "metadata": {},
   "source": [
    "*Mass. Mass sets the strength of the force of gravity. As a result of the condition of hydrostatic equilibrium, this\n",
    "sets the equilibrium temperature and pressure which in turn sets the fusion rate and hence the luminosity and\n",
    "lifetime of stars.*"
   ]
  },
  {
   "cell_type": "markdown",
   "metadata": {},
   "source": [
    "## Q4 (10 points)\n",
    "\n",
    "How do we age date stars? Use the markdown cell below to provide your answer."
   ]
  },
  {
   "cell_type": "markdown",
   "metadata": {},
   "source": [
    "*We need a star cluster. If we have a star cluster we can use the main sequence turnoff to estimate the age of the\n",
    "cluster. The lifetime of the most massive stars still on the main sequence give us the age of the star cluster.*"
   ]
  }
 ],
 "metadata": {
  "kernelspec": {
   "display_name": "Python 3 (ipykernel)",
   "language": "python",
   "name": "python3"
  },
  "language_info": {
   "codemirror_mode": {
    "name": "ipython",
    "version": 3
   },
   "file_extension": ".py",
   "mimetype": "text/x-python",
   "name": "python",
   "nbconvert_exporter": "python",
   "pygments_lexer": "ipython3",
   "version": "3.11.4"
  }
 },
 "nbformat": 4,
 "nbformat_minor": 2
}
