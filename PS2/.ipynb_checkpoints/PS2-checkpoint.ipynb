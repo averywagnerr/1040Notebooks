{
 "cells": [
  {
   "attachments": {},
   "cell_type": "markdown",
   "metadata": {},
   "source": [
    "# ASTR 1040 Problem Set 2\n",
    "\n",
    "For reference, all of the `astropy` constants as well as examples can be found [here](https://docs.astropy.org/en/stable/constants/index.html). Likewise all of the units and their names / how to access them can be found [here](https://docs.astropy.org/en/stable/units/index.html).\n",
    "\n",
    "To create a variable with units you need to multiply by the corresponding unit class:\n",
    "\n",
    "```python\n",
    "d = 1 * units.au\n",
    "```\n",
    "\n",
    "You can then convert unitful quantities to other units by calling the `to` method and passing the desired end unit class: \n",
    "\n",
    "```python\n",
    "d_m = d.to(units.m)\n",
    "```\n",
    "\n",
    "If you have a ratio of quanities where all the units should cancel out, you can obtain the dimensionles number using the `dimesionless_unscaled` method. For example writing:\n",
    "```python\n",
    "d_m/d\n",
    "``` \n",
    "yields $1.4959787\\times 10^{11} \\rm{\\frac{m}{AU}}$, but doing:\n",
    "```python\n",
    "(d_m/d).to(units.dimensionless_unscaled)\n",
    "```\n",
    "returns `1.0` as expected.\n",
    "\n",
    "If you get weird units at the end but you think your answer should be right, you can always try converting them to SI units with the `.si` method (i.e. `d.si`).\n",
    "\n",
    "For a more general Python cheatsheet, check the top of your PS1 notebook.\n",
    "\n",
    "### Don't forget to run the cell below before starting your homework!!!"
   ]
  },
  {
   "cell_type": "code",
   "execution_count": 3,
   "metadata": {},
   "outputs": [],
   "source": [
    "#SETUP CELL (modify at your own peril)\n",
    "from astropy import units #access units by doing units.<unit> (i.e. units.au)\n",
    "from astropy import constants\n",
    "import numpy as np #common math functions (i.e. np.sin(x)) and better arrays (i.e. np.array([1,2,3])\n",
    "import matplotlib.pyplot as plt #plotting functions (i.e. plt.plot(x,y))\n",
    "G = constants.G # gravitational constant\n",
    "M_sun = constants.M_sun # mass of the sun\n",
    "R_sun = constants.R_sun # radius of the sun\n",
    "L_sun = constants.L_sun # luminosity of the sun\n",
    "M_earth = constants.M_earth # mass of the earth\n",
    "R_earth = constants.R_earth # radius of the earth\n",
    "M_jup = constants.M_jup # mass of jupiter\n",
    "R_jup = constants.R_jup # radius of jupiter\n",
    "sigma_sb = constants.sigma_sb # Stefan-Boltzmann constant\n",
    "c = constants.c # speed of light\n",
    "h = constants.h # Planck constant\n",
    "k_B = constants.k_B # Boltzmann constant\n",
    "m_e = constants.m_e # mass of electron\n",
    "m_p = constants.m_p # mass of proton \n",
    "m_n = constants.m_n # mass of neutron (basically just the mass of a proton but whatever)\n",
    "g0 = constants.g0 # standard gravity, 9.8 m/s^2\n",
    "e = constants.e # absolute value of electron/proton charge"
   ]
  },
  {
   "cell_type": "markdown",
   "metadata": {},
   "source": [
    "## Q1 (20 points)\n",
    "\n",
    "### Properties of stars\n",
    "\n",
    "Consider the stellar data in the following table (run the code cell below to see the table!):"
   ]
  },
  {
   "cell_type": "code",
   "execution_count": 4,
   "metadata": {},
   "outputs": [
    {
     "data": {
      "text/html": [
       "<div>\n",
       "<style scoped>\n",
       "    .dataframe tbody tr th:only-of-type {\n",
       "        vertical-align: middle;\n",
       "    }\n",
       "\n",
       "    .dataframe tbody tr th {\n",
       "        vertical-align: top;\n",
       "    }\n",
       "\n",
       "    .dataframe thead th {\n",
       "        text-align: right;\n",
       "    }\n",
       "</style>\n",
       "<table border=\"1\" class=\"dataframe\">\n",
       "  <thead>\n",
       "    <tr style=\"text-align: right;\">\n",
       "      <th></th>\n",
       "      <th>Star</th>\n",
       "      <th>Absolute magnitude</th>\n",
       "      <th>Apparent magnitude</th>\n",
       "      <th>Spectral type</th>\n",
       "      <th>Luminosity class</th>\n",
       "    </tr>\n",
       "  </thead>\n",
       "  <tbody>\n",
       "    <tr>\n",
       "      <th>0</th>\n",
       "      <td>Aldebaran</td>\n",
       "      <td>-0.2</td>\n",
       "      <td>0.9</td>\n",
       "      <td>K5</td>\n",
       "      <td>III</td>\n",
       "    </tr>\n",
       "    <tr>\n",
       "      <th>1</th>\n",
       "      <td>Alpha Centauri A</td>\n",
       "      <td>4.4</td>\n",
       "      <td>0.0</td>\n",
       "      <td>G2</td>\n",
       "      <td>V</td>\n",
       "    </tr>\n",
       "    <tr>\n",
       "      <th>2</th>\n",
       "      <td>Antares</td>\n",
       "      <td>-4.5</td>\n",
       "      <td>0.9</td>\n",
       "      <td>M1</td>\n",
       "      <td>I</td>\n",
       "    </tr>\n",
       "    <tr>\n",
       "      <th>3</th>\n",
       "      <td>Canopus</td>\n",
       "      <td>-3.1</td>\n",
       "      <td>-0.7</td>\n",
       "      <td>F0</td>\n",
       "      <td>II</td>\n",
       "    </tr>\n",
       "    <tr>\n",
       "      <th>4</th>\n",
       "      <td>Fomalhaut</td>\n",
       "      <td>2.0</td>\n",
       "      <td>1.2</td>\n",
       "      <td>A3</td>\n",
       "      <td>V</td>\n",
       "    </tr>\n",
       "    <tr>\n",
       "      <th>5</th>\n",
       "      <td>Regulus</td>\n",
       "      <td>-0.6</td>\n",
       "      <td>1.4</td>\n",
       "      <td>B7</td>\n",
       "      <td>V</td>\n",
       "    </tr>\n",
       "    <tr>\n",
       "      <th>6</th>\n",
       "      <td>Sirius</td>\n",
       "      <td>1.4</td>\n",
       "      <td>-1.4</td>\n",
       "      <td>A1</td>\n",
       "      <td>V</td>\n",
       "    </tr>\n",
       "    <tr>\n",
       "      <th>7</th>\n",
       "      <td>Spica</td>\n",
       "      <td>-3.6</td>\n",
       "      <td>0.9</td>\n",
       "      <td>B1</td>\n",
       "      <td>V</td>\n",
       "    </tr>\n",
       "  </tbody>\n",
       "</table>\n",
       "</div>"
      ],
      "text/plain": [
       "               Star  Absolute magnitude  Apparent magnitude Spectral type  \\\n",
       "0         Aldebaran                -0.2                 0.9            K5   \n",
       "1  Alpha Centauri A                 4.4                 0.0            G2   \n",
       "2           Antares                -4.5                 0.9            M1   \n",
       "3           Canopus                -3.1                -0.7            F0   \n",
       "4         Fomalhaut                 2.0                 1.2            A3   \n",
       "5           Regulus                -0.6                 1.4            B7   \n",
       "6            Sirius                 1.4                -1.4            A1   \n",
       "7             Spica                -3.6                 0.9            B1   \n",
       "\n",
       "  Luminosity class  \n",
       "0              III  \n",
       "1                V  \n",
       "2                I  \n",
       "3               II  \n",
       "4                V  \n",
       "5                V  \n",
       "6                V  \n",
       "7                V  "
      ]
     },
     "execution_count": 4,
     "metadata": {},
     "output_type": "execute_result"
    }
   ],
   "source": [
    "import pandas as pd\n",
    "d = {\n",
    "    \"Star\": [\"Aldebaran\",\"Alpha Centauri A\",\"Antares\",\"Canopus\",\"Fomalhaut\",\"Regulus\",\"Sirius\",\"Spica\"],\n",
    "    \"Absolute magnitude\": [-0.2,4.4,-4.5,-3.1,2.0,-0.6,1.4,-3.6],\n",
    "    \"Apparent magnitude\": [0.9,0.0,0.9,-0.7,1.2,1.4,-1.4,0.9],\n",
    "    \"Spectral type\": [\"K5\",\"G2\",\"M1\",\"F0\",\"A3\",\"B7\",\"A1\",\"B1\"],\n",
    "    \"Luminosity class\": [\"III\",\"V\",\"I\",\"II\",\"V\",\"V\",\"V\",\"V\"]\n",
    "}\n",
    "data = pd.DataFrame(data=d)\n",
    "data"
   ]
  },
  {
   "cell_type": "markdown",
   "metadata": {},
   "source": [
    "This is a [pandas DataFrame](https://pandas.pydata.org/docs/reference/api/pandas.DataFrame.html), a common tool used in the sciences / industry to store and display data in Python. It has many useful features which you won't really need to use, but one really nice feature that may be helpful for you in answering this first question is that you can sort DataFrames very easily. For example, if we wanted to re-sort the DataFrame above in terms of absolute magnitude, we could run the following command:"
   ]
  },
  {
   "cell_type": "code",
   "execution_count": 13,
   "metadata": {},
   "outputs": [
    {
     "data": {
      "text/html": [
       "<div>\n",
       "<style scoped>\n",
       "    .dataframe tbody tr th:only-of-type {\n",
       "        vertical-align: middle;\n",
       "    }\n",
       "\n",
       "    .dataframe tbody tr th {\n",
       "        vertical-align: top;\n",
       "    }\n",
       "\n",
       "    .dataframe thead th {\n",
       "        text-align: right;\n",
       "    }\n",
       "</style>\n",
       "<table border=\"1\" class=\"dataframe\">\n",
       "  <thead>\n",
       "    <tr style=\"text-align: right;\">\n",
       "      <th></th>\n",
       "      <th>Star</th>\n",
       "      <th>Absolute magnitude</th>\n",
       "      <th>Apparent magnitude</th>\n",
       "      <th>Spectral type</th>\n",
       "      <th>Luminosity class</th>\n",
       "    </tr>\n",
       "  </thead>\n",
       "  <tbody>\n",
       "    <tr>\n",
       "      <th>2</th>\n",
       "      <td>Antares</td>\n",
       "      <td>-4.5</td>\n",
       "      <td>0.9</td>\n",
       "      <td>M1</td>\n",
       "      <td>I</td>\n",
       "    </tr>\n",
       "    <tr>\n",
       "      <th>7</th>\n",
       "      <td>Spica</td>\n",
       "      <td>-3.6</td>\n",
       "      <td>0.9</td>\n",
       "      <td>B1</td>\n",
       "      <td>V</td>\n",
       "    </tr>\n",
       "    <tr>\n",
       "      <th>3</th>\n",
       "      <td>Canopus</td>\n",
       "      <td>-3.1</td>\n",
       "      <td>-0.7</td>\n",
       "      <td>F0</td>\n",
       "      <td>II</td>\n",
       "    </tr>\n",
       "    <tr>\n",
       "      <th>5</th>\n",
       "      <td>Regulus</td>\n",
       "      <td>-0.6</td>\n",
       "      <td>1.4</td>\n",
       "      <td>B7</td>\n",
       "      <td>V</td>\n",
       "    </tr>\n",
       "    <tr>\n",
       "      <th>0</th>\n",
       "      <td>Aldebaran</td>\n",
       "      <td>-0.2</td>\n",
       "      <td>0.9</td>\n",
       "      <td>K5</td>\n",
       "      <td>III</td>\n",
       "    </tr>\n",
       "    <tr>\n",
       "      <th>6</th>\n",
       "      <td>Sirius</td>\n",
       "      <td>1.4</td>\n",
       "      <td>-1.4</td>\n",
       "      <td>A1</td>\n",
       "      <td>V</td>\n",
       "    </tr>\n",
       "    <tr>\n",
       "      <th>4</th>\n",
       "      <td>Fomalhaut</td>\n",
       "      <td>2.0</td>\n",
       "      <td>1.2</td>\n",
       "      <td>A3</td>\n",
       "      <td>V</td>\n",
       "    </tr>\n",
       "    <tr>\n",
       "      <th>1</th>\n",
       "      <td>Alpha Centauri A</td>\n",
       "      <td>4.4</td>\n",
       "      <td>0.0</td>\n",
       "      <td>G2</td>\n",
       "      <td>V</td>\n",
       "    </tr>\n",
       "  </tbody>\n",
       "</table>\n",
       "</div>"
      ],
      "text/plain": [
       "               Star  Absolute magnitude  Apparent magnitude Spectral type  \\\n",
       "2           Antares                -4.5                 0.9            M1   \n",
       "7             Spica                -3.6                 0.9            B1   \n",
       "3           Canopus                -3.1                -0.7            F0   \n",
       "5           Regulus                -0.6                 1.4            B7   \n",
       "0         Aldebaran                -0.2                 0.9            K5   \n",
       "6            Sirius                 1.4                -1.4            A1   \n",
       "4         Fomalhaut                 2.0                 1.2            A3   \n",
       "1  Alpha Centauri A                 4.4                 0.0            G2   \n",
       "\n",
       "  Luminosity class  \n",
       "2                I  \n",
       "7                V  \n",
       "3               II  \n",
       "5                V  \n",
       "0              III  \n",
       "6                V  \n",
       "4                V  \n",
       "1                V  "
      ]
     },
     "execution_count": 13,
     "metadata": {},
     "output_type": "execute_result"
    }
   ],
   "source": [
    "data.sort_values(by=['Absolute magnitude'])"
   ]
  },
  {
   "cell_type": "markdown",
   "metadata": {},
   "source": [
    "Now you can see that everything is sorted in terms of absolute magnitude, running from smallest to largest. Full documentation for the sort command is available [here](https://pandas.pydata.org/docs/reference/api/pandas.DataFrame.sort_values.html)."
   ]
  },
  {
   "cell_type": "markdown",
   "metadata": {},
   "source": [
    "### a.) Which star appears brightest and which appears faintest in our sky? Answer using the Markdown and/or code cells below:"
   ]
  },
  {
   "cell_type": "code",
   "execution_count": null,
   "metadata": {},
   "outputs": [],
   "source": []
  },
  {
   "cell_type": "markdown",
   "metadata": {},
   "source": []
  },
  {
   "cell_type": "markdown",
   "metadata": {},
   "source": [
    "### b.) Which star has the greatest luminosity and which has the lowest? Answer using the Markdown and/or code cells below:"
   ]
  },
  {
   "cell_type": "code",
   "execution_count": null,
   "metadata": {},
   "outputs": [],
   "source": []
  },
  {
   "cell_type": "markdown",
   "metadata": {},
   "source": []
  },
  {
   "cell_type": "markdown",
   "metadata": {},
   "source": [
    "### c.) Which star has the highest surface temperature and which has the lowest? Answer using the Markdown and/or code cells below:"
   ]
  },
  {
   "cell_type": "code",
   "execution_count": null,
   "metadata": {},
   "outputs": [],
   "source": []
  },
  {
   "cell_type": "markdown",
   "metadata": {},
   "source": []
  },
  {
   "cell_type": "markdown",
   "metadata": {},
   "source": [
    "### d.) Which star is most similar to the Sun? Answer using the Markdown and/or code cells below:"
   ]
  },
  {
   "cell_type": "code",
   "execution_count": null,
   "metadata": {},
   "outputs": [],
   "source": []
  },
  {
   "cell_type": "markdown",
   "metadata": {},
   "source": []
  },
  {
   "cell_type": "markdown",
   "metadata": {},
   "source": [
    "### e.) Which star is a red supergiant? Answer using the Markdown and/or code cells below:"
   ]
  },
  {
   "cell_type": "code",
   "execution_count": null,
   "metadata": {},
   "outputs": [],
   "source": []
  },
  {
   "cell_type": "markdown",
   "metadata": {},
   "source": []
  },
  {
   "cell_type": "markdown",
   "metadata": {},
   "source": [
    "### f.) Which star has the largest radius? Answer using the Markdown and/or code cells below:"
   ]
  },
  {
   "cell_type": "code",
   "execution_count": null,
   "metadata": {},
   "outputs": [],
   "source": []
  },
  {
   "cell_type": "markdown",
   "metadata": {},
   "source": []
  },
  {
   "cell_type": "markdown",
   "metadata": {},
   "source": [
    "### g.) Which stars have finished burning hydrogen in their cores? Answer using the Markdown and/or code cells below:"
   ]
  },
  {
   "cell_type": "code",
   "execution_count": null,
   "metadata": {},
   "outputs": [],
   "source": []
  },
  {
   "cell_type": "markdown",
   "metadata": {},
   "source": []
  },
  {
   "cell_type": "markdown",
   "metadata": {},
   "source": [
    "### h.) Among the main-sequence stars listed, which is the most massive? Answer using the Markdown and/or code cells below:"
   ]
  },
  {
   "cell_type": "code",
   "execution_count": null,
   "metadata": {},
   "outputs": [],
   "source": []
  },
  {
   "cell_type": "markdown",
   "metadata": {},
   "source": []
  },
  {
   "cell_type": "markdown",
   "metadata": {},
   "source": [
    "### i.) Among the main-sequence stars listed, which has the longest lifetime? Answer using the Markdown and/or code cells below:"
   ]
  },
  {
   "cell_type": "code",
   "execution_count": null,
   "metadata": {},
   "outputs": [],
   "source": []
  },
  {
   "cell_type": "markdown",
   "metadata": {},
   "source": []
  },
  {
   "cell_type": "markdown",
   "metadata": {},
   "source": [
    "## Q2 (60 points)\n",
    "\n",
    "### Calculating the physical properties of stars from observables: Procyon\n",
    "\n",
    "Procyon is the 7th brightest star in the sky. From telescope observations, we know that the wavelength of maximimum intensity, $\\lambda_{\\rm{max}}$, is about $444$ $\\rm{nm}$ and the total intensity (apparent brightness) is $1.81\\times 10^{-8}$ $\\rm{\\frac{W}{m^2}}$. The measured parralax angle for Procyon is $285$ $\\rm{mas}$ (milliarcseconds).\n",
    "\n",
    "### a.) How far away is Procyon? Use the code cell below to calculate and provide your answer in lightyears. "
   ]
  },
  {
   "cell_type": "code",
   "execution_count": null,
   "metadata": {},
   "outputs": [],
   "source": []
  },
  {
   "cell_type": "markdown",
   "metadata": {},
   "source": [
    "### b.) What is the luminosity of Procyon? Use the code cell below to calculate and express your answer in terms of $L_\\odot$."
   ]
  },
  {
   "cell_type": "code",
   "execution_count": null,
   "metadata": {},
   "outputs": [],
   "source": []
  },
  {
   "cell_type": "markdown",
   "metadata": {},
   "source": [
    "### c.) What is the surface temperature of Procyon? Use the code cell below to calculate and provide your answer in K."
   ]
  },
  {
   "cell_type": "code",
   "execution_count": null,
   "metadata": {},
   "outputs": [],
   "source": []
  },
  {
   "cell_type": "markdown",
   "metadata": {},
   "source": [
    "### d.) What is the intensity of light at Procyon's surface? Use the code cell below to calculate and provide your answer in $\\frac{W}{m^2}$."
   ]
  },
  {
   "cell_type": "code",
   "execution_count": null,
   "metadata": {},
   "outputs": [],
   "source": []
  },
  {
   "cell_type": "markdown",
   "metadata": {},
   "source": [
    "### e.) What is Procyon's surface area? What is its radius? Use the code cell below to calculate both values, and compare the radius to our Sun's."
   ]
  },
  {
   "cell_type": "code",
   "execution_count": null,
   "metadata": {},
   "outputs": [],
   "source": []
  },
  {
   "cell_type": "markdown",
   "metadata": {},
   "source": [
    "### f.) Procyon is half of a binary system. The two stars are separted by 4.3 arcseconds (semimajor axis) and have an orbital period of 40.82 years. What is the combined mass of both stars in the Procyon system? Use the code cell below to calculate and express your answer in terms of solar masses ($M_\\odot$)."
   ]
  },
  {
   "cell_type": "code",
   "execution_count": null,
   "metadata": {},
   "outputs": [],
   "source": []
  },
  {
   "cell_type": "markdown",
   "metadata": {},
   "source": [
    "## Q3 (10 points)\n",
    "What is the most fundamental property of stars? Why? Use the markdown cell below to provide your answer.\n"
   ]
  },
  {
   "cell_type": "markdown",
   "metadata": {},
   "source": []
  },
  {
   "cell_type": "markdown",
   "metadata": {},
   "source": [
    "## Q4 (10 points)\n",
    "\n",
    "How do we age date stars? Use the markdown cell below to provide your answer."
   ]
  },
  {
   "cell_type": "markdown",
   "metadata": {},
   "source": []
  }
 ],
 "metadata": {
  "kernelspec": {
   "display_name": "Python 3 (ipykernel)",
   "language": "python",
   "name": "python3"
  },
  "orig_nbformat": 4
 },
 "nbformat": 4,
 "nbformat_minor": 2
}
