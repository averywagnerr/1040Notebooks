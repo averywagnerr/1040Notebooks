{
 "cells": [
  {
   "attachments": {},
   "cell_type": "markdown",
   "metadata": {},
   "source": [
    "# Problem Set 3\n",
    "\n",
    "The first cell (below) contains lots of helpful constants you may need to use throughout the semester. Make sure to run it each time before you start working! \n",
    "\n",
    "For reference, all of the `astropy` constants as well as examples can be found [here](https://docs.astropy.org/en/stable/constants/index.html). Likewise all of the units and their names / how to access them can be found [here](https://docs.astropy.org/en/stable/units/index.html). \n",
    "\n",
    "To create a variable with units you need to multiply by the corresponding unit class:\n",
    "\n",
    "```python\n",
    "d = 1 * units.au\n",
    "```\n",
    "\n",
    "You can then convert unitful quantities to other units by calling the `to` method and passing the desired end unit class: \n",
    "\n",
    "```python\n",
    "d_m = d.to(units.m)\n",
    "```\n",
    "\n",
    "If you have a ratio of quanities where all the units should cancel out, you can obtain the dimensionles number using the `dimesionless_unscaled` method. For example writing:\n",
    "```python\n",
    "d_m/d\n",
    "``` \n",
    "yields $1.4959787\\times 10^{11} \\rm{\\frac{m}{AU}}$, but doing:\n",
    "```python\n",
    "(d_m/d).to(units.dimensionless_unscaled)\n",
    "```\n",
    "returns `1.0` as expected.\n",
    "\n",
    "Sometimes you may get answers in weird units, but many of them can cancel out. A handy trick for seeing which units cancel is to write `.si` after the quantity, i.e. `d.si` and it will conver whatever units you have to SI units.\n",
    "\n",
    "### Make sure to run the cell below before starting your homework!!!"
   ]
  },
  {
   "cell_type": "code",
   "execution_count": 1,
   "metadata": {},
   "outputs": [],
   "source": [
    "#SETUP CELL (modify at your own peril)\n",
    "from astropy import units #access units by doing units.<unit> (i.e. units.au)\n",
    "from astropy import constants\n",
    "import numpy as np #common math functions (i.e. np.sin(x)) and better arrays (i.e. np.array([1,2,3])\n",
    "import matplotlib.pyplot as plt #plotting functions (i.e. plt.plot(x,y))\n",
    "G = constants.G # gravitational constant\n",
    "M_sun = constants.M_sun # mass of the sun\n",
    "R_sun = constants.R_sun # radius of the sun\n",
    "L_sun = constants.L_sun # luminosity of the sun\n",
    "M_earth = constants.M_earth # mass of the earth\n",
    "R_earth = constants.R_earth # radius of the earth\n",
    "M_jup = constants.M_jup # mass of jupiter\n",
    "R_jup = constants.R_jup # radius of jupiter\n",
    "sigma_sb = constants.sigma_sb # Stefan-Boltzmann constant\n",
    "c = constants.c # speed of light\n",
    "h = constants.h # Planck constant\n",
    "k_B = constants.k_B # Boltzmann constant\n",
    "m_e = constants.m_e # mass of electron\n",
    "m_p = constants.m_p # mass of proton \n",
    "m_n = constants.m_n # mass of neutron (basically just the mass of a proton but whatever)\n",
    "g0 = constants.g0 # standard gravity, 9.8 m/s^2\n",
    "e = constants.e # absolute value of electron/proton charge"
   ]
  },
  {
   "cell_type": "markdown",
   "metadata": {},
   "source": [
    "## Q1 (40 pts)\n",
    "### Gravitational heating\n",
    "\n",
    "This problem presents one of several early mathematical tests of the nebular theory. A star needs to get its core temperature to roughly 15 million K to sustain fusion reactions. For stars to be formed from large clouds of cool gas something must heat them up as they contract &mdash; your job in this problem will be to test if there is enough gravitational energy available to cause a newly formed star to heat up sufficiently to start nuclear fusion. The goal is not to be exact but just to check if it is plausible that stars form from interstellar clouds, thus all answers only need $\\sim$ 1-2 significant figures (the order of magnitude is really what we're after here). \n",
    "\n",
    "### a.) \n",
    "Consider 1 kg of hydrogen falling onto the Sun during its late-stage formation. If the hydrogen free-falls from greater than 1 ly away, how much gravitational energy is converted to kinetic energy by the time this 1 kg of H reaches just above the Sun's surface? Assume that the Sun is nearly completely formed (so that its mass and radius are the same as they are today). Calculate and report your answer in the code cell below."
   ]
  },
  {
   "cell_type": "code",
   "execution_count": null,
   "metadata": {},
   "outputs": [],
   "source": []
  },
  {
   "cell_type": "markdown",
   "metadata": {},
   "source": [
    "### b.) \n",
    "Hydrogen is made up of just a single proton and electron, and since electrons have very little mass compared to protons the mass of each hydrogen atom is basically just the mass of a proton. Using this fact, how many hydrogen atoms are there inside the 1 kg parcel we just dropped onto the Sun? Calculate and report your answer in the code cell below."
   ]
  },
  {
   "cell_type": "code",
   "execution_count": null,
   "metadata": {},
   "outputs": [],
   "source": []
  },
  {
   "cell_type": "markdown",
   "metadata": {},
   "source": [
    "### c.) \n",
    "Upon impact, the kinetic energy is converted into thermal energy. Using your answer from parts a.) and b.), calculate how much thermal energy (on average) each hydrogen atom has after the impact. Use the code cell below to calculate and report your answer."
   ]
  },
  {
   "cell_type": "code",
   "execution_count": null,
   "metadata": {},
   "outputs": [],
   "source": []
  },
  {
   "cell_type": "markdown",
   "metadata": {},
   "source": [
    "### d.) \n",
    "Temperature is simply a measure of the average energy per atom, often expressed as $E = \\frac{3}{2}k_BT$. Thus we can use Boltzmann's constant ($k_B$) to convert from average energy per atom to temperature. How hot is the Hydrogen? Calculate and report your answer in the code cell below."
   ]
  },
  {
   "cell_type": "code",
   "execution_count": null,
   "metadata": {},
   "outputs": [],
   "source": []
  },
  {
   "cell_type": "markdown",
   "metadata": {},
   "source": [
    "### e.) \n",
    "Based on your answers above, do you think there is enough gravitational energy in a collapsing cloud to start nuclear fusion? Provide your answer in the markdown cell below."
   ]
  },
  {
   "cell_type": "markdown",
   "metadata": {},
   "source": []
  },
  {
   "cell_type": "markdown",
   "metadata": {},
   "source": [
    "## Q2 (30 pts)\n",
    "### Standing on a white dwarf\n",
    "\n",
    "### a.) \n",
    "Calculate the gravitational ***acceleration*** objects feel on Earth's surface. Hint: you will need Earth's mass and radius. Calculate and provide your answer (in $m/s^2$) in the code cell below."
   ]
  },
  {
   "cell_type": "code",
   "execution_count": null,
   "metadata": {},
   "outputs": [],
   "source": []
  },
  {
   "cell_type": "markdown",
   "metadata": {},
   "source": [
    "### b.) \n",
    "The answer above is known as 1 g, and should be roughly 9.8 $\\rm{m/s^2}$. Calculate the gravitational acceleration on the Sun at its photosphere (from the core to the photosphere is usually how we define $R_\\odot$). How many $g$'s would you feel if you could stand on the surface of the Sun? The Sun is 300,000 times more massive than the Earth, so why is the Sun's surface gravity so low? Calculate and provide your answers in the code and/or markdown cells below."
   ]
  },
  {
   "cell_type": "code",
   "execution_count": null,
   "metadata": {},
   "outputs": [],
   "source": []
  },
  {
   "cell_type": "markdown",
   "metadata": {},
   "source": []
  },
  {
   "cell_type": "markdown",
   "metadata": {},
   "source": [
    "### c.) \n",
    "\n",
    "In about 5 billion years, the Sun will burn out and collapse into a white dwarf. Its mass will be roughly the same but its radius will be narly the same as the Earth's. What will the gravitational acceleration be on the (now white dwarf) Sun then? How many $g$'s would you feel on a white dwarf? Calculate and provide your answer in the code cell below."
   ]
  },
  {
   "cell_type": "code",
   "execution_count": null,
   "metadata": {},
   "outputs": [],
   "source": []
  },
  {
   "cell_type": "markdown",
   "metadata": {},
   "source": [
    "## Q3 (30 pts)\n",
    "### The untapped genius that could change science for the better\n",
    "\n",
    "Watch the following [TED talk](https://www.ted.com/talks/jedidah_isler_the_untapped_genius_that_could_change_science_for_the_bette) by Dartmouth Professor [Jedidah Isler PhD](http://jedidahislerphd.com/). Jedidah was one of my closest friends\n",
    "in graduate school at Yale. When we would be working on homework together or having dinner together, I\n",
    "remember a number of conversations with her where she described something someone did and how it made her\n",
    "feel like she didn't belong. I have to admit, as embarrassing as it is, much of the time they were not things I'd ever\n",
    "thought of. Sometimes they were things I had done. Every time I would realize that, it was like a kick in the gut.\n",
    "My hope in having you engage with Jedidah’s wisdom is that there are less interactions in this class that make\n",
    "people feel like they got kicked in the gut or that they don't belong. I believe strongly in all of your potential as\n",
    "scientists and it is important to me that I do what I can to make the astrophysical community one where you can\n",
    "contribute all your amazing insights to our understanding of the universe.\n",
    "\n",
    "https://www.ted.com/talks/jedidah_isler_the_untapped_genius_that_could_change_science_for_the_better\n",
    "\n",
    "### a.) \n",
    "\n",
    "Your friend who is not an astrophysics major asks what the video is about. Summarize it for them in five sentences or less in language that they will understand. Use the markdown cell below to provide your answer."
   ]
  },
  {
   "cell_type": "markdown",
   "metadata": {},
   "source": []
  },
  {
   "cell_type": "markdown",
   "metadata": {},
   "source": [
    "### b.)\n",
    "\n",
    "In three sentences, tell the same friend the most interesting and/or important thing you learned / were reminded of. Use the markdown cell below to provide your answer."
   ]
  },
  {
   "cell_type": "markdown",
   "metadata": {},
   "source": []
  },
  {
   "cell_type": "markdown",
   "metadata": {},
   "source": [
    "### c.) \n",
    "\n",
    "Write a paragraph ($\\sim$ 6 sentences) on a few thoughts/ideas you have that you would implement into a class you were teaching to make sure everyone feels encouraged and included. This is open-ended and can be related to the video and/or your experiences in college so far! What have you seen professors do that you really liked and/or disliked? Provide your answer in the markdown cell below."
   ]
  },
  {
   "cell_type": "markdown",
   "metadata": {},
   "source": []
  }
 ],
 "metadata": {
  "kernelspec": {
   "display_name": "Python 3",
   "language": "python",
   "name": "python3"
  },
  "language_info": {
   "codemirror_mode": {
    "name": "ipython",
    "version": 3
   },
   "file_extension": ".py",
   "mimetype": "text/x-python",
   "name": "python",
   "nbconvert_exporter": "python",
   "pygments_lexer": "ipython3",
   "version": "3.11.4"
  },
  "orig_nbformat": 4
 },
 "nbformat": 4,
 "nbformat_minor": 2
}
