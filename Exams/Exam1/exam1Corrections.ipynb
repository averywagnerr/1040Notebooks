{
 "cells": [
  {
   "cell_type": "code",
   "execution_count": 1,
   "metadata": {},
   "outputs": [],
   "source": [
    "#SETUP CELL (modify at your own peril)\n",
    "from astropy import units #access units by doing units.<unit> (i.e. units.au)\n",
    "from astropy import constants\n",
    "import numpy as np #common math functions (i.e. np.sin(x)) and better arrays (i.e. np.array([1,2,3])\n",
    "import matplotlib.pyplot as plt #plotting functions (i.e. plt.plot(x,y))\n",
    "G = constants.G # gravitational constant\n",
    "M_sun = constants.M_sun # mass of the sun\n",
    "R_sun = constants.R_sun # radius of the sun\n",
    "L_sun = constants.L_sun # luminosity of the sun\n",
    "M_earth = constants.M_earth # mass of the earth\n",
    "R_earth = constants.R_earth # radius of the earth\n",
    "M_jup = constants.M_jup # mass of jupiter\n",
    "R_jup = constants.R_jup # radius of jupiter\n",
    "sigma_sb = constants.sigma_sb # Stefan-Boltzmann constant\n",
    "c = constants.c # speed of light\n",
    "h = constants.h # Planck constant\n",
    "k_B = constants.k_B # Boltzmann constant\n",
    "m_e = constants.m_e # mass of electron\n",
    "m_p = constants.m_p # mass of proton \n",
    "m_n = constants.m_n # mass of neutron (basically just the mass of a proton but whatever)\n",
    "g0 = constants.g0 # standard gravity, 9.8 m/s^2\n",
    "e = constants.e # absolute value of electron/proton charge"
   ]
  },
  {
   "cell_type": "markdown",
   "metadata": {},
   "source": [
    "## Exam instructions:\n",
    "\n",
    "For the multiple choice and short answer questions you have two options:\n",
    "1. Answer these on the actual test (i.e. circle the multiple choice answer you select and write out by hand the answers to short answer questions) \n",
    "2. Clearly label and type them into markdown cells (i.e. for MC type 1: a if you picked a for q1)\n",
    "\n",
    "For the quantitative questions, if you opt to use the notebook you have two options:\n",
    "1. Just use the notebook to do calculations, writing your final answers down by hand on the physical test. If you do this make sure you note this on the test so I know to check your work here!\n",
    "2. Clearly label and fully answer the questions here, with a combination of markdown and code cells as you see fit.\n",
    "\n",
    "After you have finished the test, create a PDF from your work (just like you have done with your homework) and upload it to the corresponding [Midterm 1 Canvas assignment](https://canvas.colorado.edu/courses/97828/assignments/1820029)."
   ]
  },
  {
   "cell_type": "markdown",
   "metadata": {},
   "source": [
    "2. Multiple Choice\n",
    "\n",
    "    #1. Original Answer: d, New Answer: b\n",
    "    - The two forces that balance each other in stars that are in hydrostatic equilibrium are not the strong force and gravity, which was option d. The strong force is about as influential as the weak and electromagnetic forces that particles experience compared to gravity when talking about objects on the scales of stars. Gravity increases and becomes much stronger at these astronomical scales, while the strong force does not. The other balancing force in a star, is the pressure gradient which opposes the contracting force of gravity as it pushes outwards on the star, due to being very hot from the Star's core.\n",
    "\n",
    "    #9. Original Answer: d, New Answer: c\n",
    "    - I originally said that Alpha Centauri A was the star furthest away from Earth, but it is actually the closest of the stars listed (I think I read the question wrong). The furthest star from Earth is actually Rigel, which we can tell by observing its apparent and absolute magnitudes. The distance equation from these two values is $d = 10^{\\frac{(m-M+5)}{5}}$, where $m$ is apparent magnitude and $M$ is absolute magnitude. Without even doing the calculation, we can tell by comparing the differences of $m-M$ between all the stars listed that this value is greatest for Rigel, and thus Rigel must be the furthest away from Earth.\n",
    "\n",
    "    #19. Original Answer: d, New Answer: b\n",
    "    - I originally said that the reason nuclear fusion requires such high temperatures and pressures is because \"temperature is a reflection of the kinetic energy of particles.\" This is not the best explanation as to *why* high temperatures are necessary for fusion, even though it's not necessarily wrong. The correct answer is b, \"to overcome their mutual electric repulsion,\" because this more accurately explains what the high temperatures and pressures are being used for. Protons must overcome their mutual electric repulsion in order to cause a fusion reaction, and this process requires these conditions.\n",
    "\n",
    "3. Short Answer Questions\n",
    "\n",
    "    1. Original Answer (-1: \"How does it do the things you described?\"): The \"solar thermostat\" is a concept meant to describe how the Sun is able to sustain self-regulation through a tight, negative feedback loop for fusion that prevents a runaway reaction from occuring. Additionally, the Sun maintains Hydrostatic Equilibrium, which prevents its gravitational collapse, as well as an Energy Balance between fusion and surface radiation. The Sun is getting gradually brighter because within its core, each nuclear fusion reaction releases Energy, causing the core to shrink and its temperature to tise, which increases the rate of fusion and thus causes an increase in brightness over time.\n",
    "        - New Answer: The Sun's solar thermostat is able to maintain hydrostatic equilibrium because the force of gravity, which is pulling inward on the star, is balanced by the the pressure coming from nuclear fusion in its core. These is how the solar thermostat actually works and prevents a star from continuously expanding from the force of fusion or continuously contracting due to gravity. \n",
    "\n",
    "    2. Original Answer (-2: only 1 reason given): There are more stars with masses less than / close to the mass of our Sun because there fundamentally must be more low-mass stars in the Universe than high-mass stars. This is because it takes less energy to form more massive stars, and because the cloud from which a star forms must have more mass.\n",
    "        - New Answer: The reason that there are more low mass stars is because molecular clouds is because A), molecular clouds require higher densities to create more massive stars, and this is less common, and thus the formation of less massive stars is favored (this is shown via the initial mass function). B), low mass stars live longer than high mass stars, since high mass stars burn through their fuel at a faster rate, and this leads to their being more low mass stars present in the universe over time.\n",
    "\n",
    "    3. Original Answer (-4): The lifespan of the first generation of stars was ...\n",
    "        - New Answer: The lifespan of the first generation of stars was likely shorter than modern stars, with lifetimes in the millions of years. This is due to the fact that population III stars would have had to be extremely massive, which shortens a star's lifespan because they will run through their fuel much faster. \n",
    "\n",
    "    4. b. (WD reason good, other bad. -3) Original Answer: One difference between the diagrams is that the Gaia diagram does not display white dwarfs well. This may be because they are simply harder to observe as they are dimmer. Another difference is that there is a slight difference in the actual shape of the data, which may be from the fact that the Gaia diagram is only a sample of data, which may cause the skewing from the HR model.\n",
    "        - New Answer: My second reason is incorrect since it is stated in the problem description that the data is not all from a single cluster, so we shouldn't consider inaccurate data as a significant reason for the graph's differences. A valid difference between these graphs is that the Gaia data is more dense for stars of bluer colors (lower wavelengths) than the standard HR diagram shows. This could mean that the Gaia data is observing a relatively younger population of stars, whereas the HR diagram illustrates a more uniform distribution."
   ]
  },
  {
   "cell_type": "markdown",
   "metadata": {},
   "source": [
    "####  4. Quantitative\n",
    "\n",
    "1. 1 (-12 total)\n",
    "- a. (-6) see code block.\n",
    "    - Explanation: My original answer is incorrect  \n",
    "- b. (-6) Original Answer (was cut off on original PDF file): My answers imply that the spectral designation of this star is around a G \n",
    "    - New Answer: My answers to part (a) suggest that the spectral designation of this mystery star with a luminosity of about 37 solar units, a radius about 1.5 larger than the Sun's, and a temperature of ~12000 K would have an $A$ spectral designation. The corresponding life expectancy of this kind of star is about $10^9$ years."
   ]
  },
  {
   "cell_type": "code",
   "execution_count": 18,
   "metadata": {},
   "outputs": [
    {
     "name": "stdout",
     "output_type": "stream",
     "text": [
      "T: 11591.087820740688 K\n",
      "L: 36.98982838578108 L_suns = 1.4159706306076997e+28 W\n",
      "R: 1.5081548201017698 R_suns = 1049223308.3448013 m \n"
     ]
    }
   ],
   "source": [
    "''' a. Original Answer\n",
    "\n",
    "λ_max = 250 * units.nm\n",
    "T = (constants.b_wien / λ_max).si # T was good\n",
    "\n",
    "alpha = (0.130 * units.arcsec).to(units.rad)\n",
    "d = 1*units.rad / alpha # bad\n",
    "\n",
    "I = 2e-8 * units.W / units.m**2\n",
    "L = (4*np.pi*(d**2) * I).si\n",
    "L = L / L_sun\n",
    "\n",
    "A = L / I\n",
    "\n",
    "R = (np.sqrt(A / (4*np.pi))).si \n",
    "R = R / R_sun # also bad\n",
    "\n",
    "print(T, L, R)\n",
    "'''\n",
    "\n",
    "'''New Answer\n",
    "d = 1 AU / α [rad]\n",
    "I = P/A = σT**4 --> A = L/(P/A) --> R = sqrt(A/4π)\n",
    "--> A = P / σT**4, or, L / σT**4\n",
    "--> R = sqrt(P/4πσT**4)\n",
    "'''\n",
    "λ_max = 250 * units.nm\n",
    "T = (constants.b_wien / λ_max).si\n",
    "\n",
    "α = (0.130 * units.arcsec).to(units.radian)\n",
    "x = (1 * units.AU)\n",
    "d = (x / α) * units.radian\n",
    "\n",
    "I = 2e-8 * units.W / units.m**2\n",
    "L = (4 * np.pi * (d**2) * I).si\n",
    "\n",
    "# A = (L / I).si\n",
    "# A = L / (sigma_sb * T**4)\n",
    "R = np.sqrt(L/(4 * np.pi * sigma_sb * T**4)).si\n",
    "# R = (np.sqrt(A / (4 * np.pi))).si \n",
    "L_s = (L / L_sun).to(units.dimensionless_unscaled)\n",
    "R_s = (R / R_sun).to(units.dimensionless_unscaled)\n",
    "\n",
    "print(f\"T: {T}\\nL: {L_s} L_suns = {L.to(units.W)}\\nR: {R_s} R_suns = {R.si} \")\n",
    "\n",
    "\n"
   ]
  },
  {
   "cell_type": "markdown",
   "metadata": {},
   "source": [
    "2. (-18, did not attempt)\n",
    "- see code blocks below"
   ]
  },
  {
   "cell_type": "code",
   "execution_count": 70,
   "metadata": {},
   "outputs": [
    {
     "name": "stdout",
     "output_type": "stream",
     "text": [
      "Mass 1: 50.27001325595759 solar masses\n",
      "Mass 2: 0.10054002651191518 solar masses\n"
     ]
    }
   ],
   "source": [
    "''' Part (a) \n",
    "v = 2πR / P\n",
    "(M_1 + M_2)*P**2 = R**3\n",
    "M_1/M_2 = v_2/v_1\n",
    "a = P/2pi*sqrt(v1^2+v2^2)\n",
    "'''\n",
    "P = 1 * units.yr\n",
    "v_1 = 0.22 * units.km / units.s \n",
    "v_2 = 110 * units.km / units.s \n",
    "α = (0.1 * units.arcsec).to(units.radian)\n",
    "\n",
    "\n",
    "# distance\n",
    "# x = (1 * units.AU)\n",
    "# d = (x / α)  * units.radian\n",
    "a = ((P / (2 * np.pi)) * np.sqrt(v_1**2 + v_2**2)).to(units.AU)\n",
    "v_ratio_m1_m2 = (v_2 / v_1).to(units.dimensionless_unscaled)\n",
    "\n",
    "G.to(units.AU**3 / (units.yr**2)) # solar masses\n",
    "m_sum = (4 * np.pi**2 * a**3) / (G * P**2)\n",
    "\n",
    "# M_2 = ((a**3) /(P**2 * (v_ratio_m1_m2+1)))\n",
    "\n",
    "# R_1 = ((v_1 * P) / (2*np.pi)).si\n",
    "# R_2 = ((v_2 * P) / (2*np.pi)).si\n",
    "# M_2.to(units.dimensionless_unscaled)\n",
    "M_2 = m_sum / (v_ratio_m1_m2 + 1)\n",
    "M_1 = m_sum - M_2\n",
    "print(f\"Mass 1: {M_1} solar masses\\nMass 2: {M_2} solar masses\")\n"
   ]
  },
  {
   "cell_type": "code",
   "execution_count": 72,
   "metadata": {},
   "outputs": [
    {
     "data": {
      "text/latex": [
       "$2.6666667 \\times 10^{14} \\; \\mathrm{yr}$"
      ],
      "text/plain": [
       "<Quantity 2.66666667e+14 yr>"
      ]
     },
     "execution_count": 72,
     "metadata": {},
     "output_type": "execute_result"
    }
   ],
   "source": [
    "''' (b)\n",
    "L is proportional to M^3.5 \n",
    "lifetime is inversely proportional to L\n",
    "'''\n",
    "L_1 = 8e5 * L_sun\n",
    "L_2 = 3e-3 * L_sun\n",
    "t_born = 1e6 * units.yr\n",
    "\n",
    "L_ratio = (L_1 / L_2).to(units.dimensionless_unscaled)\n",
    "lifetime_2 = L_ratio * t_born\n",
    "lifetime_2 \n"
   ]
  },
  {
   "cell_type": "markdown",
   "metadata": {},
   "source": [
    "**In Recitation Corrections 10/17/23**\n",
    "\n",
    "4.2.1. semimajor axis is distance to center of mass PLUS smaller star's orbital radius\n",
    "- $a = r_1 + r_2$\n",
    "- think of a semimajor axis of an ellipse. Or, think of finding the value for R for finding a disk (calc 2). You do R2 - R1 to get the distance between the outer edge of the smaller circle and inner edge of outer sircle. Same \"picture\", but we do it from far edge to far edge.\n",
    "\n",
    "4.2.2. lifetime is proportional to (M1/L1) / (M2/L2), not just the ratios of luminosity\n"
   ]
  }
 ],
 "metadata": {
  "kernelspec": {
   "display_name": "Python 3 (ipykernel)",
   "language": "python",
   "name": "python3"
  },
  "language_info": {
   "codemirror_mode": {
    "name": "ipython",
    "version": 3
   },
   "file_extension": ".py",
   "mimetype": "text/x-python",
   "name": "python",
   "nbconvert_exporter": "python",
   "pygments_lexer": "ipython3",
   "version": "3.10.0"
  }
 },
 "nbformat": 4,
 "nbformat_minor": 4
}
