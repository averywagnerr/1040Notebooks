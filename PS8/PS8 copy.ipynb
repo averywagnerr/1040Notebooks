{
 "cells": [
  {
   "cell_type": "markdown",
   "metadata": {},
   "source": [
    "# ASTR 1040 Problem Set 8\n",
    "\n",
    "The first cell (below) contains lots of helpful constants you may need to use throughout the semester. Make sure to run it each time before you start working! \n",
    "\n",
    "For reference, all of the `astropy` constants as well as examples can be found [here](https://docs.astropy.org/en/stable/constants/index.html). Likewise all of the units and their names / how to access them can be found [here](https://docs.astropy.org/en/stable/units/index.html). \n",
    "\n",
    "To create a variable with units you need to multiply by the corresponding unit class:\n",
    "\n",
    "```python\n",
    "d = 1 * units.au\n",
    "```\n",
    "\n",
    "You can then convert unitful quantities to other units by calling the `to` method and passing the desired end unit class: \n",
    "\n",
    "```python\n",
    "d_m = d.to(units.m)\n",
    "```\n",
    "\n",
    "If you have a ratio of quanities where all the units should cancel out, you can obtain the dimensionles number using the `dimesionless_unscaled` method. For example writing:\n",
    "```python\n",
    "d_m/d\n",
    "``` \n",
    "yields $1.4959787\\times 10^{11} \\rm{\\frac{m}{AU}}$, but doing:\n",
    "```python\n",
    "(d_m/d).to(units.dimensionless_unscaled)\n",
    "```\n",
    "returns `1.0` as expected."
   ]
  },
  {
   "cell_type": "code",
   "execution_count": 1,
   "metadata": {},
   "outputs": [],
   "source": [
    "#SETUP CELL (modify at your own peril)\n",
    "from astropy import units #access units by doing units.<unit> (i.e. units.au)\n",
    "from astropy import constants\n",
    "import numpy as np #common math functions (i.e. np.sin(x)) and better arrays (i.e. np.array([1,2,3])\n",
    "import matplotlib.pyplot as plt #plotting functions (i.e. plt.plot(x,y))\n",
    "G = constants.G # gravitational constant\n",
    "M_sun = constants.M_sun # mass of the sun\n",
    "R_sun = constants.R_sun # radius of the sun\n",
    "L_sun = constants.L_sun # luminosity of the sun\n",
    "M_earth = constants.M_earth # mass of the earth\n",
    "R_earth = constants.R_earth # radius of the earth\n",
    "M_jup = constants.M_jup # mass of jupiter\n",
    "R_jup = constants.R_jup # radius of jupiter\n",
    "sigma_sb = constants.sigma_sb # Stefan-Boltzmann constant\n",
    "b_wien = constants.b_wien # Wien's displacement constant\n",
    "c = constants.c # speed of light\n",
    "h = constants.h # Planck constant\n",
    "k_B = constants.k_B # Boltzmann constant\n",
    "m_e = constants.m_e # mass of electron\n",
    "m_p = constants.m_p # mass of proton \n",
    "m_n = constants.m_n # mass of neutron (basically just the mass of a proton but whatever)\n",
    "g0 = constants.g0 # standard gravity, 9.8 m/s^2\n",
    "e = constants.e # absolute value of electron/proton charge"
   ]
  },
  {
   "cell_type": "markdown",
   "metadata": {},
   "source": [
    "## Problem 1: Recent results from JWST [20 points]\n",
    "\n",
    "Read this [astrobites article](https://astrobites.org/2022/09/03/jwst-takes-a-peek-at-the-first-ever-galaxies/), and in a few sentences, summarize what the main result is of the paper described and why that result is surprising astronomers: "
   ]
  },
  {
   "cell_type": "markdown",
   "metadata": {},
   "source": [
    "This article discusses how new JWST data from the SMACS 0723 galaxy cluster is being used to measure and analyze the morphology of its galaxies, and what this means for our current model of the Universe. What JWST found contradicts the previous results from Hubble; while Hubble predicted that the amount of disk shaped galaxies would only make up about 10% of all galaxies at redshifts between 3 and 6, JWST discovered that actually, over 50% of galaxies at these redshift values are disks. This data suggests that disk-shaped galaxies have been living in a stable state for much longer than previously thought –– over 10 billion years. These new findings challenge the previous model of the Universe, and are forcing scientists to rethink how galaxies are formed, and how galaxy mergers actually work. Understanding galaxy formation is a crucial building block for modeling the Universe, so these new findings are essential in reshaping what we thought we knew."
   ]
  },
  {
   "cell_type": "markdown",
   "metadata": {},
   "source": [
    "## Problem 2: High-z redshifts and looking back in time [50 points]\n",
    "\n",
    "Suppose a galaxy observed with a redshift $z = 8$. \n",
    "\n",
    "### a) Back of the envelope age of the universe. [10 points]\n",
    "Current values for the local Hubble constant $H_0$ are roughly 70 km/s/Mpc. Use this to provide a rough estimate for the age of the universe, in billions of years. \n"
   ]
  },
  {
   "cell_type": "markdown",
   "metadata": {},
   "source": [
    "\n",
    "*Hint: Think about Hubble's law and/or the units of $H_0$*\n"
   ]
  },
  {
   "cell_type": "code",
   "execution_count": 86,
   "metadata": {},
   "outputs": [
    {
     "name": "stdout",
     "output_type": "stream",
     "text": [
      "13.968460309725558 Gyr\n"
     ]
    }
   ],
   "source": [
    "H_0 = 70 * (units.km / units.s) / units.Mpc\n",
    "age = (1 / H_0).to(units.Gyr)\n",
    "print(age)"
   ]
  },
  {
   "cell_type": "markdown",
   "metadata": {},
   "source": [
    "\n",
    "### b) What is the recession velocity of a galaxy at $z=8$? [10 points]\n",
    "\n",
    "Provide your answer in terms of the speed of light, $c$. \n"
   ]
  },
  {
   "cell_type": "code",
   "execution_count": 61,
   "metadata": {},
   "outputs": [
    {
     "name": "stdout",
     "output_type": "stream",
     "text": [
      "v = 0.9756 * c\n"
     ]
    }
   ],
   "source": [
    "# v / c ≈ z == (λ_measured - λ_rest) / λ_rest\n",
    "# v / c = (1+z)^2 - 1 / (1+z)^2 + 1\n",
    "# v = H_0*d = a galaxy's recession velocity is proportional to its distance away\n",
    "\n",
    "z = 8\n",
    "stretch = ((1+z)**2 - 1) / ((1+z)**2 + 1)\n",
    "# d = ((stretch) / H_0).si \n",
    "# print(f\"v = {v} * c\")\n",
    "# v = (H_0 * (stretch)).si\n",
    "v = (stretch*c)\n",
    "print(f\"v = {v/c:.4f} * c\")\n"
   ]
  },
  {
   "cell_type": "markdown",
   "metadata": {},
   "source": [
    "\n",
    "### c) According to Hubble's law, how far away was the galaxy when it emitted its light? [10 points]\n",
    "\n",
    "Provide your answer in billions of lightyears, using $H_0 \\approx 70 \\frac{\\rm{km/s}}{\\rm{Mpc}}$.\n"
   ]
  },
  {
   "cell_type": "markdown",
   "metadata": {},
   "source": [
    "**Hubble's Law**: $\\dfrac{v}{c} = \\dfrac{(1+z)^2-1}{(1+z)^2+1}$"
   ]
  },
  {
   "cell_type": "code",
   "execution_count": 105,
   "metadata": {},
   "outputs": [
    {
     "name": "stdout",
     "output_type": "stream",
     "text": [
      "13.627766155829812 Glyr\n"
     ]
    }
   ],
   "source": [
    "# v is recession velocity from hubble's law equation\n",
    "# v = H_0 * d \n",
    "# => d = v / H_0\n",
    "\n",
    "d = (v / H_0).to(units.Glyr) \n",
    "print(d)"
   ]
  },
  {
   "cell_type": "markdown",
   "metadata": {},
   "source": [
    "\n",
    "### d) How long ago was the light from that galaxy emitted? [10 points]\n",
    "\n",
    "Provide your answer in billions of years.\n"
   ]
  },
  {
   "cell_type": "code",
   "execution_count": 106,
   "metadata": {},
   "outputs": [
    {
     "name": "stdout",
     "output_type": "stream",
     "text": [
      "13.968460309725558 Gyr\n"
     ]
    }
   ],
   "source": [
    "# should be pretty close to age of universe (?)\n",
    "t = (d / v).to(units.Gyr)\n",
    "print(t)"
   ]
  },
  {
   "cell_type": "markdown",
   "metadata": {},
   "source": [
    "\n",
    "### e) What was the age of the universe when that light was emitted? [10 points]\n",
    "\n",
    "Provide your answer in millions of years. \n",
    "\n",
    "*Note: We are pushing the limits of relativity and linear calculations with this problem. Our answers are good for a back of the envelope calculation, but in general for $z > 1$ it is a best practice to use general relativity to properly account for the expansion of space over time to correctly answer the question (but that's beyond the scope of this class).*"
   ]
  },
  {
   "cell_type": "code",
   "execution_count": 107,
   "metadata": {},
   "outputs": [
    {
     "data": {
      "text/latex": [
       "$0 \\; \\mathrm{yr}$"
      ],
      "text/plain": [
       "<Quantity 0. yr>"
      ]
     },
     "execution_count": 107,
     "metadata": {},
     "output_type": "execute_result"
    }
   ],
   "source": [
    "# think of distances as \"lookback time\" \n",
    "# Hubble constant is a function of time: H(t)\n",
    "\n",
    "(age-t).to(units.yr)"
   ]
  },
  {
   "cell_type": "markdown",
   "metadata": {},
   "source": [
    "## Problem 3: Type 1a Supernovae [30 points]\n",
    "\n",
    "Type 1a supernovae are one of the most valuable \"standard candles\" in galactic astronomy, because they are bright enough to be detected from billions of light years away! Thus they are the most accurate method to determine the distance to deep-space galaxies.\n",
    "\n",
    "Below is a plot of a type 1a supernova spectrum taken from real data! \n",
    "\n",
    "![type1a supernova](https://upload.wikimedia.org/wikipedia/commons/thumb/2/25/SN1998aq_max_spectra.svg/1280px-SN1998aq_max_spectra.svg.png)\n",
    "\n",
    "[Link to plot in case it doesn't display in your Jupyter notebook](https://upload.wikimedia.org/wikipedia/commons/thumb/2/25/SN1998aq_max_spectra.svg/1280px-SN1998aq_max_spectra.svg.png)\n",
    "\n",
    "Fun fact &mdash; this supernova had an absolute magnitude of almost -20, which is about the same as the estimated brightness of the entire Milky Way!\n",
    "\n",
    "### a) What type of light is being emitted? [10 points]\n",
    "\n",
    "*Hint: make a rough estimate. Where is the peak of the emission? Note the units of wavelength axis of the plot are in $\\mathring{A}$, where one Angstrom 10 $\\mathring{A}$ = 1 nm*.\n"
   ]
  },
  {
   "cell_type": "code",
   "execution_count": 113,
   "metadata": {},
   "outputs": [
    {
     "name": "stdout",
     "output_type": "stream",
     "text": [
      "λ_rest peaks at about 400.0 nm, which is on the cusp of violet visible light and UV light on the EM spectrum.\n"
     ]
    }
   ],
   "source": [
    "# peaks at about ~4000 Å \n",
    "λ_rest = (4000 * units.angstrom).to(units.nm)\n",
    "print(f\"λ_rest peaks at about {λ_rest}, which is on the cusp of violet visible light and UV light on the EM spectrum.\")"
   ]
  },
  {
   "cell_type": "markdown",
   "metadata": {},
   "source": [
    "\n",
    "\n",
    "### b) If we observed this supernova in a galaxy at z = 2, what type of light would we receive? [10 points]\n",
    "\n",
    "What would you expect the peak wavelength of emission to be and what part of the spectrum is this? \n"
   ]
  },
  {
   "cell_type": "code",
   "execution_count": 117,
   "metadata": {},
   "outputs": [
    {
     "name": "stdout",
     "output_type": "stream",
     "text": [
      "∆λ = 800.0 nm, which is infrared light.\n"
     ]
    }
   ],
   "source": [
    "# z = ∆λ / λ_rest_peak \n",
    "# ∆λ = z * λ_rest_peak\n",
    "z = 2\n",
    "dλ = lambda z, λ: z * λ\n",
    "dλ_2 = dλ(z, λ_rest)\n",
    "print(f\"∆λ = {dλ_2}, which is infrared light.\")"
   ]
  },
  {
   "cell_type": "markdown",
   "metadata": {},
   "source": [
    "\n",
    "### c) Can JWST see faint supernovae? [10 points]\n",
    "\n",
    "Suppose we want to be able to see type 1a supernovae in at least $z = 10$ galaxies. What wavelength regime should we concentrate on? JWST has an observing range of $0.6 \\mu\\rm{m}$ to $28.5 \\mu \\rm{m}$ &mdash; is this appropriate for observing high-z type 1a supernovae? "
   ]
  },
  {
   "cell_type": "code",
   "execution_count": 124,
   "metadata": {},
   "outputs": [
    {
     "data": {
      "text/latex": [
       "$4 \\; \\mathrm{\\mu m}$"
      ],
      "text/plain": [
       "<Quantity 4. um>"
      ]
     },
     "execution_count": 124,
     "metadata": {},
     "output_type": "execute_result"
    }
   ],
   "source": [
    "z = 10\n",
    "dλ_10 = dλ(z, λ_rest)\n",
    "dλ_10.to(units.micrometer)\n"
   ]
  },
  {
   "cell_type": "markdown",
   "metadata": {},
   "source": [
    "At $4 \\mu \\rm{m}$, we should focus on infrared wavelengths if we want to observe 1a supernovae in $z=10$ galaxies. This value falls within JWST's observing range, so it should be capable of observing high-z type 1a supernovae."
   ]
  }
 ],
 "metadata": {
  "kernelspec": {
   "display_name": "Python 3 (ipykernel)",
   "language": "python",
   "name": "python3"
  },
  "language_info": {
   "codemirror_mode": {
    "name": "ipython",
    "version": 3
   },
   "file_extension": ".py",
   "mimetype": "text/x-python",
   "name": "python",
   "nbconvert_exporter": "python",
   "pygments_lexer": "ipython3",
   "version": "3.11.5"
  }
 },
 "nbformat": 4,
 "nbformat_minor": 2
}
